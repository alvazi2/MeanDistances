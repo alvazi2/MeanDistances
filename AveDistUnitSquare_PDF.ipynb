{
 "cells": [
  {
   "attachments": {},
   "cell_type": "markdown",
   "metadata": {},
   "source": [
    "## Average distance in unit square - via probability density function for the distance\n",
    "Approach is to determine the probability density function (pdf) for the squared distance, and from that the pdf for the distance\n",
    "\n",
    "This results in an analytical explicit expression for the desired pdf. \n",
    "\n",
    "From that pdf, calculate the avarage distance\n",
    "\n",
    "Sympy can handle all these analytical calculations"
   ]
  },
  {
   "cell_type": "code",
   "execution_count": 48,
   "metadata": {},
   "outputs": [],
   "source": [
    "import sympy\n",
    "from sympy import *\n",
    "x, y, s, sq = symbols('x y s sq', positive=True) #, real=True)"
   ]
  },
  {
   "attachments": {},
   "cell_type": "markdown",
   "metadata": {},
   "source": [
    "## 1 Random distances on unit interval\n",
    "Assume a random point $x$ on unit interval [0,1] and uniform probability density $pd_1(x) = \\theta(x) \\theta(1-x)$, where $\\theta(x)$ is the step function (Heaviside function)."
   ]
  },
  {
   "cell_type": "code",
   "execution_count": 49,
   "metadata": {},
   "outputs": [
    {
     "data": {
      "text/latex": [
       "$\\displaystyle \\left( x \\mapsto \\theta\\left(1 - x\\right) \\right)$"
      ],
      "text/plain": [
       "Lambda(x, Heaviside(1 - x))"
      ]
     },
     "execution_count": 49,
     "metadata": {},
     "output_type": "execute_result"
    }
   ],
   "source": [
    "# Note: declaring s as always positive above impacts step function calculations below\n",
    "pd1 = Lambda(x, Heaviside(x) * Heaviside(1-x))\n",
    "pd1"
   ]
  },
  {
   "attachments": {},
   "cell_type": "markdown",
   "metadata": {},
   "source": [
    "Calculate probability density of distance $s = abs(x-y)$. Assuming a positive s only, need factor of 2 because each absolute value of $s$ can be realized in two ways. The probability density is given by $\\int_{0}^{1} 2 pd_1(x) pd_1(s+x) dx$ (convolution)."
   ]
  },
  {
   "cell_type": "code",
   "execution_count": 50,
   "metadata": {},
   "outputs": [
    {
     "data": {
      "text/latex": [
       "$\\displaystyle \\left( s \\mapsto 2 \\cdot \\left(1 - s\\right) \\theta\\left(1 - s\\right) \\right)$"
      ],
      "text/plain": [
       "Lambda(s, 2*(1 - s)*Heaviside(1 - s))"
      ]
     },
     "execution_count": 50,
     "metadata": {},
     "output_type": "execute_result"
    }
   ],
   "source": [
    "PD1_S = Lambda(s, 2*integrate(pd1(x)*pd1(s+x),(x,0,1))).simplify()\n",
    "PD1_S       "
   ]
  },
  {
   "cell_type": "code",
   "execution_count": 51,
   "metadata": {},
   "outputs": [
    {
     "data": {
      "text/latex": [
       "$\\displaystyle \\left( s \\mapsto 2 - 2 s \\right)$"
      ],
      "text/plain": [
       "Lambda(s, 2 - 2*s)"
      ]
     },
     "execution_count": 51,
     "metadata": {},
     "output_type": "execute_result"
    }
   ],
   "source": [
    "# remove the step function, assuming that argument is always in [0..1], so value always 1\n",
    "PD1_S = Lambda(s, PD1_S(s).subs(Heaviside(1-s),1))\n",
    "PD1_S"
   ]
  },
  {
   "cell_type": "code",
   "execution_count": 52,
   "metadata": {},
   "outputs": [
    {
     "data": {
      "text/latex": [
       "$\\displaystyle 1$"
      ],
      "text/plain": [
       "1"
      ]
     },
     "execution_count": 52,
     "metadata": {},
     "output_type": "execute_result"
    }
   ],
   "source": [
    "# Verify that total cumulated probabity is 1\n",
    "integrate(PD1_S(s), (s,0,1))"
   ]
  },
  {
   "cell_type": "code",
   "execution_count": 53,
   "metadata": {},
   "outputs": [
    {
     "data": {
      "image/png": "[encoded data removed]",
      "text/plain": [
       "<Figure size 640x480 with 1 Axes>"
      ]
     },
     "metadata": {},
     "output_type": "display_data"
    },
    {
     "data": {
      "text/plain": [
       "<sympy.plotting.plot.Plot at 0x1069f44d0>"
      ]
     },
     "execution_count": 53,
     "metadata": {},
     "output_type": "execute_result"
    }
   ],
   "source": [
    "plot(PD1_S(s), (s, 0, 1))"
   ]
  },
  {
   "cell_type": "code",
   "execution_count": 54,
   "metadata": {},
   "outputs": [
    {
     "data": {
      "text/latex": [
       "$\\displaystyle \\frac{1}{3}$"
      ],
      "text/plain": [
       "1/3"
      ]
     },
     "execution_count": 54,
     "metadata": {},
     "output_type": "execute_result"
    }
   ],
   "source": [
    "# Calculate mean length on unit interval using the probability distribution\n",
    "MeanDistance1_S = integrate(PD1_S(s)*s, (s,0,1))\n",
    "MeanDistance1_S"
   ]
  },
  {
   "cell_type": "code",
   "execution_count": 55,
   "metadata": {},
   "outputs": [
    {
     "data": {
      "text/latex": [
       "$\\displaystyle \\frac{1}{3}$"
      ],
      "text/plain": [
       "1/3"
      ]
     },
     "execution_count": 55,
     "metadata": {},
     "output_type": "execute_result"
    }
   ],
   "source": [
    "# As a check, calculate mean length directly as double integral over random points on unit line\n",
    "integrate(abs(x-y), (x,0,1), (y,0,1))"
   ]
  },
  {
   "cell_type": "code",
   "execution_count": 56,
   "metadata": {},
   "outputs": [
    {
     "data": {
      "text/latex": [
       "$\\displaystyle \\frac{1}{18}$"
      ],
      "text/plain": [
       "1/18"
      ]
     },
     "execution_count": 56,
     "metadata": {},
     "output_type": "execute_result"
    }
   ],
   "source": [
    "# calculate variance\n",
    "Variance1_S = integrate(PD1_S(s)*(s-MeanDistance1_S)**2, (s,0,1))\n",
    "Variance1_S"
   ]
  },
  {
   "cell_type": "code",
   "execution_count": 57,
   "metadata": {},
   "outputs": [
    {
     "data": {
      "text/latex": [
       "$\\displaystyle \\frac{1}{18}$"
      ],
      "text/plain": [
       "1/18"
      ]
     },
     "execution_count": 57,
     "metadata": {},
     "output_type": "execute_result"
    }
   ],
   "source": [
    "# Check by direct integration\n",
    "integrate((abs(x-y)-MeanDistance1_S)**2, (x,0,1), (y,0,1))"
   ]
  },
  {
   "cell_type": "code",
   "execution_count": 58,
   "metadata": {},
   "outputs": [],
   "source": [
    "# calculate standard deviation"
   ]
  },
  {
   "cell_type": "code",
   "execution_count": 59,
   "metadata": {},
   "outputs": [
    {
     "data": {
      "text/latex": [
       "$\\displaystyle \\frac{\\sqrt{2}}{6}$"
      ],
      "text/plain": [
       "sqrt(2)/6"
      ]
     },
     "execution_count": 59,
     "metadata": {},
     "output_type": "execute_result"
    }
   ],
   "source": [
    "StDev1_S = sqrt(Variance1_S)\n",
    "StDev1_S"
   ]
  },
  {
   "cell_type": "code",
   "execution_count": 60,
   "metadata": {},
   "outputs": [
    {
     "data": {
      "text/latex": [
       "$\\displaystyle 0.235702260395516$"
      ],
      "text/plain": [
       "0.235702260395516"
      ]
     },
     "execution_count": 60,
     "metadata": {},
     "output_type": "execute_result"
    }
   ],
   "source": [
    "StDev1_S.evalf()"
   ]
  },
  {
   "cell_type": "code",
   "execution_count": 61,
   "metadata": {},
   "outputs": [
    {
     "data": {
      "text/latex": [
       "$\\displaystyle \\frac{1}{6}$"
      ],
      "text/plain": [
       "1/6"
      ]
     },
     "execution_count": 61,
     "metadata": {},
     "output_type": "execute_result"
    }
   ],
   "source": [
    "# calculate mean Square distance\n",
    "MeanSquareDistance1 = integrate(PD1_S(s)*s**2, (s,0,1))\n",
    "MeanSquareDistance1"
   ]
  },
  {
   "attachments": {},
   "cell_type": "markdown",
   "metadata": {},
   "source": [
    "Now determine the probability density of $s^2$. Follow theorem 14 (transformation of a random variable) in https://imai.fas.harvard.edu/teaching/files/Expectation.pdf: \n",
    "$$f_y(y) = f_x(g^{-1}(y))\\left|{\\frac{d}{dy} g^{-1}(y)}\\right|$$\n",
    "where $f_x(x)$ is the probability density of $x$, $g(x)$ is the transformation function $y = g(x)$, and $f_y(y)$ is the resulting probability density of $y$. Here we have the transformation function $g(x) = x^2$, with the inverse  function $g^{-1}(y) = \\sqrt{y}$"
   ]
  },
  {
   "cell_type": "code",
   "execution_count": 62,
   "metadata": {},
   "outputs": [
    {
     "data": {
      "text/latex": [
       "$\\displaystyle \\left( s \\mapsto \\sqrt{s} \\right)$"
      ],
      "text/plain": [
       "Lambda(s, sqrt(s))"
      ]
     },
     "execution_count": 62,
     "metadata": {},
     "output_type": "execute_result"
    }
   ],
   "source": [
    "# Inverse of Square (inverse of mapping (transformation) function)\n",
    "SqMapInverse = Lambda(s, sqrt(s))\n",
    "SqMapInverse"
   ]
  },
  {
   "cell_type": "code",
   "execution_count": 63,
   "metadata": {},
   "outputs": [
    {
     "data": {
      "text/latex": [
       "$\\displaystyle \\left( y \\mapsto \\frac{2 - 2 \\sqrt{y}}{2 \\sqrt{y}} \\right)$"
      ],
      "text/plain": [
       "Lambda(y, (2 - 2*sqrt(y))/(2*sqrt(y)))"
      ]
     },
     "execution_count": 63,
     "metadata": {},
     "output_type": "execute_result"
    }
   ],
   "source": [
    "# Probability density function of y = s^2\n",
    "PD1_Sq = Lambda(y, PD1_S(SqMapInverse(y)) * (diff(SqMapInverse(y))))\n",
    "PD1_Sq"
   ]
  },
  {
   "cell_type": "code",
   "execution_count": 64,
   "metadata": {},
   "outputs": [
    {
     "data": {
      "text/latex": [
       "$\\displaystyle \\left( y \\mapsto -1 + \\frac{1}{\\sqrt{y}} \\right)$"
      ],
      "text/plain": [
       "Lambda(y, -1 + 1/sqrt(y))"
      ]
     },
     "execution_count": 64,
     "metadata": {},
     "output_type": "execute_result"
    }
   ],
   "source": [
    "PD1_Sq = PD1_Sq.factor()\n",
    "PD1_Sq"
   ]
  },
  {
   "cell_type": "code",
   "execution_count": 65,
   "metadata": {},
   "outputs": [
    {
     "data": {
      "text/latex": [
       "$\\displaystyle 1$"
      ],
      "text/plain": [
       "1"
      ]
     },
     "execution_count": 65,
     "metadata": {},
     "output_type": "execute_result"
    }
   ],
   "source": [
    "# verify that total cumulative probability is 1 (step function substituted to 1 as always 1 in domain)\n",
    "integrate(PD1_Sq(y), (y,0,1))"
   ]
  },
  {
   "cell_type": "code",
   "execution_count": 66,
   "metadata": {},
   "outputs": [
    {
     "data": {
      "text/latex": [
       "$\\displaystyle \\frac{1}{6}$"
      ],
      "text/plain": [
       "1/6"
      ]
     },
     "execution_count": 66,
     "metadata": {},
     "output_type": "execute_result"
    }
   ],
   "source": [
    "# verify that mean value of y = s^2 is 1/6\n",
    "integrate(PD1_Sq(y)*y, (y,0,1))"
   ]
  },
  {
   "cell_type": "code",
   "execution_count": 67,
   "metadata": {},
   "outputs": [
    {
     "data": {
      "text/latex": [
       "$\\displaystyle \\frac{7}{180}$"
      ],
      "text/plain": [
       "7/180"
      ]
     },
     "execution_count": 67,
     "metadata": {},
     "output_type": "execute_result"
    }
   ],
   "source": [
    "# Variance of y = s^2\n",
    "Variance1_Sq = integrate(PD1_Sq(y)*(y-MeanSquareDistance1)**2, (y,0,1))\n",
    "Variance1_Sq"
   ]
  },
  {
   "cell_type": "code",
   "execution_count": 68,
   "metadata": {},
   "outputs": [
    {
     "data": {
      "text/latex": [
       "$\\displaystyle \\frac{\\sqrt{35}}{30}$"
      ],
      "text/plain": [
       "sqrt(35)/30"
      ]
     },
     "execution_count": 68,
     "metadata": {},
     "output_type": "execute_result"
    }
   ],
   "source": [
    "# standard deviation\n",
    "StdDev1_Sq = sqrt(Variance1_Sq)\n",
    "StdDev1_Sq"
   ]
  },
  {
   "cell_type": "code",
   "execution_count": 69,
   "metadata": {},
   "outputs": [
    {
     "data": {
      "text/latex": [
       "$\\displaystyle 0.197202659436654$"
      ],
      "text/plain": [
       "0.197202659436654"
      ]
     },
     "execution_count": 69,
     "metadata": {},
     "output_type": "execute_result"
    }
   ],
   "source": [
    "StdDev1_Sq.evalf()"
   ]
  },
  {
   "cell_type": "code",
   "execution_count": 70,
   "metadata": {},
   "outputs": [
    {
     "data": {
      "image/png": "[encoded data removed]",
      "text/plain": [
       "<Figure size 640x480 with 1 Axes>"
      ]
     },
     "metadata": {},
     "output_type": "display_data"
    },
    {
     "data": {
      "text/plain": [
       "<sympy.plotting.plot.Plot at 0x12260eea0>"
      ]
     },
     "execution_count": 70,
     "metadata": {},
     "output_type": "execute_result"
    }
   ],
   "source": [
    "plot(PD1_Sq(s), (s,0,1))"
   ]
  },
  {
   "attachments": {},
   "cell_type": "markdown",
   "metadata": {},
   "source": [
    "### 2 Random distances in unit square\n",
    "\n",
    "A random distance $s$ in a unit square is calculated from $s^2 = s_x^2 + s_y^2$, where $s_x$ and $s_y$ are both following the probability density function $pds_1$ calculated above for a distance in the unit inverval. Furthermore, we have also the probability density function $pdsq_1$ for the squared distance, and we can use that to calculate the probability density $pdsq_2(sq)$ for $sq = s^2$ as:\n",
    "\n",
    "$$pdsq_2(sq) = \\int_{0}^{sq} pdsq_1(x) \\theta(1-x) pdsq_1(sq-x) \\theta(1-sq+x) dx$$\n",
    "\n",
    "The upper integration limit must be $sq$ as the square can never be negative, and more precisely, must be $min(1,sq)$ as $sq$ can be $> 1$ (and $< 2$), but argument of $pdsq_1$ must be in [0,1]. The step functions ensure that the arguments of the probability density function are within the relevant domain."
   ]
  },
  {
   "cell_type": "code",
   "execution_count": 71,
   "metadata": {},
   "outputs": [
    {
     "data": {
      "text/latex": [
       "$\\displaystyle \\left( sq \\mapsto - \\left(2 \\sqrt{sq} - 2 \\sqrt{sq - 1} - \\left(sq - 4 \\sqrt{sq - 1} - 2 \\operatorname{asin}{\\left(\\frac{1}{\\sqrt{sq}} \\right)} + 2 \\operatorname{asin}{\\left(\\frac{\\sqrt{sq - 1}}{\\sqrt{sq}} \\right)} + 2\\right) \\theta\\left(2 - sq\\right) - 2 \\operatorname{asin}{\\left(\\frac{1}{\\sqrt{sq}} \\right)} + 1\\right) \\theta\\left(1 - sq\\right) - \\left(sq - 4 \\sqrt{sq - 1} - 2 \\operatorname{asin}{\\left(\\frac{1}{\\sqrt{sq}} \\right)} + 2 \\operatorname{asin}{\\left(\\frac{\\sqrt{sq - 1}}{\\sqrt{sq}} \\right)} + 2\\right) \\theta\\left(2 - sq\\right) + \\left(- 2 \\sqrt{sq} + sq - 2 \\sqrt{sq - 1} - 2 \\operatorname{asin}{\\left(\\frac{1}{\\sqrt{sq}} \\right)} + 1 + \\pi\\right) \\theta\\left(1 - sq\\right) \\right)$"
      ],
      "text/plain": [
       "Lambda(sq, -(2*sqrt(sq) - 2*sqrt(sq - 1) - (sq - 4*sqrt(sq - 1) - 2*asin(1/sqrt(sq)) + 2*asin(sqrt(sq - 1)/sqrt(sq)) + 2)*Heaviside(2 - sq) - 2*asin(1/sqrt(sq)) + 1)*Heaviside(1 - sq) - (sq - 4*sqrt(sq - 1) - 2*asin(1/sqrt(sq)) + 2*asin(sqrt(sq - 1)/sqrt(sq)) + 2)*Heaviside(2 - sq) + (-2*sqrt(sq) + sq - 2*sqrt(sq - 1) - 2*asin(1/sqrt(sq)) + 1 + pi)*Heaviside(1 - sq))"
      ]
     },
     "execution_count": 71,
     "metadata": {},
     "output_type": "execute_result"
    }
   ],
   "source": [
    "# Calculate probability density function of s^2 = x+y, where s is the two-dim distance\n",
    "# Note that upper integration limit must be sq as square can never be negative, and\n",
    "# more precisely, must be min(1,sq) as sq can be > 1 (< 2), but argument of PD_Sq must be in [0,1]\n",
    "PD2_Sq = Lambda(sq, Integral(PD1_Sq(x)*Heaviside(1-x)*PD1_Sq(sq-x)*Heaviside(1-sq+x),(x,0,sq)).doit())\n",
    "PD2_Sq"
   ]
  },
  {
   "cell_type": "code",
   "execution_count": 72,
   "metadata": {},
   "outputs": [
    {
     "data": {
      "image/png": "[encoded data removed]",
      "text/plain": [
       "<Figure size 640x480 with 1 Axes>"
      ]
     },
     "metadata": {},
     "output_type": "display_data"
    },
    {
     "data": {
      "text/plain": [
       "<sympy.plotting.plot.Plot at 0x1225da2d0>"
      ]
     },
     "execution_count": 72,
     "metadata": {},
     "output_type": "execute_result"
    }
   ],
   "source": [
    "plot(PD2_Sq(sq), (sq,0,2))"
   ]
  },
  {
   "cell_type": "code",
   "execution_count": 73,
   "metadata": {},
   "outputs": [
    {
     "data": {
      "text/latex": [
       "$\\displaystyle - 4 \\sqrt{sq} + sq + \\pi$"
      ],
      "text/plain": [
       "-4*sqrt(sq) + sq + pi"
      ]
     },
     "execution_count": 73,
     "metadata": {},
     "output_type": "execute_result"
    }
   ],
   "source": [
    "# for 0 < sq < 1:\n",
    "PD2_sq_a = (PD2_Sq(sq).subs(Heaviside(1-sq),1).subs(Heaviside(2-sq),1))\n",
    "PD2_sq_a"
   ]
  },
  {
   "cell_type": "code",
   "execution_count": 74,
   "metadata": {},
   "outputs": [
    {
     "data": {
      "text/latex": [
       "$\\displaystyle - sq + 4 \\sqrt{sq - 1} + 2 \\operatorname{asin}{\\left(\\frac{1}{\\sqrt{sq}} \\right)} - 2 \\operatorname{asin}{\\left(\\frac{\\sqrt{sq - 1}}{\\sqrt{sq}} \\right)} - 2$"
      ],
      "text/plain": [
       "-sq + 4*sqrt(sq - 1) + 2*asin(1/sqrt(sq)) - 2*asin(sqrt(sq - 1)/sqrt(sq)) - 2"
      ]
     },
     "execution_count": 74,
     "metadata": {},
     "output_type": "execute_result"
    }
   ],
   "source": [
    "# for 1 < sq < 2:\n",
    "PD2_sq_b = (PD2_Sq(sq).subs(Heaviside(1-sq),0).subs(Heaviside(2-sq),1))\n",
    "PD2_sq_b"
   ]
  },
  {
   "cell_type": "code",
   "execution_count": 75,
   "metadata": {},
   "outputs": [
    {
     "data": {
      "text/latex": [
       "$\\displaystyle \\pi$"
      ],
      "text/plain": [
       "pi"
      ]
     },
     "execution_count": 75,
     "metadata": {},
     "output_type": "execute_result"
    }
   ],
   "source": [
    "# value at sq = 0\n",
    "PD2_sq_a.subs(sq,0)"
   ]
  },
  {
   "cell_type": "code",
   "execution_count": 76,
   "metadata": {},
   "outputs": [
    {
     "data": {
      "text/latex": [
       "$\\displaystyle -3 + \\pi$"
      ],
      "text/plain": [
       "-3 + pi"
      ]
     },
     "execution_count": 76,
     "metadata": {},
     "output_type": "execute_result"
    }
   ],
   "source": [
    "PD2_sq_a.subs(sq,1)"
   ]
  },
  {
   "cell_type": "code",
   "execution_count": 77,
   "metadata": {},
   "outputs": [
    {
     "data": {
      "text/latex": [
       "$\\displaystyle -3 + \\pi$"
      ],
      "text/plain": [
       "-3 + pi"
      ]
     },
     "execution_count": 77,
     "metadata": {},
     "output_type": "execute_result"
    }
   ],
   "source": [
    "PD2_sq_b.subs(sq,1)"
   ]
  },
  {
   "cell_type": "code",
   "execution_count": 78,
   "metadata": {},
   "outputs": [
    {
     "data": {
      "text/latex": [
       "$\\displaystyle 0$"
      ],
      "text/plain": [
       "0"
      ]
     },
     "execution_count": 78,
     "metadata": {},
     "output_type": "execute_result"
    }
   ],
   "source": [
    "# value at sq = 2\n",
    "PD2_sq_b.subs(sq,2)"
   ]
  },
  {
   "cell_type": "code",
   "execution_count": 79,
   "metadata": {},
   "outputs": [
    {
     "data": {
      "text/latex": [
       "$\\displaystyle - \\frac{13}{6} + \\pi$"
      ],
      "text/plain": [
       "-13/6 + pi"
      ]
     },
     "execution_count": 79,
     "metadata": {},
     "output_type": "execute_result"
    }
   ],
   "source": [
    "integrate(PD2_sq_a, (sq,0,1))"
   ]
  },
  {
   "cell_type": "code",
   "execution_count": 80,
   "metadata": {},
   "outputs": [
    {
     "data": {
      "text/latex": [
       "$\\displaystyle \\frac{19}{6} - \\pi$"
      ],
      "text/plain": [
       "19/6 - pi"
      ]
     },
     "execution_count": 80,
     "metadata": {},
     "output_type": "execute_result"
    }
   ],
   "source": [
    "integrate(PD2_sq_b, (sq,1,2))"
   ]
  },
  {
   "cell_type": "code",
   "execution_count": 81,
   "metadata": {},
   "outputs": [
    {
     "data": {
      "text/latex": [
       "$\\displaystyle 1$"
      ],
      "text/plain": [
       "1"
      ]
     },
     "execution_count": 81,
     "metadata": {},
     "output_type": "execute_result"
    }
   ],
   "source": [
    "# verify that total probability is 1 \n",
    "integrate(PD2_sq_a, (sq,0,1)) + integrate(PD2_sq_b, (sq,1,2))"
   ]
  },
  {
   "attachments": {},
   "cell_type": "markdown",
   "metadata": {},
   "source": [
    "Now determine probability density of $s = \\sqrt{sq}$. Mapping function is $\\sqrt{sq}$ and the inverse mapping function is $s^2$."
   ]
  },
  {
   "cell_type": "code",
   "execution_count": 82,
   "metadata": {},
   "outputs": [
    {
     "data": {
      "text/latex": [
       "$\\displaystyle \\left( s \\mapsto s^{2} \\right)$"
      ],
      "text/plain": [
       "Lambda(s, s**2)"
      ]
     },
     "execution_count": 82,
     "metadata": {},
     "output_type": "execute_result"
    }
   ],
   "source": [
    "# Transform PD2_Sq to PD2_S, with sqrt as mapping function\n",
    "# Inverse of sqrt (inverse of mapping function)\n",
    "SqrtMapInverse = Lambda(s, s**2)\n",
    "SqrtMapInverse"
   ]
  },
  {
   "cell_type": "code",
   "execution_count": 83,
   "metadata": {},
   "outputs": [
    {
     "data": {
      "text/latex": [
       "$\\displaystyle \\left( s \\mapsto 2 s \\left(- \\left(2 s - 2 \\sqrt{s^{2} - 1} - \\left(s^{2} - 4 \\sqrt{s^{2} - 1} - 2 \\operatorname{asin}{\\left(\\frac{1}{s} \\right)} + 2 \\operatorname{asin}{\\left(\\frac{\\sqrt{s^{2} - 1}}{s} \\right)} + 2\\right) \\theta\\left(2 - s^{2}\\right) - 2 \\operatorname{asin}{\\left(\\frac{1}{s} \\right)} + 1\\right) \\theta\\left(1 - s^{2}\\right) - \\left(s^{2} - 4 \\sqrt{s^{2} - 1} - 2 \\operatorname{asin}{\\left(\\frac{1}{s} \\right)} + 2 \\operatorname{asin}{\\left(\\frac{\\sqrt{s^{2} - 1}}{s} \\right)} + 2\\right) \\theta\\left(2 - s^{2}\\right) + \\left(s^{2} - 2 s - 2 \\sqrt{s^{2} - 1} - 2 \\operatorname{asin}{\\left(\\frac{1}{s} \\right)} + 1 + \\pi\\right) \\theta\\left(1 - s^{2}\\right)\\right) \\right)$"
      ],
      "text/plain": [
       "Lambda(s, 2*s*(-(2*s - 2*sqrt(s**2 - 1) - (s**2 - 4*sqrt(s**2 - 1) - 2*asin(1/s) + 2*asin(sqrt(s**2 - 1)/s) + 2)*Heaviside(2 - s**2) - 2*asin(1/s) + 1)*Heaviside(1 - s**2) - (s**2 - 4*sqrt(s**2 - 1) - 2*asin(1/s) + 2*asin(sqrt(s**2 - 1)/s) + 2)*Heaviside(2 - s**2) + (s**2 - 2*s - 2*sqrt(s**2 - 1) - 2*asin(1/s) + 1 + pi)*Heaviside(1 - s**2)))"
      ]
     },
     "execution_count": 83,
     "metadata": {},
     "output_type": "execute_result"
    }
   ],
   "source": [
    "# Probability density function of s = sqrt(sq)\n",
    "PD2_S = Lambda(s, PD2_Sq(SqrtMapInverse(s)) * (diff(SqrtMapInverse(s))))\n",
    "PD2_S"
   ]
  },
  {
   "cell_type": "code",
   "execution_count": 84,
   "metadata": {},
   "outputs": [
    {
     "data": {
      "text/latex": [
       "$\\displaystyle 0$"
      ],
      "text/plain": [
       "0"
      ]
     },
     "execution_count": 84,
     "metadata": {},
     "output_type": "execute_result"
    }
   ],
   "source": [
    "PD2_S(sqrt(2))"
   ]
  },
  {
   "cell_type": "code",
   "execution_count": 85,
   "metadata": {},
   "outputs": [
    {
     "data": {
      "text/latex": [
       "$\\displaystyle -6 + 2 \\pi$"
      ],
      "text/plain": [
       "-6 + 2*pi"
      ]
     },
     "execution_count": 85,
     "metadata": {},
     "output_type": "execute_result"
    }
   ],
   "source": [
    "PD2_S(1)"
   ]
  },
  {
   "cell_type": "code",
   "execution_count": 86,
   "metadata": {},
   "outputs": [
    {
     "data": {
      "image/png": "[encoded data removed]",
      "text/plain": [
       "<Figure size 640x480 with 1 Axes>"
      ]
     },
     "metadata": {},
     "output_type": "display_data"
    },
    {
     "data": {
      "text/plain": [
       "<sympy.plotting.plot.Plot at 0x12260c3b0>"
      ]
     },
     "execution_count": 86,
     "metadata": {},
     "output_type": "execute_result"
    }
   ],
   "source": [
    "plot(PD2_S(s), (s,0,sqrt(2)))"
   ]
  },
  {
   "cell_type": "code",
   "execution_count": 87,
   "metadata": {},
   "outputs": [
    {
     "data": {
      "text/latex": [
       "$\\displaystyle \\left( s \\mapsto 2 s^{3} \\theta\\left(1 - s^{2}\\right) \\theta\\left(2 - s^{2}\\right) + 2 s^{3} \\theta\\left(1 - s^{2}\\right) - 2 s^{3} \\theta\\left(2 - s^{2}\\right) - 8 s^{2} \\theta\\left(1 - s^{2}\\right) - 8 s \\sqrt{s^{2} - 1} \\theta\\left(1 - s^{2}\\right) \\theta\\left(2 - s^{2}\\right) + 8 s \\sqrt{s^{2} - 1} \\theta\\left(2 - s^{2}\\right) - 4 s \\theta\\left(1 - s^{2}\\right) \\theta\\left(2 - s^{2}\\right) \\operatorname{asin}{\\left(\\frac{1}{s} \\right)} + 4 s \\theta\\left(1 - s^{2}\\right) \\theta\\left(2 - s^{2}\\right) \\operatorname{asin}{\\left(\\frac{\\sqrt{s^{2} - 1}}{s} \\right)} + 4 s \\theta\\left(1 - s^{2}\\right) \\theta\\left(2 - s^{2}\\right) + 2 \\pi s \\theta\\left(1 - s^{2}\\right) + 4 s \\theta\\left(2 - s^{2}\\right) \\operatorname{asin}{\\left(\\frac{1}{s} \\right)} - 4 s \\theta\\left(2 - s^{2}\\right) \\operatorname{asin}{\\left(\\frac{\\sqrt{s^{2} - 1}}{s} \\right)} - 4 s \\theta\\left(2 - s^{2}\\right) \\right)$"
      ],
      "text/plain": [
       "Lambda(s, 2*s**3*Heaviside(1 - s**2)*Heaviside(2 - s**2) + 2*s**3*Heaviside(1 - s**2) - 2*s**3*Heaviside(2 - s**2) - 8*s**2*Heaviside(1 - s**2) - 8*s*sqrt(s**2 - 1)*Heaviside(1 - s**2)*Heaviside(2 - s**2) + 8*s*sqrt(s**2 - 1)*Heaviside(2 - s**2) - 4*s*Heaviside(1 - s**2)*Heaviside(2 - s**2)*asin(1/s) + 4*s*Heaviside(1 - s**2)*Heaviside(2 - s**2)*asin(sqrt(s**2 - 1)/s) + 4*s*Heaviside(1 - s**2)*Heaviside(2 - s**2) + 2*pi*s*Heaviside(1 - s**2) + 4*s*Heaviside(2 - s**2)*asin(1/s) - 4*s*Heaviside(2 - s**2)*asin(sqrt(s**2 - 1)/s) - 4*s*Heaviside(2 - s**2))"
      ]
     },
     "execution_count": 87,
     "metadata": {},
     "output_type": "execute_result"
    }
   ],
   "source": [
    "PD2_S.expand(s)"
   ]
  },
  {
   "cell_type": "code",
   "execution_count": 88,
   "metadata": {},
   "outputs": [
    {
     "data": {
      "text/latex": [
       "$\\displaystyle \\left( s \\mapsto 2 s \\left(\\left(- 2 s + 2 \\sqrt{s^{2} - 1} + \\left(s^{2} - 4 \\sqrt{s^{2} - 1} - 2 \\operatorname{asin}{\\left(\\frac{1}{s} \\right)} + 2 \\operatorname{asin}{\\left(\\frac{\\sqrt{s^{2} - 1}}{s} \\right)} + 2\\right) \\theta\\left(2 - s^{2}\\right) + 2 \\operatorname{asin}{\\left(\\frac{1}{s} \\right)} - 1\\right) \\theta\\left(1 - s^{2}\\right) - \\left(s^{2} - 4 \\sqrt{s^{2} - 1} - 2 \\operatorname{asin}{\\left(\\frac{1}{s} \\right)} + 2 \\operatorname{asin}{\\left(\\frac{\\sqrt{s^{2} - 1}}{s} \\right)} + 2\\right) \\theta\\left(2 - s^{2}\\right) + \\left(s^{2} - 2 s - 2 \\sqrt{s^{2} - 1} - 2 \\operatorname{asin}{\\left(\\frac{1}{s} \\right)} + 1 + \\pi\\right) \\theta\\left(1 - s^{2}\\right)\\right) \\right)$"
      ],
      "text/plain": [
       "Lambda(s, 2*s*((-2*s + 2*sqrt(s**2 - 1) + (s**2 - 4*sqrt(s**2 - 1) - 2*asin(1/s) + 2*asin(sqrt(s**2 - 1)/s) + 2)*Heaviside(2 - s**2) + 2*asin(1/s) - 1)*Heaviside(1 - s**2) - (s**2 - 4*sqrt(s**2 - 1) - 2*asin(1/s) + 2*asin(sqrt(s**2 - 1)/s) + 2)*Heaviside(2 - s**2) + (s**2 - 2*s - 2*sqrt(s**2 - 1) - 2*asin(1/s) + 1 + pi)*Heaviside(1 - s**2)))"
      ]
     },
     "execution_count": 88,
     "metadata": {},
     "output_type": "execute_result"
    }
   ],
   "source": [
    "PD2_S.simplify()"
   ]
  },
  {
   "cell_type": "code",
   "execution_count": 89,
   "metadata": {},
   "outputs": [
    {
     "data": {
      "text/latex": [
       "$\\displaystyle \\left( s \\mapsto 2 s^{3} - 8 s^{2} + 2 \\pi s \\right)$"
      ],
      "text/plain": [
       "Lambda(s, 2*s**3 - 8*s**2 + 2*pi*s)"
      ]
     },
     "execution_count": 89,
     "metadata": {},
     "output_type": "execute_result"
    }
   ],
   "source": [
    "# Probability density for s < 1 (step function is 1 everywhere)\n",
    "PD2_Sa = Lambda(s, PD2_S(s).subs(Heaviside(1-s**2),1).expand())\n",
    "PD2_Sa"
   ]
  },
  {
   "cell_type": "code",
   "execution_count": 90,
   "metadata": {},
   "outputs": [
    {
     "data": {
      "text/latex": [
       "$\\displaystyle \\left( s \\mapsto 2 s \\left(s^{2} - 4 s + \\pi\\right) \\right)$"
      ],
      "text/plain": [
       "Lambda(s, 2*s*(s**2 - 4*s + pi))"
      ]
     },
     "execution_count": 90,
     "metadata": {},
     "output_type": "execute_result"
    }
   ],
   "source": [
    "simplify(PD2_Sa)"
   ]
  },
  {
   "cell_type": "code",
   "execution_count": 91,
   "metadata": {},
   "outputs": [
    {
     "data": {
      "text/latex": [
       "$\\displaystyle \\left( s \\mapsto - 2 s^{3} + 8 s \\sqrt{s^{2} - 1} + 4 s \\operatorname{asin}{\\left(\\frac{1}{s} \\right)} - 4 s \\operatorname{asin}{\\left(\\frac{\\sqrt{s^{2} - 1}}{s} \\right)} - 4 s \\right)$"
      ],
      "text/plain": [
       "Lambda(s, -2*s**3 + 8*s*sqrt(s**2 - 1) + 4*s*asin(1/s) - 4*s*asin(sqrt(s**2 - 1)/s) - 4*s)"
      ]
     },
     "execution_count": 91,
     "metadata": {},
     "output_type": "execute_result"
    }
   ],
   "source": [
    "# Probability density for s > 1 (step function is 0 for s < 1, and 1 for s > 1)\n",
    "PD2_Sb = Lambda(s, PD2_S(s).subs(Heaviside(1-s**2),0).subs(Heaviside(2-s**2),1).expand())\n",
    "PD2_Sb"
   ]
  },
  {
   "cell_type": "code",
   "execution_count": 122,
   "metadata": {},
   "outputs": [
    {
     "data": {
      "text/latex": [
       "$\\displaystyle \\left( s \\mapsto 2 s \\left(- s^{2} + 4 \\sqrt{s^{2} - 1} + 2 \\operatorname{asin}{\\left(\\frac{1}{s} \\right)} - 2 \\operatorname{asin}{\\left(\\frac{\\sqrt{s^{2} - 1}}{s} \\right)} - 2\\right) \\right)$"
      ],
      "text/plain": [
       "Lambda(s, 2*s*(-s**2 + 4*sqrt(s**2 - 1) + 2*asin(1/s) - 2*asin(sqrt(s**2 - 1)/s) - 2))"
      ]
     },
     "execution_count": 122,
     "metadata": {},
     "output_type": "execute_result"
    }
   ],
   "source": [
    "simplify(PD2_Sb)"
   ]
  },
  {
   "cell_type": "code",
   "execution_count": 92,
   "metadata": {},
   "outputs": [
    {
     "data": {
      "text/latex": [
       "$\\displaystyle - \\frac{13}{6} + \\pi$"
      ],
      "text/plain": [
       "-13/6 + pi"
      ]
     },
     "execution_count": 92,
     "metadata": {},
     "output_type": "execute_result"
    }
   ],
   "source": [
    "# probability of length s < 1:\n",
    "ProbSa = integrate(PD2_Sa(s), (s,0,1))\n",
    "ProbSa"
   ]
  },
  {
   "cell_type": "code",
   "execution_count": 93,
   "metadata": {},
   "outputs": [
    {
     "data": {
      "text/latex": [
       "$\\displaystyle \\frac{19}{6} - \\pi$"
      ],
      "text/plain": [
       "19/6 - pi"
      ]
     },
     "execution_count": 93,
     "metadata": {},
     "output_type": "execute_result"
    }
   ],
   "source": [
    "# probability of length s > 1:\n",
    "ProbSb = integrate(PD2_Sb(s), (s,1,sqrt(2)))\n",
    "ProbSb"
   ]
  },
  {
   "cell_type": "code",
   "execution_count": 94,
   "metadata": {},
   "outputs": [
    {
     "data": {
      "text/latex": [
       "$\\displaystyle 1$"
      ],
      "text/plain": [
       "1"
      ]
     },
     "execution_count": 94,
     "metadata": {},
     "output_type": "execute_result"
    }
   ],
   "source": [
    "# total probability should be 1\n",
    "ProbSa + ProbSb"
   ]
  },
  {
   "cell_type": "code",
   "execution_count": 95,
   "metadata": {},
   "outputs": [
    {
     "data": {
      "text/latex": [
       "$\\displaystyle -6 + 2 \\pi$"
      ],
      "text/plain": [
       "-6 + 2*pi"
      ]
     },
     "execution_count": 95,
     "metadata": {},
     "output_type": "execute_result"
    }
   ],
   "source": [
    "PD2_Sa(1)"
   ]
  },
  {
   "cell_type": "code",
   "execution_count": 96,
   "metadata": {},
   "outputs": [
    {
     "data": {
      "text/latex": [
       "$\\displaystyle -6 + 2 \\pi$"
      ],
      "text/plain": [
       "-6 + 2*pi"
      ]
     },
     "execution_count": 96,
     "metadata": {},
     "output_type": "execute_result"
    }
   ],
   "source": [
    "PD2_Sb(1)"
   ]
  },
  {
   "cell_type": "code",
   "execution_count": 97,
   "metadata": {},
   "outputs": [
    {
     "data": {
      "text/latex": [
       "$\\displaystyle 0$"
      ],
      "text/plain": [
       "0"
      ]
     },
     "execution_count": 97,
     "metadata": {},
     "output_type": "execute_result"
    }
   ],
   "source": [
    "PD2_Sb(sqrt(2))"
   ]
  },
  {
   "cell_type": "code",
   "execution_count": 98,
   "metadata": {},
   "outputs": [
    {
     "data": {
      "text/latex": [
       "$\\displaystyle - \\frac{8}{5} + \\frac{2 \\pi}{3}$"
      ],
      "text/plain": [
       "-8/5 + 2*pi/3"
      ]
     },
     "execution_count": 98,
     "metadata": {},
     "output_type": "execute_result"
    }
   ],
   "source": [
    "MeanDistance2_Sa = integrate(PD2_Sa(s)*s, (s,0,1))\n",
    "MeanDistance2_Sa "
   ]
  },
  {
   "cell_type": "code",
   "execution_count": 99,
   "metadata": {},
   "outputs": [
    {
     "data": {
      "text/latex": [
       "$\\displaystyle - \\frac{2 \\pi}{3} + \\frac{\\sqrt{2}}{15} + \\frac{\\log{\\left(1 + \\sqrt{2} \\right)}}{3} + \\frac{26}{15}$"
      ],
      "text/plain": [
       "-2*pi/3 + sqrt(2)/15 + log(1 + sqrt(2))/3 + 26/15"
      ]
     },
     "execution_count": 99,
     "metadata": {},
     "output_type": "execute_result"
    }
   ],
   "source": [
    "MeanDistance2_Sb = integrate(PD2_Sb(s)*s, (s,1,sqrt(2)))\n",
    "MeanDistance2_Sb "
   ]
  },
  {
   "cell_type": "code",
   "execution_count": 100,
   "metadata": {},
   "outputs": [
    {
     "data": {
      "text/latex": [
       "$\\displaystyle \\frac{\\sqrt{2}}{15} + \\frac{2}{15} + \\frac{\\log{\\left(1 + \\sqrt{2} \\right)}}{3}$"
      ],
      "text/plain": [
       "sqrt(2)/15 + 2/15 + log(1 + sqrt(2))/3"
      ]
     },
     "execution_count": 100,
     "metadata": {},
     "output_type": "execute_result"
    }
   ],
   "source": [
    "MeanDistance2_S = MeanDistance2_Sa + MeanDistance2_Sb\n",
    "MeanDistance2_S "
   ]
  },
  {
   "cell_type": "code",
   "execution_count": 101,
   "metadata": {},
   "outputs": [
    {
     "data": {
      "text/latex": [
       "$\\displaystyle 0.521405433164721$"
      ],
      "text/plain": [
       "0.521405433164721"
      ]
     },
     "execution_count": 101,
     "metadata": {},
     "output_type": "execute_result"
    }
   ],
   "source": [
    "MeanDistance2_S.evalf()"
   ]
  },
  {
   "cell_type": "code",
   "execution_count": 102,
   "metadata": {},
   "outputs": [
    {
     "data": {
      "text/latex": [
       "$\\displaystyle \\frac{\\sqrt{2}}{15} + \\frac{2}{15} + \\frac{\\log{\\left(1 + \\sqrt{2} \\right)}}{3}$"
      ],
      "text/plain": [
       "sqrt(2)/15 + 2/15 + log(1 + sqrt(2))/3"
      ]
     },
     "execution_count": 102,
     "metadata": {},
     "output_type": "execute_result"
    }
   ],
   "source": [
    "MeanDistance2_S.rewrite(log).simplify()"
   ]
  },
  {
   "cell_type": "code",
   "execution_count": 103,
   "metadata": {},
   "outputs": [
    {
     "data": {
      "text/latex": [
       "$\\displaystyle - \\frac{19}{15} + \\frac{\\pi}{2}$"
      ],
      "text/plain": [
       "-19/15 + pi/2"
      ]
     },
     "execution_count": 103,
     "metadata": {},
     "output_type": "execute_result"
    }
   ],
   "source": [
    "MeanSquare_Sa = integrate(PD2_Sa(s)*s**2, (s,0,1))\n",
    "MeanSquare_Sa "
   ]
  },
  {
   "cell_type": "code",
   "execution_count": 104,
   "metadata": {},
   "outputs": [
    {
     "data": {
      "text/latex": [
       "$\\displaystyle \\frac{8}{5} - \\frac{\\pi}{2}$"
      ],
      "text/plain": [
       "8/5 - pi/2"
      ]
     },
     "execution_count": 104,
     "metadata": {},
     "output_type": "execute_result"
    }
   ],
   "source": [
    "\n",
    "MeanSquare_Sb = integrate(PD2_Sb(s)*s**2, (s,1,sqrt(2)))\n",
    "MeanSquare_Sb "
   ]
  },
  {
   "cell_type": "code",
   "execution_count": 105,
   "metadata": {},
   "outputs": [
    {
     "data": {
      "text/latex": [
       "$\\displaystyle \\frac{1}{3}$"
      ],
      "text/plain": [
       "1/3"
      ]
     },
     "execution_count": 105,
     "metadata": {},
     "output_type": "execute_result"
    }
   ],
   "source": [
    "MeanSquare_S = MeanSquare_Sa + MeanSquare_Sb\n",
    "MeanSquare_S"
   ]
  },
  {
   "cell_type": "code",
   "execution_count": 106,
   "metadata": {},
   "outputs": [
    {
     "data": {
      "text/latex": [
       "$\\displaystyle 0.333333333333333$"
      ],
      "text/plain": [
       "0.333333333333333"
      ]
     },
     "execution_count": 106,
     "metadata": {},
     "output_type": "execute_result"
    }
   ],
   "source": [
    "MeanSquare_S.evalf()"
   ]
  },
  {
   "cell_type": "code",
   "execution_count": 107,
   "metadata": {},
   "outputs": [
    {
     "data": {
      "text/latex": [
       "$\\displaystyle \\frac{1}{3} - \\left(\\frac{\\sqrt{2}}{15} + \\frac{2}{15} + \\frac{\\log{\\left(1 + \\sqrt{2} \\right)}}{3}\\right)^{2}$"
      ],
      "text/plain": [
       "1/3 - (sqrt(2)/15 + 2/15 + log(1 + sqrt(2))/3)**2"
      ]
     },
     "execution_count": 107,
     "metadata": {},
     "output_type": "execute_result"
    }
   ],
   "source": [
    "Variance_S = (MeanSquare_S - MeanDistance2_S**2)\n",
    "Variance_S"
   ]
  },
  {
   "cell_type": "code",
   "execution_count": 108,
   "metadata": {},
   "outputs": [
    {
     "data": {
      "text/latex": [
       "$\\displaystyle 0.0614697075996433$"
      ],
      "text/plain": [
       "0.0614697075996433"
      ]
     },
     "execution_count": 108,
     "metadata": {},
     "output_type": "execute_result"
    }
   ],
   "source": [
    "Variance_S.evalf()"
   ]
  },
  {
   "cell_type": "code",
   "execution_count": 109,
   "metadata": {},
   "outputs": [
    {
     "data": {
      "text/latex": [
       "$\\displaystyle \\left(- \\frac{4}{45} - \\frac{2 \\sqrt{2}}{45}\\right) \\log{\\left(1 + \\sqrt{2} \\right)} - \\frac{\\log{\\left(1 + \\sqrt{2} \\right)}^{2}}{9} - \\frac{4 \\sqrt{2}}{225} + \\frac{23}{75}$"
      ],
      "text/plain": [
       "(-4/45 - 2*sqrt(2)/45)*log(1 + sqrt(2)) - log(1 + sqrt(2))**2/9 - 4*sqrt(2)/225 + 23/75"
      ]
     },
     "execution_count": 109,
     "metadata": {},
     "output_type": "execute_result"
    }
   ],
   "source": [
    "expr = Variance_S.rewrite(log).expand().simplify().collect(log(1+sqrt(2)))\n",
    "expr"
   ]
  },
  {
   "cell_type": "code",
   "execution_count": 110,
   "metadata": {},
   "outputs": [
    {
     "data": {
      "text/latex": [
       "$\\displaystyle 2 \\log{\\left(1 + \\sqrt{2} \\right)}$"
      ],
      "text/plain": [
       "2*log(1 + sqrt(2))"
      ]
     },
     "execution_count": 110,
     "metadata": {},
     "output_type": "execute_result"
    }
   ],
   "source": [
    "expand_log(log((1+sqrt(2))**2))"
   ]
  },
  {
   "cell_type": "code",
   "execution_count": 111,
   "metadata": {},
   "outputs": [
    {
     "data": {
      "text/latex": [
       "$\\displaystyle - \\frac{\\log{\\left(1 + \\sqrt{2} \\right)}^{2}}{9} - \\frac{4 \\log{\\left(1 + \\sqrt{2} \\right)}}{45} - \\frac{2 \\sqrt{2} \\log{\\left(1 + \\sqrt{2} \\right)}}{45} - \\frac{4 \\sqrt{2}}{225} + \\frac{23}{75}$"
      ],
      "text/plain": [
       "-log(1 + sqrt(2))**2/9 - 4*log(1 + sqrt(2))/45 - 2*sqrt(2)*log(1 + sqrt(2))/45 - 4*sqrt(2)/225 + 23/75"
      ]
     },
     "execution_count": 111,
     "metadata": {},
     "output_type": "execute_result"
    }
   ],
   "source": [
    "expand_log(Variance_S.rewrite(log).simplify().expand())"
   ]
  },
  {
   "cell_type": "code",
   "execution_count": 112,
   "metadata": {},
   "outputs": [
    {
     "data": {
      "text/latex": [
       "$\\displaystyle 0.24793085245617$"
      ],
      "text/plain": [
       "0.247930852456170"
      ]
     },
     "execution_count": 112,
     "metadata": {},
     "output_type": "execute_result"
    }
   ],
   "source": [
    "# Standard deviation\n",
    "sqrt(Variance_S).evalf()"
   ]
  },
  {
   "cell_type": "code",
   "execution_count": 113,
   "metadata": {},
   "outputs": [
    {
     "data": {
      "text/latex": [
       "$\\displaystyle \\frac{\\sqrt{\\left(-20 - 10 \\sqrt{2}\\right) \\log{\\left(1 + \\sqrt{2} \\right)} - 25 \\log{\\left(1 + \\sqrt{2} \\right)}^{2} - 4 \\sqrt{2} + 69}}{15}$"
      ],
      "text/plain": [
       "sqrt((-20 - 10*sqrt(2))*log(1 + sqrt(2)) - 25*log(1 + sqrt(2))**2 - 4*sqrt(2) + 69)/15"
      ]
     },
     "execution_count": 113,
     "metadata": {},
     "output_type": "execute_result"
    }
   ],
   "source": [
    "sqrt(Variance_S).rewrite(log).simplify().expand().collect(log(1+sqrt(2)))"
   ]
  },
  {
   "cell_type": "code",
   "execution_count": 114,
   "metadata": {},
   "outputs": [
    {
     "data": {
      "image/png": "[encoded data removed]",
      "text/plain": [
       "<Figure size 640x480 with 1 Axes>"
      ]
     },
     "metadata": {},
     "output_type": "display_data"
    },
    {
     "data": {
      "text/plain": [
       "<sympy.plotting.plot.Plot at 0x14280e0c0>"
      ]
     },
     "execution_count": 114,
     "metadata": {},
     "output_type": "execute_result"
    }
   ],
   "source": [
    "plot(PD2_Sa(s)*Heaviside(1-s) + PD2_Sb(s)*Heaviside(s-1), (s,0,sqrt(2)))"
   ]
  },
  {
   "cell_type": "code",
   "execution_count": 115,
   "metadata": {},
   "outputs": [
    {
     "data": {
      "text/latex": [
       "$\\displaystyle \\frac{4}{3} - \\frac{\\sqrt{16 - 3 \\pi}}{3}$"
      ],
      "text/plain": [
       "4/3 - sqrt(16 - 3*pi)/3"
      ]
     },
     "execution_count": 115,
     "metadata": {},
     "output_type": "execute_result"
    }
   ],
   "source": [
    "# Most likely distance (maximum probability density)\n",
    "solve(diff(PD2_Sa(s)),s)[0]"
   ]
  },
  {
   "cell_type": "code",
   "execution_count": 116,
   "metadata": {},
   "outputs": [
    {
     "data": {
      "text/latex": [
       "$\\displaystyle 0.478593474322897$"
      ],
      "text/plain": [
       "0.478593474322897"
      ]
     },
     "execution_count": 116,
     "metadata": {},
     "output_type": "execute_result"
    }
   ],
   "source": [
    "_.evalf()"
   ]
  },
  {
   "cell_type": "code",
   "execution_count": 117,
   "metadata": {},
   "outputs": [
    {
     "data": {
      "text/latex": [
       "$\\displaystyle \\left( x \\mapsto \\frac{x^{4}}{2} - \\frac{8 x^{3}}{3} + \\pi x^{2} \\right)$"
      ],
      "text/plain": [
       "Lambda(x, x**4/2 - 8*x**3/3 + pi*x**2)"
      ]
     },
     "execution_count": 117,
     "metadata": {},
     "output_type": "execute_result"
    }
   ],
   "source": [
    "# Median distance\n",
    "# cumulative probability density:\n",
    "CDF2 = Lambda(x, integrate(PD2_Sa(s), (s,0,x)))\n",
    "CDF2"
   ]
  },
  {
   "cell_type": "code",
   "execution_count": 118,
   "metadata": {},
   "outputs": [
    {
     "data": {
      "text/latex": [
       "$\\displaystyle \\frac{4}{3} - \\frac{\\sqrt{- 12 \\pi + 64 + \\frac{6 \\pi^{2}}{\\sqrt[3]{-48 + 9 \\pi + \\pi^{3} + \\sqrt{3} \\sqrt{- 32 \\pi^{3} - 288 \\pi + 18 \\pi^{2} + 777 + 9 \\pi^{4}}}} - \\frac{18}{\\sqrt[3]{-48 + 9 \\pi + \\pi^{3} + \\sqrt{3} \\sqrt{- 32 \\pi^{3} - 288 \\pi + 18 \\pi^{2} + 777 + 9 \\pi^{4}}}} + 6 \\sqrt[3]{-48 + 9 \\pi + \\pi^{3} + \\sqrt{3} \\sqrt{- 32 \\pi^{3} - 288 \\pi + 18 \\pi^{2} + 777 + 9 \\pi^{4}}}}}{6} + \\frac{\\sqrt{- 24 \\pi + 128 - 6 \\sqrt[3]{-48 + 9 \\pi + \\pi^{3} + \\sqrt{3} \\sqrt{- 32 \\pi^{3} - 288 \\pi + 18 \\pi^{2} + 777 + 9 \\pi^{4}}} + \\frac{18}{\\sqrt[3]{-48 + 9 \\pi + \\pi^{3} + \\sqrt{3} \\sqrt{- 32 \\pi^{3} - 288 \\pi + 18 \\pi^{2} + 777 + 9 \\pi^{4}}}} + \\frac{144 \\sqrt{2} \\pi}{\\sqrt{- 6 \\pi + 32 + \\frac{3 \\pi^{2}}{\\sqrt[3]{-48 + 9 \\pi + \\pi^{3} + \\sqrt{3} \\sqrt{- 32 \\pi^{3} - 288 \\pi + 18 \\pi^{2} + 777 + 9 \\pi^{4}}}} - \\frac{9}{\\sqrt[3]{-48 + 9 \\pi + \\pi^{3} + \\sqrt{3} \\sqrt{- 32 \\pi^{3} - 288 \\pi + 18 \\pi^{2} + 777 + 9 \\pi^{4}}}} + 3 \\sqrt[3]{-48 + 9 \\pi + \\pi^{3} + \\sqrt{3} \\sqrt{- 32 \\pi^{3} - 288 \\pi + 18 \\pi^{2} + 777 + 9 \\pi^{4}}}}} - \\frac{512 \\sqrt{2}}{\\sqrt{- 6 \\pi + 32 + \\frac{3 \\pi^{2}}{\\sqrt[3]{-48 + 9 \\pi + \\pi^{3} + \\sqrt{3} \\sqrt{- 32 \\pi^{3} - 288 \\pi + 18 \\pi^{2} + 777 + 9 \\pi^{4}}}} - \\frac{9}{\\sqrt[3]{-48 + 9 \\pi + \\pi^{3} + \\sqrt{3} \\sqrt{- 32 \\pi^{3} - 288 \\pi + 18 \\pi^{2} + 777 + 9 \\pi^{4}}}} + 3 \\sqrt[3]{-48 + 9 \\pi + \\pi^{3} + \\sqrt{3} \\sqrt{- 32 \\pi^{3} - 288 \\pi + 18 \\pi^{2} + 777 + 9 \\pi^{4}}}}} - \\frac{6 \\pi^{2}}{\\sqrt[3]{-48 + 9 \\pi + \\pi^{3} + \\sqrt{3} \\sqrt{- 32 \\pi^{3} - 288 \\pi + 18 \\pi^{2} + 777 + 9 \\pi^{4}}}}}}{6}$"
      ],
      "text/plain": [
       "4/3 - sqrt(-12*pi + 64 + 6*pi**2/(-48 + 9*pi + pi**3 + sqrt(3)*sqrt(-32*pi**3 - 288*pi + 18*pi**2 + 777 + 9*pi**4))**(1/3) - 18/(-48 + 9*pi + pi**3 + sqrt(3)*sqrt(-32*pi**3 - 288*pi + 18*pi**2 + 777 + 9*pi**4))**(1/3) + 6*(-48 + 9*pi + pi**3 + sqrt(3)*sqrt(-32*pi**3 - 288*pi + 18*pi**2 + 777 + 9*pi**4))**(1/3))/6 + sqrt(-24*pi + 128 - 6*(-48 + 9*pi + pi**3 + sqrt(3)*sqrt(-32*pi**3 - 288*pi + 18*pi**2 + 777 + 9*pi**4))**(1/3) + 18/(-48 + 9*pi + pi**3 + sqrt(3)*sqrt(-32*pi**3 - 288*pi + 18*pi**2 + 777 + 9*pi**4))**(1/3) + 144*sqrt(2)*pi/sqrt(-6*pi + 32 + 3*pi**2/(-48 + 9*pi + pi**3 + sqrt(3)*sqrt(-32*pi**3 - 288*pi + 18*pi**2 + 777 + 9*pi**4))**(1/3) - 9/(-48 + 9*pi + pi**3 + sqrt(3)*sqrt(-32*pi**3 - 288*pi + 18*pi**2 + 777 + 9*pi**4))**(1/3) + 3*(-48 + 9*pi + pi**3 + sqrt(3)*sqrt(-32*pi**3 - 288*pi + 18*pi**2 + 777 + 9*pi**4))**(1/3)) - 512*sqrt(2)/sqrt(-6*pi + 32 + 3*pi**2/(-48 + 9*pi + pi**3 + sqrt(3)*sqrt(-32*pi**3 - 288*pi + 18*pi**2 + 777 + 9*pi**4))**(1/3) - 9/(-48 + 9*pi + pi**3 + sqrt(3)*sqrt(-32*pi**3 - 288*pi + 18*pi**2 + 777 + 9*pi**4))**(1/3) + 3*(-48 + 9*pi + pi**3 + sqrt(3)*sqrt(-32*pi**3 - 288*pi + 18*pi**2 + 777 + 9*pi**4))**(1/3)) - 6*pi**2/(-48 + 9*pi + pi**3 + sqrt(3)*sqrt(-32*pi**3 - 288*pi + 18*pi**2 + 777 + 9*pi**4))**(1/3))/6"
      ]
     },
     "execution_count": 118,
     "metadata": {},
     "output_type": "execute_result"
    }
   ],
   "source": [
    "# Median distance is where CDF2 is 1/2:\n",
    "MedianDistance = solve(CDF2(x) - Rational(1,2),x)[3].simplify()\n",
    "MedianDistance"
   ]
  },
  {
   "cell_type": "code",
   "execution_count": 119,
   "metadata": {},
   "outputs": [
    {
     "data": {
      "text/latex": [
       "$\\displaystyle 0.512003269083334 - 1.43458047061161 \\cdot 10^{-28} i$"
      ],
      "text/plain": [
       "0.512003269083334 - 1.43458047061161e-28*I"
      ]
     },
     "execution_count": 119,
     "metadata": {},
     "output_type": "execute_result"
    }
   ],
   "source": [
    "MedianDistance.evalf()"
   ]
  },
  {
   "cell_type": "code",
   "execution_count": 120,
   "metadata": {},
   "outputs": [],
   "source": [
    "# the third root seems to be the relevant one; expression is very complex, can it be simplified?\n",
    "#im(_)"
   ]
  }
 ],
 "metadata": {
  "kernelspec": {
   "display_name": "Python 3 (ipykernel)",
   "language": "python",
   "name": "python3"
  },
  "language_info": {
   "codemirror_mode": {
    "name": "ipython",
    "version": 3
   },
   "file_extension": ".py",
   "mimetype": "text/x-python",
   "name": "python",
   "nbconvert_exporter": "python",
   "pygments_lexer": "ipython3",
   "version": "3.12.0"
  }
 },
 "nbformat": 4,
 "nbformat_minor": 4
}
