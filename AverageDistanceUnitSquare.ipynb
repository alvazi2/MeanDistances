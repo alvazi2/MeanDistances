{
 "cells": [
  {
   "attachments": {},
   "cell_type": "markdown",
   "metadata": {},
   "source": [
    "# Average distance between two random points in a unit square\n",
    "Sympy could not complete the analytical integration"
   ]
  },
  {
   "cell_type": "code",
   "execution_count": 1,
   "metadata": {},
   "outputs": [],
   "source": [
    "import sympy\n",
    "from sympy import *\n",
    "x, y, u = symbols('x y u')"
   ]
  },
  {
   "cell_type": "code",
   "execution_count": 2,
   "metadata": {},
   "outputs": [],
   "source": [
    "WeightedDistance = 4*(1-x)*(1-y)*sqrt(x*x + y*y)"
   ]
  },
  {
   "cell_type": "code",
   "execution_count": 3,
   "metadata": {},
   "outputs": [
    {
     "data": {
      "text/latex": [
       "$\\displaystyle \\left(1 - y\\right) \\left(4 - 4 x\\right) \\sqrt{x^{2} + y^{2}}$"
      ],
      "text/plain": [
       "(1 - y)*(4 - 4*x)*sqrt(x**2 + y**2)"
      ]
     },
     "execution_count": 3,
     "metadata": {},
     "output_type": "execute_result"
    }
   ],
   "source": [
    "WeightedDistance"
   ]
  },
  {
   "attachments": {},
   "cell_type": "markdown",
   "metadata": {},
   "source": [
    "Average distance is given by:"
   ]
  },
  {
   "cell_type": "code",
   "execution_count": 4,
   "metadata": {},
   "outputs": [],
   "source": [
    "AverageDistance = integrate(WeightedDistance, (x, 0, 1), (y, 0, 1))"
   ]
  },
  {
   "cell_type": "code",
   "execution_count": 5,
   "metadata": {},
   "outputs": [
    {
     "data": {
      "text/latex": [
       "$\\displaystyle - \\frac{2 \\int\\limits_{0}^{1} \\left(y - 1\\right) \\left(2 y^{3} - 2 y^{2} \\sqrt{y^{2} + 1} + 3 y^{2} \\operatorname{asinh}{\\left(\\frac{1}{y} \\right)} + \\sqrt{y^{2} + 1}\\right)\\, dy}{3}$"
      ],
      "text/plain": [
       "-2*Integral((y - 1)*(2*y**3 - 2*y**2*sqrt(y**2 + 1) + 3*y**2*asinh(1/y) + sqrt(y**2 + 1)), (y, 0, 1))/3"
      ]
     },
     "execution_count": 5,
     "metadata": {},
     "output_type": "execute_result"
    }
   ],
   "source": [
    "AverageDistance"
   ]
  },
  {
   "cell_type": "code",
   "execution_count": 6,
   "metadata": {},
   "outputs": [
    {
     "data": {
      "text/latex": [
       "$\\displaystyle 0.521405433164721$"
      ],
      "text/plain": [
       "0.521405433164721"
      ]
     },
     "execution_count": 6,
     "metadata": {},
     "output_type": "execute_result"
    }
   ],
   "source": [
    "AverageDistance.evalf()"
   ]
  },
  {
   "cell_type": "code",
   "execution_count": 36,
   "metadata": {},
   "outputs": [
    {
     "data": {
      "text/latex": [
       "$\\displaystyle - \\frac{13 \\sqrt{2}}{30} - 2 \\int\\limits_{0}^{1} y^{3} \\operatorname{asinh}{\\left(\\frac{1}{y} \\right)}\\, dy + \\frac{\\log{\\left(1 + \\sqrt{2} \\right)}}{2} + \\frac{7}{15} + 2 \\int\\limits_{0}^{1} y^{2} \\operatorname{asinh}{\\left(\\frac{1}{y} \\right)}\\, dy$"
      ],
      "text/plain": [
       "-13*sqrt(2)/30 - 2*Integral(y**3*asinh(1/y), (y, 0, 1)) + log(1 + sqrt(2))/2 + 7/15 + 2*Integral(y**2*asinh(1/y), (y, 0, 1))"
      ]
     },
     "execution_count": 36,
     "metadata": {},
     "output_type": "execute_result"
    }
   ],
   "source": [
    "AverageDistance.expand().doit()"
   ]
  },
  {
   "attachments": {},
   "cell_type": "markdown",
   "metadata": {},
   "source": [
    "SymPy cannot evaluate the definite integral symbolically (Axiom can handle it)"
   ]
  },
  {
   "cell_type": "code",
   "execution_count": 7,
   "metadata": {},
   "outputs": [
    {
     "data": {
      "text/latex": [
       "$\\displaystyle - \\frac{2 \\int\\limits_{0}^{1} \\left(y - 1\\right) \\left(2 y^{3} - 2 y^{2} \\sqrt{y^{2} + 1} + 3 y^{2} \\operatorname{asinh}{\\left(\\frac{1}{y} \\right)} + \\sqrt{y^{2} + 1}\\right)\\, dy}{3}$"
      ],
      "text/plain": [
       "-2*Integral((y - 1)*(2*y**3 - 2*y**2*sqrt(y**2 + 1) + 3*y**2*asinh(1/y) + sqrt(y**2 + 1)), (y, 0, 1))/3"
      ]
     },
     "execution_count": 7,
     "metadata": {},
     "output_type": "execute_result"
    }
   ],
   "source": [
    "AverageDistance.subs(asinh(1/y),log(1/y + sqrt(1+1/(y*y))))"
   ]
  },
  {
   "cell_type": "code",
   "execution_count": 8,
   "metadata": {},
   "outputs": [],
   "source": [
    "AveDistExpanded = expand(AverageDistance)"
   ]
  },
  {
   "cell_type": "code",
   "execution_count": 9,
   "metadata": {},
   "outputs": [
    {
     "data": {
      "text/latex": [
       "$\\displaystyle - \\frac{2 \\int\\limits_{0}^{1} 2 y^{2} \\sqrt{y^{2} + 1}\\, dy}{3} - \\frac{2 \\int\\limits_{0}^{1} 3 y^{3} \\operatorname{asinh}{\\left(\\frac{1}{y} \\right)}\\, dy}{3} - \\frac{2 \\int\\limits_{0}^{1} y \\sqrt{y^{2} + 1}\\, dy}{3} - \\frac{2 \\int\\limits_{0}^{1} 2 y^{4}\\, dy}{3} - \\frac{2 \\int\\limits_{0}^{1} \\left(- 2 y^{3}\\right)\\, dy}{3} - \\frac{2 \\int\\limits_{0}^{1} \\left(- 2 y^{3} \\sqrt{y^{2} + 1}\\right)\\, dy}{3} - \\frac{2 \\int\\limits_{0}^{1} \\left(- \\sqrt{y^{2} + 1}\\right)\\, dy}{3} - \\frac{2 \\int\\limits_{0}^{1} \\left(- 3 y^{2} \\operatorname{asinh}{\\left(\\frac{1}{y} \\right)}\\right)\\, dy}{3}$"
      ],
      "text/plain": [
       "-2*Integral(2*y**2*sqrt(y**2 + 1), (y, 0, 1))/3 - 2*Integral(3*y**3*asinh(1/y), (y, 0, 1))/3 - 2*Integral(y*sqrt(y**2 + 1), (y, 0, 1))/3 - 2*Integral(2*y**4, (y, 0, 1))/3 - 2*Integral(-2*y**3, (y, 0, 1))/3 - 2*Integral(-2*y**3*sqrt(y**2 + 1), (y, 0, 1))/3 - 2*Integral(-sqrt(y**2 + 1), (y, 0, 1))/3 - 2*Integral(-3*y**2*asinh(1/y), (y, 0, 1))/3"
      ]
     },
     "execution_count": 9,
     "metadata": {},
     "output_type": "execute_result"
    }
   ],
   "source": [
    "AveDistExpanded"
   ]
  },
  {
   "cell_type": "code",
   "execution_count": 10,
   "metadata": {},
   "outputs": [
    {
     "data": {
      "text/latex": [
       "$\\displaystyle - \\frac{13 \\sqrt{2}}{30} - 2 \\int\\limits_{0}^{1} y^{3} \\operatorname{asinh}{\\left(\\frac{1}{y} \\right)}\\, dy + \\frac{\\log{\\left(1 + \\sqrt{2} \\right)}}{2} + \\frac{7}{15} + 2 \\int\\limits_{0}^{1} y^{2} \\operatorname{asinh}{\\left(\\frac{1}{y} \\right)}\\, dy$"
      ],
      "text/plain": [
       "-13*sqrt(2)/30 - 2*Integral(y**3*asinh(1/y), (y, 0, 1)) + log(1 + sqrt(2))/2 + 7/15 + 2*Integral(y**2*asinh(1/y), (y, 0, 1))"
      ]
     },
     "execution_count": 10,
     "metadata": {},
     "output_type": "execute_result"
    }
   ],
   "source": [
    "AveDistExpanded.doit()"
   ]
  },
  {
   "cell_type": "code",
   "execution_count": 11,
   "metadata": {},
   "outputs": [
    {
     "data": {
      "text/latex": [
       "$\\displaystyle \\int y^{2} \\operatorname{asinh}{\\left(\\frac{1}{y} \\right)}\\, dy$"
      ],
      "text/plain": [
       "Integral(y**2*asinh(1/y), y)"
      ]
     },
     "execution_count": 11,
     "metadata": {},
     "output_type": "execute_result"
    }
   ],
   "source": [
    "integrate(y*y * asinh(1/y),y)"
   ]
  },
  {
   "cell_type": "code",
   "execution_count": 12,
   "metadata": {},
   "outputs": [],
   "source": [
    "f = y*y * (1-y) * asinh(1/y)"
   ]
  },
  {
   "cell_type": "code",
   "execution_count": 13,
   "metadata": {},
   "outputs": [
    {
     "data": {
      "text/latex": [
       "$\\displaystyle y^{2} \\cdot \\left(1 - y\\right) \\operatorname{asinh}{\\left(\\frac{1}{y} \\right)}$"
      ],
      "text/plain": [
       "y**2*(1 - y)*asinh(1/y)"
      ]
     },
     "execution_count": 13,
     "metadata": {},
     "output_type": "execute_result"
    }
   ],
   "source": [
    "f"
   ]
  },
  {
   "cell_type": "code",
   "execution_count": 14,
   "metadata": {},
   "outputs": [
    {
     "data": {
      "text/latex": [
       "$\\displaystyle \\int y^{2} \\operatorname{asinh}{\\left(\\frac{1}{y} \\right)}\\, dy - \\int y^{3} \\operatorname{asinh}{\\left(\\frac{1}{y} \\right)}\\, dy$"
      ],
      "text/plain": [
       "Integral(y**2*asinh(1/y), y) - Integral(y**3*asinh(1/y), y)"
      ]
     },
     "execution_count": 14,
     "metadata": {},
     "output_type": "execute_result"
    }
   ],
   "source": [
    "integrate(f,y).doit()"
   ]
  },
  {
   "cell_type": "code",
   "execution_count": 15,
   "metadata": {},
   "outputs": [
    {
     "data": {
      "text/latex": [
       "$\\displaystyle - \\int\\limits_{0}^{1} y^{3} \\operatorname{asinh}{\\left(\\frac{1}{y} \\right)}\\, dy - \\int\\limits_{0}^{1} \\left(- y^{2} \\operatorname{asinh}{\\left(\\frac{1}{y} \\right)}\\right)\\, dy$"
      ],
      "text/plain": [
       "-Integral(y**3*asinh(1/y), (y, 0, 1)) - Integral(-y**2*asinh(1/y), (y, 0, 1))"
      ]
     },
     "execution_count": 15,
     "metadata": {},
     "output_type": "execute_result"
    }
   ],
   "source": [
    "integrate(f, (y,0,1))"
   ]
  },
  {
   "cell_type": "code",
   "execution_count": 16,
   "metadata": {},
   "outputs": [
    {
     "data": {
      "text/latex": [
       "$\\displaystyle \\lim_{y \\to 0^+}\\left(- y^{3} \\operatorname{asinh}{\\left(\\frac{1}{y} \\right)} + y^{2} \\operatorname{asinh}{\\left(\\frac{1}{y} \\right)}\\right)$"
      ],
      "text/plain": [
       "Limit(-y**3*asinh(1/y) + y**2*asinh(1/y), y, 0)"
      ]
     },
     "execution_count": 16,
     "metadata": {},
     "output_type": "execute_result"
    }
   ],
   "source": [
    "limit(f,y,0).doit()"
   ]
  },
  {
   "cell_type": "code",
   "execution_count": 17,
   "metadata": {},
   "outputs": [],
   "source": [
    "g = y*y*(1-y) * log(1/y + sqrt(1+1/(y*y)))"
   ]
  },
  {
   "cell_type": "code",
   "execution_count": 18,
   "metadata": {},
   "outputs": [
    {
     "data": {
      "text/latex": [
       "$\\displaystyle y^{2} \\cdot \\left(1 - y\\right) \\log{\\left(\\sqrt{1 + \\frac{1}{y^{2}}} + \\frac{1}{y} \\right)}$"
      ],
      "text/plain": [
       "y**2*(1 - y)*log(sqrt(1 + y**(-2)) + 1/y)"
      ]
     },
     "execution_count": 18,
     "metadata": {},
     "output_type": "execute_result"
    }
   ],
   "source": [
    "g"
   ]
  },
  {
   "cell_type": "raw",
   "metadata": {},
   "source": [
    "integrate(g,(y,0,1))"
   ]
  },
  {
   "cell_type": "code",
   "execution_count": 19,
   "metadata": {},
   "outputs": [],
   "source": [
    "g1 = y*y * log(1/y + sqrt(1+1/(y*y)))"
   ]
  },
  {
   "cell_type": "code",
   "execution_count": 20,
   "metadata": {},
   "outputs": [
    {
     "data": {
      "text/latex": [
       "$\\displaystyle y^{2} \\log{\\left(\\sqrt{1 + \\frac{1}{y^{2}}} + \\frac{1}{y} \\right)}$"
      ],
      "text/plain": [
       "y**2*log(sqrt(1 + y**(-2)) + 1/y)"
      ]
     },
     "execution_count": 20,
     "metadata": {},
     "output_type": "execute_result"
    }
   ],
   "source": [
    "g1"
   ]
  },
  {
   "cell_type": "code",
   "execution_count": 21,
   "metadata": {},
   "outputs": [
    {
     "data": {
      "text/latex": [
       "$\\displaystyle \\int y^{2} \\log{\\left(\\sqrt{1 + \\frac{1}{y^{2}}} + \\frac{1}{y} \\right)}\\, dy$"
      ],
      "text/plain": [
       "Integral(y**2*log(sqrt(1 + y**(-2)) + 1/y), y)"
      ]
     },
     "execution_count": 21,
     "metadata": {},
     "output_type": "execute_result"
    }
   ],
   "source": [
    "integrate(g1,y)"
   ]
  },
  {
   "attachments": {},
   "cell_type": "markdown",
   "metadata": {},
   "source": [
    "For integrating substitute u = 1/y and du = -1/(y*y) dy; y = 0..1 becomes u = oo..1\n",
    "du = -u*u dy, hence dy = -1/(u*u) du"
   ]
  },
  {
   "cell_type": "code",
   "execution_count": 22,
   "metadata": {},
   "outputs": [],
   "source": [
    "u = symbols(\"u\")"
   ]
  },
  {
   "cell_type": "code",
   "execution_count": 23,
   "metadata": {},
   "outputs": [],
   "source": [
    "f1u = 1/(u*u) * asinh(u) * (-1)/(u*u)"
   ]
  },
  {
   "cell_type": "code",
   "execution_count": 24,
   "metadata": {},
   "outputs": [
    {
     "data": {
      "text/latex": [
       "$\\displaystyle - \\frac{\\operatorname{asinh}{\\left(u \\right)}}{u^{4}}$"
      ],
      "text/plain": [
       "-asinh(u)/u**4"
      ]
     },
     "execution_count": 24,
     "metadata": {},
     "output_type": "execute_result"
    }
   ],
   "source": [
    "f1u"
   ]
  },
  {
   "cell_type": "code",
   "execution_count": 25,
   "metadata": {},
   "outputs": [
    {
     "data": {
      "text/latex": [
       "$\\displaystyle - \\int\\limits_{1}^{\\infty} \\frac{\\operatorname{asinh}{\\left(u \\right)}}{u^{4}}\\, du$"
      ],
      "text/plain": [
       "-Integral(asinh(u)/u**4, (u, 1, oo))"
      ]
     },
     "execution_count": 25,
     "metadata": {},
     "output_type": "execute_result"
    }
   ],
   "source": [
    "integrate(f1u,(u,1,oo))"
   ]
  },
  {
   "cell_type": "code",
   "execution_count": 26,
   "metadata": {},
   "outputs": [
    {
     "data": {
      "text/latex": [
       "$\\displaystyle - \\int \\frac{\\operatorname{asinh}{\\left(u \\right)}}{u^{4}}\\, du$"
      ],
      "text/plain": [
       "-Integral(asinh(u)/u**4, u)"
      ]
     },
     "execution_count": 26,
     "metadata": {},
     "output_type": "execute_result"
    }
   ],
   "source": [
    "integrate(f1u,u)"
   ]
  },
  {
   "cell_type": "code",
   "execution_count": 27,
   "metadata": {},
   "outputs": [],
   "source": [
    "g1u = 1/(u*u*u*u) * log(u+sqrt(u*u+1))"
   ]
  },
  {
   "cell_type": "code",
   "execution_count": 28,
   "metadata": {},
   "outputs": [
    {
     "data": {
      "text/latex": [
       "$\\displaystyle \\frac{\\log{\\left(u + \\sqrt{u^{2} + 1} \\right)}}{u^{4}}$"
      ],
      "text/plain": [
       "log(u + sqrt(u**2 + 1))/u**4"
      ]
     },
     "execution_count": 28,
     "metadata": {},
     "output_type": "execute_result"
    }
   ],
   "source": [
    "g1u"
   ]
  },
  {
   "cell_type": "code",
   "execution_count": 29,
   "metadata": {},
   "outputs": [
    {
     "data": {
      "text/latex": [
       "$\\displaystyle \\int \\frac{\\log{\\left(u + \\sqrt{u^{2} + 1} \\right)}}{u^{4}}\\, du$"
      ],
      "text/plain": [
       "Integral(log(u + sqrt(u**2 + 1))/u**4, u)"
      ]
     },
     "execution_count": 29,
     "metadata": {},
     "output_type": "execute_result"
    }
   ],
   "source": [
    "integrate(g1u,u)"
   ]
  },
  {
   "cell_type": "code",
   "execution_count": 30,
   "metadata": {},
   "outputs": [
    {
     "data": {
      "text/latex": [
       "$\\displaystyle \\int\\limits_{1}^{\\infty} \\frac{\\log{\\left(u + \\sqrt{u^{2} + 1} \\right)}}{u^{4}}\\, du$"
      ],
      "text/plain": [
       "Integral(log(u + sqrt(u**2 + 1))/u**4, (u, 1, oo))"
      ]
     },
     "execution_count": 30,
     "metadata": {},
     "output_type": "execute_result"
    }
   ],
   "source": [
    "integrate(g1u,(u,1,oo))"
   ]
  },
  {
   "cell_type": "code",
   "execution_count": 31,
   "metadata": {},
   "outputs": [
    {
     "data": {
      "text/latex": [
       "$\\displaystyle 0.382597858232106$"
      ],
      "text/plain": [
       "0.382597858232106"
      ]
     },
     "execution_count": 31,
     "metadata": {},
     "output_type": "execute_result"
    }
   ],
   "source": [
    "_.evalf()"
   ]
  },
  {
   "cell_type": "code",
   "execution_count": 32,
   "metadata": {},
   "outputs": [
    {
     "data": {
      "text/latex": [
       "$\\displaystyle y^{2} \\log{\\left(\\sqrt{1 + \\frac{1}{y^{2}}} + \\frac{1}{y} \\right)}$"
      ],
      "text/plain": [
       "y**2*log(sqrt(1 + y**(-2)) + 1/y)"
      ]
     },
     "execution_count": 32,
     "metadata": {},
     "output_type": "execute_result"
    }
   ],
   "source": [
    "g1"
   ]
  },
  {
   "cell_type": "code",
   "execution_count": 33,
   "metadata": {},
   "outputs": [],
   "source": [
    "AveDistExpanded_done = AveDistExpanded.doit()"
   ]
  },
  {
   "cell_type": "code",
   "execution_count": 34,
   "metadata": {},
   "outputs": [
    {
     "data": {
      "text/latex": [
       "$\\displaystyle - \\frac{13 \\sqrt{2}}{30} - 2 \\int\\limits_{0}^{1} y^{3} \\operatorname{asinh}{\\left(\\frac{1}{y} \\right)}\\, dy + \\frac{\\log{\\left(1 + \\sqrt{2} \\right)}}{2} + \\frac{7}{15} + 2 \\int\\limits_{0}^{1} y^{2} \\operatorname{asinh}{\\left(\\frac{1}{y} \\right)}\\, dy$"
      ],
      "text/plain": [
       "-13*sqrt(2)/30 - 2*Integral(y**3*asinh(1/y), (y, 0, 1)) + log(1 + sqrt(2))/2 + 7/15 + 2*Integral(y**2*asinh(1/y), (y, 0, 1))"
      ]
     },
     "execution_count": 34,
     "metadata": {},
     "output_type": "execute_result"
    }
   ],
   "source": [
    "AveDistExpanded_done"
   ]
  },
  {
   "cell_type": "code",
   "execution_count": null,
   "metadata": {},
   "outputs": [],
   "source": []
  }
 ],
 "metadata": {
  "kernelspec": {
   "display_name": "Python 3",
   "language": "python",
   "name": "python3"
  },
  "language_info": {
   "codemirror_mode": {
    "name": "ipython",
    "version": 3
   },
   "file_extension": ".py",
   "mimetype": "text/x-python",
   "name": "python",
   "nbconvert_exporter": "python",
   "pygments_lexer": "ipython3",
   "version": "3.10.4"
  }
 },
 "nbformat": 4,
 "nbformat_minor": 4
}
