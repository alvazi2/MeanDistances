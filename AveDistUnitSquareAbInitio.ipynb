{
 "cells": [
  {
   "attachments": {},
   "cell_type": "markdown",
   "metadata": {},
   "source": [
    "# Average Distance in Unit Square - ab initio\n"
   ]
  },
  {
   "cell_type": "code",
   "execution_count": 14,
   "metadata": {},
   "outputs": [],
   "source": [
    "from sympy import *\n",
    "x, y, u = symbols('x y u')\n",
    "x1, x2, y1, y2 = symbols('x1 x2 y1 y2')\n",
    "sx, sy = symbols('sx sy')"
   ]
  },
  {
   "cell_type": "code",
   "execution_count": 15,
   "metadata": {},
   "outputs": [],
   "source": [
    "AverageDistanceIntegral = Integral(sqrt((x2-x1)**2 + (y2-y1)**2), (x1,0,1), (x2,0,1), (y1,0,1), (y2,0,1))"
   ]
  },
  {
   "cell_type": "code",
   "execution_count": 16,
   "metadata": {},
   "outputs": [
    {
     "data": {
      "text/latex": [
       "$\\displaystyle \\int\\limits_{0}^{1}\\int\\limits_{0}^{1}\\int\\limits_{0}^{1}\\int\\limits_{0}^{1} \\sqrt{\\left(- x_{1} + x_{2}\\right)^{2} + \\left(- y_{1} + y_{2}\\right)^{2}}\\, dx_{1}\\, dx_{2}\\, dy_{1}\\, dy_{2}$"
      ],
      "text/plain": [
       "Integral(sqrt((-x1 + x2)**2 + (-y1 + y2)**2), (x1, 0, 1), (x2, 0, 1), (y1, 0, 1), (y2, 0, 1))"
      ]
     },
     "execution_count": 16,
     "metadata": {},
     "output_type": "execute_result"
    }
   ],
   "source": [
    "AverageDistanceIntegral"
   ]
  },
  {
   "attachments": {},
   "cell_type": "markdown",
   "metadata": {},
   "source": [
    "Introduce new variables x = x2 - x1 and y = y2 - y1 for the x and y components of a distance between 2 random points"
   ]
  },
  {
   "cell_type": "code",
   "execution_count": 17,
   "metadata": {},
   "outputs": [],
   "source": [
    "Distance = sqrt(x**2 + y**2)"
   ]
  },
  {
   "cell_type": "code",
   "execution_count": 18,
   "metadata": {},
   "outputs": [
    {
     "data": {
      "text/latex": [
       "$\\displaystyle \\sqrt{x^{2} + y^{2}}$"
      ],
      "text/plain": [
       "sqrt(x**2 + y**2)"
      ]
     },
     "execution_count": 18,
     "metadata": {},
     "output_type": "execute_result"
    }
   ],
   "source": [
    "Distance"
   ]
  },
  {
   "attachments": {},
   "cell_type": "markdown",
   "metadata": {},
   "source": [
    "For a given positive x, x1 can vary between 0 and 1-x. For a given negative x, x1 can vary between 0 and 1+x. So x varies between -1 and 1 and x1 between 0 and 1-abs(x). Similar for y and y1.\n",
    "As the distance is unchanged by sign, integration can be restricted to positive x and y. This contributes a factor of 2 each for x and y, in total a factor of 4.\n",
    "With this the average distance integral becomes:"
   ]
  },
  {
   "cell_type": "code",
   "execution_count": 19,
   "metadata": {},
   "outputs": [],
   "source": [
    "AverageDistanceIntegralByS = 4 *Integral(Distance, (x,0,1), (y,0,1), (x1,0,1-x), (y1,0,1-y))"
   ]
  },
  {
   "cell_type": "code",
   "execution_count": 20,
   "metadata": {},
   "outputs": [
    {
     "data": {
      "text/latex": [
       "$\\displaystyle 4 \\int\\limits_{0}^{1 - y}\\int\\limits_{0}^{1 - x}\\int\\limits_{0}^{1}\\int\\limits_{0}^{1} \\sqrt{x^{2} + y^{2}}\\, dx\\, dy\\, dx_{1}\\, dy_{1}$"
      ],
      "text/plain": [
       "4*Integral(sqrt(x**2 + y**2), (x, 0, 1), (y, 0, 1), (x1, 0, 1 - x), (y1, 0, 1 - y))"
      ]
     },
     "execution_count": 20,
     "metadata": {},
     "output_type": "execute_result"
    }
   ],
   "source": [
    "AverageDistanceIntegralByS"
   ]
  },
  {
   "attachments": {},
   "cell_type": "markdown",
   "metadata": {},
   "source": [
    "This integral can be reduced to 2 dimensions by integrating over x1 and y1. The integrand does not depend on x1 and y1."
   ]
  },
  {
   "cell_type": "code",
   "execution_count": 21,
   "metadata": {},
   "outputs": [],
   "source": [
    "WeightedDistance = integrate(4 * Distance, (x1,0,1-x), (y1,0,1-y)).doit()"
   ]
  },
  {
   "cell_type": "code",
   "execution_count": 22,
   "metadata": {},
   "outputs": [
    {
     "data": {
      "text/latex": [
       "$\\displaystyle 4 \\cdot \\left(1 - x\\right) \\left(1 - y\\right) \\sqrt{x^{2} + y^{2}}$"
      ],
      "text/plain": [
       "4*(1 - x)*(1 - y)*sqrt(x**2 + y**2)"
      ]
     },
     "execution_count": 22,
     "metadata": {},
     "output_type": "execute_result"
    }
   ],
   "source": [
    "WeightedDistance"
   ]
  },
  {
   "attachments": {},
   "cell_type": "markdown",
   "metadata": {},
   "source": [
    "Now we have reduced the 4-dimensional integral to 2 dimensions (x and y components of distance s)."
   ]
  },
  {
   "attachments": {},
   "cell_type": "markdown",
   "metadata": {},
   "source": [
    "Next, do the y integration:"
   ]
  },
  {
   "cell_type": "code",
   "execution_count": 23,
   "metadata": {},
   "outputs": [
    {
     "data": {
      "text/latex": [
       "$\\displaystyle \\left(4 x - 4\\right) \\int\\limits_{0}^{1} \\sqrt{x^{2} + y^{2}} \\left(y - 1\\right)\\, dy$"
      ],
      "text/plain": [
       "(4*x - 4)*Integral(sqrt(x**2 + y**2)*(y - 1), (y, 0, 1))"
      ]
     },
     "execution_count": 23,
     "metadata": {},
     "output_type": "execute_result"
    }
   ],
   "source": [
    "AverageDistanceX = integrate(WeightedDistance, (y,0,1))\n",
    "AverageDistanceX"
   ]
  },
  {
   "attachments": {},
   "cell_type": "markdown",
   "metadata": {},
   "source": [
    "Do the x integration"
   ]
  },
  {
   "cell_type": "code",
   "execution_count": 24,
   "metadata": {},
   "outputs": [
    {
     "data": {
      "text/latex": [
       "$\\displaystyle 4 \\int\\limits_{0}^{1} x \\int\\limits_{0}^{1} y \\sqrt{x^{2} + y^{2}}\\, dy\\, dx + 4 \\int\\limits_{0}^{1} x \\int\\limits_{0}^{1} \\left(- \\sqrt{x^{2} + y^{2}}\\right)\\, dy\\, dx + 4 \\int\\limits_{0}^{1} \\left(- \\int\\limits_{0}^{1} y \\sqrt{x^{2} + y^{2}}\\, dy\\right)\\, dx + 4 \\int\\limits_{0}^{1} \\left(- \\int\\limits_{0}^{1} \\left(- \\sqrt{x^{2} + y^{2}}\\right)\\, dy\\right)\\, dx$"
      ],
      "text/plain": [
       "4*Integral(x*Integral(y*sqrt(x**2 + y**2), (y, 0, 1)), (x, 0, 1)) + 4*Integral(x*Integral(-sqrt(x**2 + y**2), (y, 0, 1)), (x, 0, 1)) + 4*Integral(-Integral(y*sqrt(x**2 + y**2), (y, 0, 1)), (x, 0, 1)) + 4*Integral(-Integral(-sqrt(x**2 + y**2), (y, 0, 1)), (x, 0, 1))"
      ]
     },
     "execution_count": 24,
     "metadata": {},
     "output_type": "execute_result"
    }
   ],
   "source": [
    "AverageDistance = integrate(AverageDistanceX, (x,0,1))\n",
    "AverageDistance"
   ]
  },
  {
   "cell_type": "code",
   "execution_count": 25,
   "metadata": {},
   "outputs": [
    {
     "data": {
      "text/latex": [
       "$\\displaystyle 4.0 \\int\\limits_{0}^{1} x \\int\\limits_{0}^{1} y \\sqrt{x^{2} + y^{2}}\\, dy\\, dx + 4.0 \\int\\limits_{0}^{1} x \\int\\limits_{0}^{1} \\left(- \\sqrt{x^{2} + y^{2}}\\right)\\, dy\\, dx + 4.0 \\int\\limits_{0}^{1} \\left(- \\int\\limits_{0}^{1} y \\sqrt{x^{2} + y^{2}}\\, dy\\right)\\, dx + 4.0 \\int\\limits_{0}^{1} \\left(- \\int\\limits_{0}^{1} \\left(- \\sqrt{x^{2} + y^{2}}\\right)\\, dy\\right)\\, dx$"
      ],
      "text/plain": [
       "4.0*Integral(x*Integral(y*sqrt(x**2 + y**2), (y, 0, 1)), (x, 0, 1)) + 4.0*Integral(x*Integral(-sqrt(x**2 + y**2), (y, 0, 1)), (x, 0, 1)) + 4.0*Integral(-Integral(y*sqrt(x**2 + y**2), (y, 0, 1)), (x, 0, 1)) + 4.0*Integral(-Integral(-sqrt(x**2 + y**2), (y, 0, 1)), (x, 0, 1))"
      ]
     },
     "execution_count": 25,
     "metadata": {},
     "output_type": "execute_result"
    }
   ],
   "source": [
    "AverageDistance.evalf()"
   ]
  },
  {
   "cell_type": "code",
   "execution_count": 27,
   "metadata": {},
   "outputs": [
    {
     "data": {
      "text/latex": [
       "$\\displaystyle \\frac{\\sqrt{2}}{15} + \\frac{2}{15} + \\frac{\\log{\\left(1 + \\sqrt{2} \\right)}}{3}$"
      ],
      "text/plain": [
       "sqrt(2)/15 + 2/15 + log(1 + sqrt(2))/3"
      ]
     },
     "execution_count": 27,
     "metadata": {},
     "output_type": "execute_result"
    }
   ],
   "source": [
    "# Integrate in one shot\n",
    "integrate(WeightedDistance, (y,0,1), (x,0,1))"
   ]
  }
 ],
 "metadata": {
  "kernelspec": {
   "display_name": "Python 3",
   "language": "python",
   "name": "python3"
  },
  "language_info": {
   "codemirror_mode": {
    "name": "ipython",
    "version": 3
   },
   "file_extension": ".py",
   "mimetype": "text/x-python",
   "name": "python",
   "nbconvert_exporter": "python",
   "pygments_lexer": "ipython3",
   "version": "3.12.0"
  }
 },
 "nbformat": 4,
 "nbformat_minor": 4
}
