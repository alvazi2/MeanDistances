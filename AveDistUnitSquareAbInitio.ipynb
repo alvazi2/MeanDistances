{
 "cells": [
  {
   "cell_type": "markdown",
   "metadata": {},
   "source": [
    "# Average Distance in Unit Square - ab initio"
   ]
  },
  {
   "cell_type": "code",
   "execution_count": 1,
   "metadata": {},
   "outputs": [],
   "source": [
    "import sympy\n",
    "from sympy import *\n",
    "x, y, u = symbols('x y u')\n",
    "x1, x2, y1, y2 = symbols('x1 x2 y1 y2')\n",
    "sx, sy = symbols('sx sy')"
   ]
  },
  {
   "cell_type": "code",
   "execution_count": 2,
   "metadata": {},
   "outputs": [],
   "source": [
    "AverageDistanceIntegral = Integral(sqrt((x2-x1)**2 + (y2-y1)**2), (x1,0,1), (x2,0,1), (y1,0,1), (y2,0,1))"
   ]
  },
  {
   "cell_type": "code",
   "execution_count": 3,
   "metadata": {},
   "outputs": [
    {
     "data": {
      "text/latex": [
       "$\\displaystyle \\int\\limits_{0}^{1}\\int\\limits_{0}^{1}\\int\\limits_{0}^{1}\\int\\limits_{0}^{1} \\sqrt{\\left(- x_{1} + x_{2}\\right)^{2} + \\left(- y_{1} + y_{2}\\right)^{2}}\\, dx_{1}\\, dx_{2}\\, dy_{1}\\, dy_{2}$"
      ],
      "text/plain": [
       "Integral(sqrt((-x1 + x2)**2 + (-y1 + y2)**2), (x1, 0, 1), (x2, 0, 1), (y1, 0, 1), (y2, 0, 1))"
      ]
     },
     "execution_count": 3,
     "metadata": {},
     "output_type": "execute_result"
    }
   ],
   "source": [
    "AverageDistanceIntegral"
   ]
  },
  {
   "cell_type": "markdown",
   "metadata": {},
   "source": [
    "Introduce new variables x = x2 - x1 and y = y2 - y1 for the x and y components of a distance between 2 random points"
   ]
  },
  {
   "cell_type": "code",
   "execution_count": 4,
   "metadata": {},
   "outputs": [],
   "source": [
    "Distance = sqrt(x**2 + y**2)"
   ]
  },
  {
   "cell_type": "code",
   "execution_count": 5,
   "metadata": {},
   "outputs": [
    {
     "data": {
      "text/latex": [
       "$\\displaystyle \\sqrt{x^{2} + y^{2}}$"
      ],
      "text/plain": [
       "sqrt(x**2 + y**2)"
      ]
     },
     "execution_count": 5,
     "metadata": {},
     "output_type": "execute_result"
    }
   ],
   "source": [
    "Distance"
   ]
  },
  {
   "cell_type": "markdown",
   "metadata": {},
   "source": [
    "For a given positive x, x1 can vary between 0 and 1-x. For a given negative x, x1 can vary between 0 and 1+x. So x varies between -1 and 1 and x1 between 0 and 1-abs(x). Similar for y and y1.\n",
    "As the distance is unchanged by sign, integration can be restricted to positive x and y. This contributes a factor of 2 each for x and y, in total a factor of 4.\n",
    "With this the average distance integral becomes:"
   ]
  },
  {
   "cell_type": "code",
   "execution_count": 6,
   "metadata": {},
   "outputs": [],
   "source": [
    "AverageDistanceIntegralByS = 4 *Integral(Distance, (x,0,1), (y,0,1), (x1,0,1-x), (y1,0,1-y))"
   ]
  },
  {
   "cell_type": "code",
   "execution_count": 7,
   "metadata": {},
   "outputs": [
    {
     "data": {
      "text/latex": [
       "$\\displaystyle 4 \\int\\limits_{0}^{1 - y}\\int\\limits_{0}^{1 - x}\\int\\limits_{0}^{1}\\int\\limits_{0}^{1} \\sqrt{x^{2} + y^{2}}\\, dx\\, dy\\, dx_{1}\\, dy_{1}$"
      ],
      "text/plain": [
       "4*Integral(sqrt(x**2 + y**2), (x, 0, 1), (y, 0, 1), (x1, 0, 1 - x), (y1, 0, 1 - y))"
      ]
     },
     "execution_count": 7,
     "metadata": {},
     "output_type": "execute_result"
    }
   ],
   "source": [
    "AverageDistanceIntegralByS"
   ]
  },
  {
   "cell_type": "markdown",
   "metadata": {},
   "source": [
    "This integral can be reduced to 2 dimensions by integrating over x1 and y1. The integrand does not depend on x1 and y1."
   ]
  },
  {
   "cell_type": "code",
   "execution_count": 8,
   "metadata": {},
   "outputs": [],
   "source": [
    "WeightedDistance = integrate(4 * Distance, (x1,0,1-x), (y1,0,1-y)).doit()"
   ]
  },
  {
   "cell_type": "code",
   "execution_count": 9,
   "metadata": {},
   "outputs": [
    {
     "data": {
      "text/latex": [
       "$\\displaystyle 4 \\left(1 - x\\right) \\left(1 - y\\right) \\sqrt{x^{2} + y^{2}}$"
      ],
      "text/plain": [
       "4*(1 - x)*(1 - y)*sqrt(x**2 + y**2)"
      ]
     },
     "execution_count": 9,
     "metadata": {},
     "output_type": "execute_result"
    }
   ],
   "source": [
    "WeightedDistance"
   ]
  },
  {
   "cell_type": "markdown",
   "metadata": {},
   "source": [
    "Now we have reduced the 4-dimensional integral to 2 dimensions (x and y components of distance s)."
   ]
  },
  {
   "cell_type": "markdown",
   "metadata": {},
   "source": [
    "Next, do the y integration:"
   ]
  },
  {
   "cell_type": "code",
   "execution_count": 10,
   "metadata": {},
   "outputs": [],
   "source": [
    "AverageDistanceX = integrate(WeightedDistance, (y,0,1))"
   ]
  },
  {
   "cell_type": "code",
   "execution_count": 11,
   "metadata": {},
   "outputs": [
    {
     "data": {
      "text/latex": [
       "$\\displaystyle \\left(4 - 4 x\\right) \\left(\\frac{x^{2} \\operatorname{asinh}{\\left(\\frac{1}{x} \\right)}}{2} + \\frac{x \\sqrt{1 + \\frac{1}{x^{2}}}}{2} - \\frac{\\left(x^{2} + 1\\right)^{\\frac{3}{2}}}{3}\\right) + \\frac{\\left(4 - 4 x\\right) \\left(x^{2}\\right)^{\\frac{3}{2}}}{3}$"
      ],
      "text/plain": [
       "(4 - 4*x)*(x**2*asinh(1/x)/2 + x*sqrt(1 + x**(-2))/2 - (x**2 + 1)**(3/2)/3) + (4 - 4*x)*(x**2)**(3/2)/3"
      ]
     },
     "execution_count": 11,
     "metadata": {},
     "output_type": "execute_result"
    }
   ],
   "source": [
    "AverageDistanceX"
   ]
  },
  {
   "cell_type": "markdown",
   "metadata": {},
   "source": [
    "Do the x integration"
   ]
  },
  {
   "cell_type": "code",
   "execution_count": 12,
   "metadata": {},
   "outputs": [],
   "source": [
    "AverageDistance = integrate(AverageDistanceX, (x,0,1))"
   ]
  },
  {
   "cell_type": "code",
   "execution_count": 13,
   "metadata": {},
   "outputs": [
    {
     "data": {
      "text/latex": [
       "$\\displaystyle - \\frac{2 \\int\\limits_{0}^{1} \\left(x - 1\\right) \\left(2 x^{3} - 2 x^{2} \\sqrt{x^{2} + 1} + 3 x^{2} \\operatorname{asinh}{\\left(\\frac{1}{x} \\right)} + \\sqrt{x^{2} + 1}\\right)\\, dx}{3}$"
      ],
      "text/plain": [
       "-2*Integral((x - 1)*(2*x**3 - 2*x**2*sqrt(x**2 + 1) + 3*x**2*asinh(1/x) + sqrt(x**2 + 1)), (x, 0, 1))/3"
      ]
     },
     "execution_count": 13,
     "metadata": {},
     "output_type": "execute_result"
    }
   ],
   "source": [
    "AverageDistance"
   ]
  },
  {
   "cell_type": "code",
   "execution_count": 14,
   "metadata": {},
   "outputs": [],
   "source": [
    "AverageDistanceExpanded = expand(AverageDistance).doit()"
   ]
  },
  {
   "cell_type": "code",
   "execution_count": 15,
   "metadata": {},
   "outputs": [
    {
     "data": {
      "text/latex": [
       "$\\displaystyle - \\frac{13 \\sqrt{2}}{30} - 2 \\int\\limits_{0}^{1} x^{3} \\operatorname{asinh}{\\left(\\frac{1}{x} \\right)}\\, dx + \\frac{\\log{\\left(1 + \\sqrt{2} \\right)}}{2} + \\frac{7}{15} + 2 \\int\\limits_{0}^{1} x^{2} \\operatorname{asinh}{\\left(\\frac{1}{x} \\right)}\\, dx$"
      ],
      "text/plain": [
       "-13*sqrt(2)/30 - 2*Integral(x**3*asinh(1/x), (x, 0, 1)) + log(1 + sqrt(2))/2 + 7/15 + 2*Integral(x**2*asinh(1/x), (x, 0, 1))"
      ]
     },
     "execution_count": 15,
     "metadata": {},
     "output_type": "execute_result"
    }
   ],
   "source": [
    "AverageDistanceExpanded"
   ]
  },
  {
   "cell_type": "code",
   "execution_count": 16,
   "metadata": {},
   "outputs": [],
   "source": [
    "AverageDistanceIntegral = Integral(AverageDistanceX, (x,0,1))"
   ]
  },
  {
   "cell_type": "code",
   "execution_count": 17,
   "metadata": {},
   "outputs": [
    {
     "data": {
      "text/latex": [
       "$\\displaystyle \\int\\limits_{0}^{1} \\left(\\left(4 - 4 x\\right) \\left(\\frac{x^{2} \\operatorname{asinh}{\\left(\\frac{1}{x} \\right)}}{2} + \\frac{x \\sqrt{1 + \\frac{1}{x^{2}}}}{2} - \\frac{\\left(x^{2} + 1\\right)^{\\frac{3}{2}}}{3}\\right) + \\frac{\\left(4 - 4 x\\right) \\left(x^{2}\\right)^{\\frac{3}{2}}}{3}\\right)\\, dx$"
      ],
      "text/plain": [
       "Integral((4 - 4*x)*(x**2*asinh(1/x)/2 + x*sqrt(1 + x**(-2))/2 - (x**2 + 1)**(3/2)/3) + (4 - 4*x)*(x**2)**(3/2)/3, (x, 0, 1))"
      ]
     },
     "execution_count": 17,
     "metadata": {},
     "output_type": "execute_result"
    }
   ],
   "source": [
    "AverageDistanceIntegral"
   ]
  },
  {
   "cell_type": "code",
   "execution_count": 18,
   "metadata": {},
   "outputs": [
    {
     "data": {
      "text/latex": [
       "$\\displaystyle \\int\\limits_{0}^{1} \\left(- \\frac{4 \\sqrt{x^{2} + 1}}{3}\\right)\\, dx + \\int\\limits_{0}^{1} \\left(- 2 x^{2} \\sqrt{1 + \\frac{1}{x^{2}}}\\right)\\, dx + \\int\\limits_{0}^{1} \\left(- \\frac{4 x^{2} \\sqrt{x^{2} + 1}}{3}\\right)\\, dx + \\int\\limits_{0}^{1} \\left(- 2 x^{3} \\operatorname{asinh}{\\left(\\frac{1}{x} \\right)}\\right)\\, dx + \\int\\limits_{0}^{1} \\left(- \\frac{4 x \\left(x^{2}\\right)^{\\frac{3}{2}}}{3}\\right)\\, dx + \\int\\limits_{0}^{1} \\frac{4 \\left(x^{2}\\right)^{\\frac{3}{2}}}{3}\\, dx + \\int\\limits_{0}^{1} \\frac{4 x^{3} \\sqrt{x^{2} + 1}}{3}\\, dx + \\int\\limits_{0}^{1} 2 x^{2} \\operatorname{asinh}{\\left(\\frac{1}{x} \\right)}\\, dx + \\int\\limits_{0}^{1} \\frac{4 x \\sqrt{x^{2} + 1}}{3}\\, dx + \\int\\limits_{0}^{1} 2 x \\sqrt{1 + \\frac{1}{x^{2}}}\\, dx$"
      ],
      "text/plain": [
       "Integral(-4*sqrt(x**2 + 1)/3, (x, 0, 1)) + Integral(-2*x**2*sqrt(1 + x**(-2)), (x, 0, 1)) + Integral(-4*x**2*sqrt(x**2 + 1)/3, (x, 0, 1)) + Integral(-2*x**3*asinh(1/x), (x, 0, 1)) + Integral(-4*x*(x**2)**(3/2)/3, (x, 0, 1)) + Integral(4*(x**2)**(3/2)/3, (x, 0, 1)) + Integral(4*x**3*sqrt(x**2 + 1)/3, (x, 0, 1)) + Integral(2*x**2*asinh(1/x), (x, 0, 1)) + Integral(4*x*sqrt(x**2 + 1)/3, (x, 0, 1)) + Integral(2*x*sqrt(1 + x**(-2)), (x, 0, 1))"
      ]
     },
     "execution_count": 18,
     "metadata": {},
     "output_type": "execute_result"
    }
   ],
   "source": [
    "AverageDistanceIntegral.expand()"
   ]
  },
  {
   "cell_type": "code",
   "execution_count": 24,
   "metadata": {},
   "outputs": [],
   "source": [
    "AveDistIntegral2 = AverageDistanceIntegral.transform(x,1/u).expand().doit()"
   ]
  },
  {
   "cell_type": "markdown",
   "metadata": {},
   "source": [
    "asinh(x) = log(x + sqrt(1+x*x)); \n",
    "the integrals can be solved using partial integration, but how to tell sympy???"
   ]
  },
  {
   "cell_type": "code",
   "execution_count": 26,
   "metadata": {},
   "outputs": [
    {
     "data": {
      "text/latex": [
       "$\\displaystyle - \\frac{13 \\sqrt{2}}{30} - 2 \\int\\limits_{1}^{\\infty} \\frac{\\operatorname{asinh}{\\left(u \\right)}}{u^{5}}\\, du + \\frac{\\log{\\left(1 + \\sqrt{2} \\right)}}{2} + \\frac{7}{15} + 2 \\int\\limits_{1}^{\\infty} \\frac{\\operatorname{asinh}{\\left(u \\right)}}{u^{4}}\\, du$"
      ],
      "text/plain": [
       "-13*sqrt(2)/30 - 2*Integral(asinh(u)/u**5, (u, 1, oo)) + log(1 + sqrt(2))/2 + 7/15 + 2*Integral(asinh(u)/u**4, (u, 1, oo))"
      ]
     },
     "execution_count": 26,
     "metadata": {},
     "output_type": "execute_result"
    }
   ],
   "source": [
    "AveDistIntegral2"
   ]
  },
  {
   "cell_type": "code",
   "execution_count": 28,
   "metadata": {},
   "outputs": [],
   "source": [
    "AveDistIntegral3 = AveDistIntegral2.rewrite(log)"
   ]
  },
  {
   "cell_type": "code",
   "execution_count": 30,
   "metadata": {},
   "outputs": [
    {
     "data": {
      "text/latex": [
       "$\\displaystyle - \\frac{13 \\sqrt{2}}{30} - 2 \\int\\limits_{1}^{\\infty} \\frac{\\log{\\left(u + \\sqrt{u^{2} + 1} \\right)}}{u^{5}}\\, du + \\frac{\\log{\\left(1 + \\sqrt{2} \\right)}}{2} + \\frac{7}{15} + 2 \\int\\limits_{1}^{\\infty} \\frac{\\log{\\left(u + \\sqrt{u^{2} + 1} \\right)}}{u^{4}}\\, du$"
      ],
      "text/plain": [
       "-13*sqrt(2)/30 - 2*Integral(log(u + sqrt(u**2 + 1))/u**5, (u, 1, oo)) + log(1 + sqrt(2))/2 + 7/15 + 2*Integral(log(u + sqrt(u**2 + 1))/u**4, (u, 1, oo))"
      ]
     },
     "execution_count": 30,
     "metadata": {},
     "output_type": "execute_result"
    }
   ],
   "source": [
    "AveDistIntegral3"
   ]
  },
  {
   "cell_type": "code",
   "execution_count": 31,
   "metadata": {},
   "outputs": [
    {
     "data": {
      "text/latex": [
       "$\\displaystyle - \\frac{4 \\sqrt{2}}{15} + \\frac{2}{15} + 2 \\int\\limits_{1}^{\\infty} \\frac{\\log{\\left(u + \\sqrt{u^{2} + 1} \\right)}}{u^{4}}\\, du$"
      ],
      "text/plain": [
       "-4*sqrt(2)/15 + 2/15 + 2*Integral(log(u + sqrt(u**2 + 1))/u**4, (u, 1, oo))"
      ]
     },
     "execution_count": 31,
     "metadata": {},
     "output_type": "execute_result"
    }
   ],
   "source": [
    "AveDistIntegral3.doit()"
   ]
  },
  {
   "cell_type": "code",
   "execution_count": null,
   "metadata": {},
   "outputs": [],
   "source": []
  },
  {
   "cell_type": "code",
   "execution_count": null,
   "metadata": {},
   "outputs": [],
   "source": []
  }
 ],
 "metadata": {
  "kernelspec": {
   "display_name": "Python 3",
   "language": "python",
   "name": "python3"
  },
  "language_info": {
   "codemirror_mode": {
    "name": "ipython",
    "version": 3
   },
   "file_extension": ".py",
   "mimetype": "text/x-python",
   "name": "python",
   "nbconvert_exporter": "python",
   "pygments_lexer": "ipython3",
   "version": "3.8.2"
  }
 },
 "nbformat": 4,
 "nbformat_minor": 4
}
