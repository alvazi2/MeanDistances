{
 "cells": [
  {
   "attachments": {},
   "cell_type": "markdown",
   "metadata": {},
   "source": [
    "# Average Distance in Unit Square - ab initio"
   ]
  },
  {
   "cell_type": "code",
   "execution_count": 20,
   "metadata": {},
   "outputs": [],
   "source": [
    "import sympy\n",
    "from sympy import *\n",
    "x, y, u = symbols('x y u')\n",
    "x1, x2, y1, y2 = symbols('x1 x2 y1 y2')\n",
    "sx, sy = symbols('sx sy')"
   ]
  },
  {
   "cell_type": "code",
   "execution_count": 21,
   "metadata": {},
   "outputs": [],
   "source": [
    "AverageDistanceIntegral = Integral(sqrt((x2-x1)**2 + (y2-y1)**2), (x1,0,1), (x2,0,1), (y1,0,1), (y2,0,1))"
   ]
  },
  {
   "cell_type": "code",
   "execution_count": 22,
   "metadata": {},
   "outputs": [
    {
     "data": {
      "text/latex": [
       "$\\displaystyle \\int\\limits_{0}^{1}\\int\\limits_{0}^{1}\\int\\limits_{0}^{1}\\int\\limits_{0}^{1} \\sqrt{\\left(- x_{1} + x_{2}\\right)^{2} + \\left(- y_{1} + y_{2}\\right)^{2}}\\, dx_{1}\\, dx_{2}\\, dy_{1}\\, dy_{2}$"
      ],
      "text/plain": [
       "Integral(sqrt((-x1 + x2)**2 + (-y1 + y2)**2), (x1, 0, 1), (x2, 0, 1), (y1, 0, 1), (y2, 0, 1))"
      ]
     },
     "execution_count": 22,
     "metadata": {},
     "output_type": "execute_result"
    }
   ],
   "source": [
    "AverageDistanceIntegral"
   ]
  },
  {
   "attachments": {},
   "cell_type": "markdown",
   "metadata": {},
   "source": [
    "Introduce new variables x = x2 - x1 and y = y2 - y1 for the x and y components of a distance between 2 random points"
   ]
  },
  {
   "cell_type": "code",
   "execution_count": 23,
   "metadata": {},
   "outputs": [],
   "source": [
    "Distance = sqrt(x**2 + y**2)"
   ]
  },
  {
   "cell_type": "code",
   "execution_count": 24,
   "metadata": {},
   "outputs": [
    {
     "data": {
      "text/latex": [
       "$\\displaystyle \\sqrt{x^{2} + y^{2}}$"
      ],
      "text/plain": [
       "sqrt(x**2 + y**2)"
      ]
     },
     "execution_count": 24,
     "metadata": {},
     "output_type": "execute_result"
    }
   ],
   "source": [
    "Distance"
   ]
  },
  {
   "attachments": {},
   "cell_type": "markdown",
   "metadata": {},
   "source": [
    "For a given positive x, x1 can vary between 0 and 1-x. For a given negative x, x1 can vary between 0 and 1+x. So x varies between -1 and 1 and x1 between 0 and 1-abs(x). Similar for y and y1.\n",
    "As the distance is unchanged by sign, integration can be restricted to positive x and y. This contributes a factor of 2 each for x and y, in total a factor of 4.\n",
    "With this the average distance integral becomes:"
   ]
  },
  {
   "cell_type": "code",
   "execution_count": 25,
   "metadata": {},
   "outputs": [],
   "source": [
    "AverageDistanceIntegralByS = 4 *Integral(Distance, (x,0,1), (y,0,1), (x1,0,1-x), (y1,0,1-y))"
   ]
  },
  {
   "cell_type": "code",
   "execution_count": 26,
   "metadata": {},
   "outputs": [
    {
     "data": {
      "text/latex": [
       "$\\displaystyle 4 \\int\\limits_{0}^{1 - y}\\int\\limits_{0}^{1 - x}\\int\\limits_{0}^{1}\\int\\limits_{0}^{1} \\sqrt{x^{2} + y^{2}}\\, dx\\, dy\\, dx_{1}\\, dy_{1}$"
      ],
      "text/plain": [
       "4*Integral(sqrt(x**2 + y**2), (x, 0, 1), (y, 0, 1), (x1, 0, 1 - x), (y1, 0, 1 - y))"
      ]
     },
     "execution_count": 26,
     "metadata": {},
     "output_type": "execute_result"
    }
   ],
   "source": [
    "AverageDistanceIntegralByS"
   ]
  },
  {
   "attachments": {},
   "cell_type": "markdown",
   "metadata": {},
   "source": [
    "This integral can be reduced to 2 dimensions by integrating over x1 and y1. The integrand does not depend on x1 and y1."
   ]
  },
  {
   "cell_type": "code",
   "execution_count": 27,
   "metadata": {},
   "outputs": [],
   "source": [
    "WeightedDistance = integrate(4 * Distance, (x1,0,1-x), (y1,0,1-y)).doit()"
   ]
  },
  {
   "cell_type": "code",
   "execution_count": 28,
   "metadata": {},
   "outputs": [
    {
     "data": {
      "text/latex": [
       "$\\displaystyle 4 \\cdot \\left(1 - x\\right) \\left(1 - y\\right) \\sqrt{x^{2} + y^{2}}$"
      ],
      "text/plain": [
       "4*(1 - x)*(1 - y)*sqrt(x**2 + y**2)"
      ]
     },
     "execution_count": 28,
     "metadata": {},
     "output_type": "execute_result"
    }
   ],
   "source": [
    "WeightedDistance"
   ]
  },
  {
   "attachments": {},
   "cell_type": "markdown",
   "metadata": {},
   "source": [
    "Now we have reduced the 4-dimensional integral to 2 dimensions (x and y components of distance s)."
   ]
  },
  {
   "attachments": {},
   "cell_type": "markdown",
   "metadata": {},
   "source": [
    "Next, do the y integration:"
   ]
  },
  {
   "cell_type": "code",
   "execution_count": 29,
   "metadata": {},
   "outputs": [
    {
     "data": {
      "text/latex": [
       "$\\displaystyle - \\left(4 - 4 x\\right) \\left(- \\frac{x^{2} \\sqrt{x^{2}}}{3} + \\frac{x^{2} \\log{\\left(2 \\sqrt{x^{2}} \\right)}}{2}\\right) + \\left(4 - 4 x\\right) \\left(\\frac{x^{2} \\log{\\left(2 \\sqrt{x^{2} + 1} + 2 \\right)}}{2} + \\left(\\frac{1}{6} - \\frac{x^{2}}{3}\\right) \\sqrt{x^{2} + 1}\\right)$"
      ],
      "text/plain": [
       "-(4 - 4*x)*(-x**2*sqrt(x**2)/3 + x**2*log(2*sqrt(x**2))/2) + (4 - 4*x)*(x**2*log(2*sqrt(x**2 + 1) + 2)/2 + (1/6 - x**2/3)*sqrt(x**2 + 1))"
      ]
     },
     "execution_count": 29,
     "metadata": {},
     "output_type": "execute_result"
    }
   ],
   "source": [
    "AverageDistanceX = integrate(WeightedDistance, (y,0,1))\n",
    "AverageDistanceX"
   ]
  },
  {
   "attachments": {},
   "cell_type": "markdown",
   "metadata": {},
   "source": [
    "Do the x integration"
   ]
  },
  {
   "cell_type": "code",
   "execution_count": 30,
   "metadata": {},
   "outputs": [
    {
     "data": {
      "text/latex": [
       "$\\displaystyle \\frac{\\sqrt{2}}{15} + \\frac{2}{15} + \\frac{\\log{\\left(1 + \\sqrt{2} \\right)}}{3}$"
      ],
      "text/plain": [
       "sqrt(2)/15 + 2/15 + log(1 + sqrt(2))/3"
      ]
     },
     "execution_count": 30,
     "metadata": {},
     "output_type": "execute_result"
    }
   ],
   "source": [
    "AverageDistance = integrate(AverageDistanceX, (x,0,1))\n",
    "AverageDistance"
   ]
  },
  {
   "cell_type": "code",
   "execution_count": 31,
   "metadata": {},
   "outputs": [
    {
     "data": {
      "text/latex": [
       "$\\displaystyle 0.521405433164721$"
      ],
      "text/plain": [
       "0.521405433164721"
      ]
     },
     "execution_count": 31,
     "metadata": {},
     "output_type": "execute_result"
    }
   ],
   "source": [
    "AverageDistance.evalf()"
   ]
  },
  {
   "cell_type": "code",
   "execution_count": 32,
   "metadata": {},
   "outputs": [
    {
     "ename": "KeyboardInterrupt",
     "evalue": "",
     "output_type": "error",
     "traceback": [
      "\u001b[0;31m---------------------------------------------------------------------------\u001b[0m",
      "\u001b[0;31mKeyboardInterrupt\u001b[0m                         Traceback (most recent call last)",
      "\u001b[1;32m/Users/alvazi2/Documents/JupyterLab/MeanDistances/AveDistUnitSquareAbInitio.ipynb Cell 20\u001b[0m in \u001b[0;36m<cell line: 1>\u001b[0;34m()\u001b[0m\n\u001b[0;32m----> <a href='vscode-notebook-cell:/Users/alvazi2/Documents/JupyterLab/MeanDistances/AveDistUnitSquareAbInitio.ipynb#X30sZmlsZQ%3D%3D?line=0'>1</a>\u001b[0m integrate(WeightedDistance, (y,\u001b[39m0\u001b[39;49m,\u001b[39m1\u001b[39;49m), (x,\u001b[39m0\u001b[39;49m,\u001b[39m1\u001b[39;49m))\u001b[39m.\u001b[39;49mexpand()\u001b[39m.\u001b[39;49mrewrite(log)\u001b[39m.\u001b[39;49mdoit()\n",
      "File \u001b[0;32m/Library/Frameworks/Python.framework/Versions/3.10/lib/python3.10/site-packages/sympy/core/operations.py:455\u001b[0m, in \u001b[0;36mAssocOp.doit\u001b[0;34m(self, **hints)\u001b[0m\n\u001b[1;32m    453\u001b[0m \u001b[39mdef\u001b[39;00m \u001b[39mdoit\u001b[39m(\u001b[39mself\u001b[39m, \u001b[39m*\u001b[39m\u001b[39m*\u001b[39mhints):\n\u001b[1;32m    454\u001b[0m     \u001b[39mif\u001b[39;00m hints\u001b[39m.\u001b[39mget(\u001b[39m'\u001b[39m\u001b[39mdeep\u001b[39m\u001b[39m'\u001b[39m, \u001b[39mTrue\u001b[39;00m):\n\u001b[0;32m--> 455\u001b[0m         terms \u001b[39m=\u001b[39m [term\u001b[39m.\u001b[39mdoit(\u001b[39m*\u001b[39m\u001b[39m*\u001b[39mhints) \u001b[39mfor\u001b[39;00m term \u001b[39min\u001b[39;00m \u001b[39mself\u001b[39m\u001b[39m.\u001b[39margs]\n\u001b[1;32m    456\u001b[0m     \u001b[39melse\u001b[39;00m:\n\u001b[1;32m    457\u001b[0m         terms \u001b[39m=\u001b[39m \u001b[39mself\u001b[39m\u001b[39m.\u001b[39margs\n",
      "File \u001b[0;32m/Library/Frameworks/Python.framework/Versions/3.10/lib/python3.10/site-packages/sympy/core/operations.py:455\u001b[0m, in \u001b[0;36m<listcomp>\u001b[0;34m(.0)\u001b[0m\n\u001b[1;32m    453\u001b[0m \u001b[39mdef\u001b[39;00m \u001b[39mdoit\u001b[39m(\u001b[39mself\u001b[39m, \u001b[39m*\u001b[39m\u001b[39m*\u001b[39mhints):\n\u001b[1;32m    454\u001b[0m     \u001b[39mif\u001b[39;00m hints\u001b[39m.\u001b[39mget(\u001b[39m'\u001b[39m\u001b[39mdeep\u001b[39m\u001b[39m'\u001b[39m, \u001b[39mTrue\u001b[39;00m):\n\u001b[0;32m--> 455\u001b[0m         terms \u001b[39m=\u001b[39m [term\u001b[39m.\u001b[39;49mdoit(\u001b[39m*\u001b[39;49m\u001b[39m*\u001b[39;49mhints) \u001b[39mfor\u001b[39;00m term \u001b[39min\u001b[39;00m \u001b[39mself\u001b[39m\u001b[39m.\u001b[39margs]\n\u001b[1;32m    456\u001b[0m     \u001b[39melse\u001b[39;00m:\n\u001b[1;32m    457\u001b[0m         terms \u001b[39m=\u001b[39m \u001b[39mself\u001b[39m\u001b[39m.\u001b[39margs\n",
      "File \u001b[0;32m/Library/Frameworks/Python.framework/Versions/3.10/lib/python3.10/site-packages/sympy/core/operations.py:455\u001b[0m, in \u001b[0;36mAssocOp.doit\u001b[0;34m(self, **hints)\u001b[0m\n\u001b[1;32m    453\u001b[0m \u001b[39mdef\u001b[39;00m \u001b[39mdoit\u001b[39m(\u001b[39mself\u001b[39m, \u001b[39m*\u001b[39m\u001b[39m*\u001b[39mhints):\n\u001b[1;32m    454\u001b[0m     \u001b[39mif\u001b[39;00m hints\u001b[39m.\u001b[39mget(\u001b[39m'\u001b[39m\u001b[39mdeep\u001b[39m\u001b[39m'\u001b[39m, \u001b[39mTrue\u001b[39;00m):\n\u001b[0;32m--> 455\u001b[0m         terms \u001b[39m=\u001b[39m [term\u001b[39m.\u001b[39mdoit(\u001b[39m*\u001b[39m\u001b[39m*\u001b[39mhints) \u001b[39mfor\u001b[39;00m term \u001b[39min\u001b[39;00m \u001b[39mself\u001b[39m\u001b[39m.\u001b[39margs]\n\u001b[1;32m    456\u001b[0m     \u001b[39melse\u001b[39;00m:\n\u001b[1;32m    457\u001b[0m         terms \u001b[39m=\u001b[39m \u001b[39mself\u001b[39m\u001b[39m.\u001b[39margs\n",
      "File \u001b[0;32m/Library/Frameworks/Python.framework/Versions/3.10/lib/python3.10/site-packages/sympy/core/operations.py:455\u001b[0m, in \u001b[0;36m<listcomp>\u001b[0;34m(.0)\u001b[0m\n\u001b[1;32m    453\u001b[0m \u001b[39mdef\u001b[39;00m \u001b[39mdoit\u001b[39m(\u001b[39mself\u001b[39m, \u001b[39m*\u001b[39m\u001b[39m*\u001b[39mhints):\n\u001b[1;32m    454\u001b[0m     \u001b[39mif\u001b[39;00m hints\u001b[39m.\u001b[39mget(\u001b[39m'\u001b[39m\u001b[39mdeep\u001b[39m\u001b[39m'\u001b[39m, \u001b[39mTrue\u001b[39;00m):\n\u001b[0;32m--> 455\u001b[0m         terms \u001b[39m=\u001b[39m [term\u001b[39m.\u001b[39;49mdoit(\u001b[39m*\u001b[39;49m\u001b[39m*\u001b[39;49mhints) \u001b[39mfor\u001b[39;00m term \u001b[39min\u001b[39;00m \u001b[39mself\u001b[39m\u001b[39m.\u001b[39margs]\n\u001b[1;32m    456\u001b[0m     \u001b[39melse\u001b[39;00m:\n\u001b[1;32m    457\u001b[0m         terms \u001b[39m=\u001b[39m \u001b[39mself\u001b[39m\u001b[39m.\u001b[39margs\n",
      "File \u001b[0;32m/Library/Frameworks/Python.framework/Versions/3.10/lib/python3.10/site-packages/sympy/integrals/integrals.py:499\u001b[0m, in \u001b[0;36mIntegral.doit\u001b[0;34m(self, **hints)\u001b[0m\n\u001b[1;32m    497\u001b[0m \u001b[39mif\u001b[39;00m reps:\n\u001b[1;32m    498\u001b[0m     undo \u001b[39m=\u001b[39m {v: k \u001b[39mfor\u001b[39;00m k, v \u001b[39min\u001b[39;00m reps\u001b[39m.\u001b[39mitems()}\n\u001b[0;32m--> 499\u001b[0m     did \u001b[39m=\u001b[39m \u001b[39mself\u001b[39;49m\u001b[39m.\u001b[39;49mxreplace(reps)\u001b[39m.\u001b[39;49mdoit(\u001b[39m*\u001b[39;49m\u001b[39m*\u001b[39;49mhints)\n\u001b[1;32m    500\u001b[0m     \u001b[39mif\u001b[39;00m \u001b[39misinstance\u001b[39m(did, \u001b[39mtuple\u001b[39m):  \u001b[39m# when separate=True\u001b[39;00m\n\u001b[1;32m    501\u001b[0m         did \u001b[39m=\u001b[39m \u001b[39mtuple\u001b[39m([i\u001b[39m.\u001b[39mxreplace(undo) \u001b[39mfor\u001b[39;00m i \u001b[39min\u001b[39;00m did])\n",
      "File \u001b[0;32m/Library/Frameworks/Python.framework/Versions/3.10/lib/python3.10/site-packages/sympy/integrals/integrals.py:612\u001b[0m, in \u001b[0;36mIntegral.doit\u001b[0;34m(self, **hints)\u001b[0m\n\u001b[1;32m    610\u001b[0m     antideriv \u001b[39m=\u001b[39m \u001b[39mNone\u001b[39;00m\n\u001b[1;32m    611\u001b[0m \u001b[39melse\u001b[39;00m:\n\u001b[0;32m--> 612\u001b[0m     antideriv \u001b[39m=\u001b[39m \u001b[39mself\u001b[39;49m\u001b[39m.\u001b[39;49m_eval_integral(\n\u001b[1;32m    613\u001b[0m         function, xab[\u001b[39m0\u001b[39;49m], \u001b[39m*\u001b[39;49m\u001b[39m*\u001b[39;49meval_kwargs)\n\u001b[1;32m    614\u001b[0m     \u001b[39mif\u001b[39;00m antideriv \u001b[39mis\u001b[39;00m \u001b[39mNone\u001b[39;00m \u001b[39mand\u001b[39;00m meijerg \u001b[39mis\u001b[39;00m \u001b[39mTrue\u001b[39;00m:\n\u001b[1;32m    615\u001b[0m         ret \u001b[39m=\u001b[39m try_meijerg(function, xab)\n",
      "File \u001b[0;32m/Library/Frameworks/Python.framework/Versions/3.10/lib/python3.10/site-packages/sympy/integrals/integrals.py:1084\u001b[0m, in \u001b[0;36mIntegral._eval_integral\u001b[0;34m(self, f, x, meijerg, risch, manual, heurisch, conds, final)\u001b[0m\n\u001b[1;32m   1082\u001b[0m \u001b[39mtry\u001b[39;00m:\n\u001b[1;32m   1083\u001b[0m     \u001b[39mif\u001b[39;00m conds \u001b[39m==\u001b[39m \u001b[39m'\u001b[39m\u001b[39mpiecewise\u001b[39m\u001b[39m'\u001b[39m:\n\u001b[0;32m-> 1084\u001b[0m         h \u001b[39m=\u001b[39m heurisch_wrapper(g, x, hints\u001b[39m=\u001b[39;49m[])\n\u001b[1;32m   1085\u001b[0m     \u001b[39melse\u001b[39;00m:\n\u001b[1;32m   1086\u001b[0m         h \u001b[39m=\u001b[39m heurisch_(g, x, hints\u001b[39m=\u001b[39m[])\n",
      "File \u001b[0;32m/Library/Frameworks/Python.framework/Versions/3.10/lib/python3.10/site-packages/sympy/integrals/heurisch.py:143\u001b[0m, in \u001b[0;36mheurisch_wrapper\u001b[0;34m(f, x, rewrite, hints, mappings, retries, degree_offset, unnecessary_permutations, _try_heurisch)\u001b[0m\n\u001b[1;32m    140\u001b[0m \u001b[39mif\u001b[39;00m \u001b[39mnot\u001b[39;00m f\u001b[39m.\u001b[39mhas_free(x):\n\u001b[1;32m    141\u001b[0m     \u001b[39mreturn\u001b[39;00m f\u001b[39m*\u001b[39mx\n\u001b[0;32m--> 143\u001b[0m res \u001b[39m=\u001b[39m heurisch(f, x, rewrite, hints, mappings, retries, degree_offset,\n\u001b[1;32m    144\u001b[0m                unnecessary_permutations, _try_heurisch)\n\u001b[1;32m    145\u001b[0m \u001b[39mif\u001b[39;00m \u001b[39mnot\u001b[39;00m \u001b[39misinstance\u001b[39m(res, Basic):\n\u001b[1;32m    146\u001b[0m     \u001b[39mreturn\u001b[39;00m res\n",
      "File \u001b[0;32m/Library/Frameworks/Python.framework/Versions/3.10/lib/python3.10/site-packages/sympy/integrals/heurisch.py:766\u001b[0m, in \u001b[0;36mheurisch\u001b[0;34m(f, x, rewrite, hints, mappings, retries, degree_offset, unnecessary_permutations, _try_heurisch)\u001b[0m\n\u001b[1;32m    764\u001b[0m \u001b[39melse\u001b[39;00m:\n\u001b[1;32m    765\u001b[0m     \u001b[39mif\u001b[39;00m retries \u001b[39m>\u001b[39m\u001b[39m=\u001b[39m \u001b[39m0\u001b[39m:\n\u001b[0;32m--> 766\u001b[0m         result \u001b[39m=\u001b[39m heurisch(f, x, mappings\u001b[39m=\u001b[39;49mmappings, rewrite\u001b[39m=\u001b[39;49mrewrite, hints\u001b[39m=\u001b[39;49mhints, retries\u001b[39m=\u001b[39;49mretries \u001b[39m-\u001b[39;49m \u001b[39m1\u001b[39;49m, unnecessary_permutations\u001b[39m=\u001b[39;49munnecessary_permutations)\n\u001b[1;32m    768\u001b[0m         \u001b[39mif\u001b[39;00m result \u001b[39mis\u001b[39;00m \u001b[39mnot\u001b[39;00m \u001b[39mNone\u001b[39;00m:\n\u001b[1;32m    769\u001b[0m             \u001b[39mreturn\u001b[39;00m indep\u001b[39m*\u001b[39mresult\n",
      "File \u001b[0;32m/Library/Frameworks/Python.framework/Versions/3.10/lib/python3.10/site-packages/sympy/integrals/heurisch.py:749\u001b[0m, in \u001b[0;36mheurisch\u001b[0;34m(f, x, rewrite, hints, mappings, retries, degree_offset, unnecessary_permutations, _try_heurisch)\u001b[0m\n\u001b[1;32m    745\u001b[0m     more_free \u001b[39m=\u001b[39m Fd\u001b[39m.\u001b[39mxreplace(\u001b[39mdict\u001b[39m(\u001b[39mzip\u001b[39m(V, (Dummy() \u001b[39mfor\u001b[39;00m _ \u001b[39min\u001b[39;00m V)))\n\u001b[1;32m    746\u001b[0m         )\u001b[39m.\u001b[39mfree_symbols \u001b[39m&\u001b[39m Fd\u001b[39m.\u001b[39mfree_symbols\n\u001b[1;32m    747\u001b[0m \u001b[39mif\u001b[39;00m \u001b[39mnot\u001b[39;00m more_free:\n\u001b[1;32m    748\u001b[0m     \u001b[39m# all free generators are identified in V\u001b[39;00m\n\u001b[0;32m--> 749\u001b[0m     solution \u001b[39m=\u001b[39m _integrate(\u001b[39m'\u001b[39;49m\u001b[39mQ\u001b[39;49m\u001b[39m'\u001b[39;49m)\n\u001b[1;32m    751\u001b[0m     \u001b[39mif\u001b[39;00m solution \u001b[39mis\u001b[39;00m \u001b[39mNone\u001b[39;00m:\n\u001b[1;32m    752\u001b[0m         solution \u001b[39m=\u001b[39m _integrate()\n",
      "File \u001b[0;32m/Library/Frameworks/Python.framework/Versions/3.10/lib/python3.10/site-packages/sympy/integrals/heurisch.py:733\u001b[0m, in \u001b[0;36mheurisch.<locals>._integrate\u001b[0;34m(field)\u001b[0m\n\u001b[1;32m    731\u001b[0m \u001b[39mexcept\u001b[39;00m \u001b[39mValueError\u001b[39;00m:\n\u001b[1;32m    732\u001b[0m     \u001b[39mraise\u001b[39;00m PolynomialError\n\u001b[0;32m--> 733\u001b[0m solution \u001b[39m=\u001b[39m solve_lin_sys(numer\u001b[39m.\u001b[39;49mcoeffs(), coeff_ring, _raw\u001b[39m=\u001b[39;49m\u001b[39mFalse\u001b[39;49;00m)\n\u001b[1;32m    735\u001b[0m \u001b[39mif\u001b[39;00m solution \u001b[39mis\u001b[39;00m \u001b[39mNone\u001b[39;00m:\n\u001b[1;32m    736\u001b[0m     \u001b[39mreturn\u001b[39;00m \u001b[39mNone\u001b[39;00m\n",
      "File \u001b[0;32m/Library/Frameworks/Python.framework/Versions/3.10/lib/python3.10/site-packages/sympy/polys/solvers.py:279\u001b[0m, in \u001b[0;36msolve_lin_sys\u001b[0;34m(eqs, ring, _raw)\u001b[0m\n\u001b[1;32m    276\u001b[0m     eqs_rhs\u001b[39m.\u001b[39mappend(eq_rhs)\n\u001b[1;32m    277\u001b[0m     eqs_coeffs\u001b[39m.\u001b[39mappend(eq_coeffs)\n\u001b[0;32m--> 279\u001b[0m result \u001b[39m=\u001b[39m _solve_lin_sys(eqs_coeffs, eqs_rhs, ring)\n\u001b[1;32m    281\u001b[0m \u001b[39mif\u001b[39;00m result \u001b[39mis\u001b[39;00m \u001b[39mnot\u001b[39;00m \u001b[39mNone\u001b[39;00m \u001b[39mand\u001b[39;00m as_expr:\n\u001b[1;32m    283\u001b[0m     \u001b[39mdef\u001b[39;00m \u001b[39mto_sympy\u001b[39m(x):\n",
      "File \u001b[0;32m/Library/Frameworks/Python.framework/Versions/3.10/lib/python3.10/site-packages/sympy/polys/solvers.py:357\u001b[0m, in \u001b[0;36m_solve_lin_sys\u001b[0;34m(eqs_coeffs, eqs_rhs, ring)\u001b[0m\n\u001b[1;32m    355\u001b[0m sol \u001b[39m=\u001b[39m {}\n\u001b[1;32m    356\u001b[0m \u001b[39mfor\u001b[39;00m subsystem \u001b[39min\u001b[39;00m subsystems:\n\u001b[0;32m--> 357\u001b[0m     subsol \u001b[39m=\u001b[39m _solve_lin_sys_component(subsystem[\u001b[39m0\u001b[39;49m], subsystem[\u001b[39m1\u001b[39;49m], ring)\n\u001b[1;32m    358\u001b[0m     \u001b[39mif\u001b[39;00m subsol \u001b[39mis\u001b[39;00m \u001b[39mNone\u001b[39;00m:\n\u001b[1;32m    359\u001b[0m         \u001b[39mreturn\u001b[39;00m \u001b[39mNone\u001b[39;00m\n",
      "File \u001b[0;32m/Library/Frameworks/Python.framework/Versions/3.10/lib/python3.10/site-packages/sympy/polys/solvers.py:405\u001b[0m, in \u001b[0;36m_solve_lin_sys_component\u001b[0;34m(eqs_coeffs, eqs_rhs, ring)\u001b[0m\n\u001b[1;32m    402\u001b[0m     matrix \u001b[39m=\u001b[39m matrix\u001b[39m.\u001b[39mto_field()\n\u001b[1;32m    404\u001b[0m \u001b[39m# solve by row-reduction\u001b[39;00m\n\u001b[0;32m--> 405\u001b[0m echelon, pivots \u001b[39m=\u001b[39m matrix\u001b[39m.\u001b[39;49mrref()\n\u001b[1;32m    407\u001b[0m \u001b[39m# construct the returnable form of the solutions\u001b[39;00m\n\u001b[1;32m    408\u001b[0m keys \u001b[39m=\u001b[39m ring\u001b[39m.\u001b[39mgens\n",
      "File \u001b[0;32m/Library/Frameworks/Python.framework/Versions/3.10/lib/python3.10/site-packages/sympy/polys/matrices/domainmatrix.py:1273\u001b[0m, in \u001b[0;36mDomainMatrix.rref\u001b[0;34m(self)\u001b[0m\n\u001b[1;32m   1271\u001b[0m \u001b[39mif\u001b[39;00m \u001b[39mnot\u001b[39;00m \u001b[39mself\u001b[39m\u001b[39m.\u001b[39mdomain\u001b[39m.\u001b[39mis_Field:\n\u001b[1;32m   1272\u001b[0m     \u001b[39mraise\u001b[39;00m DMNotAField(\u001b[39m'\u001b[39m\u001b[39mNot a field\u001b[39m\u001b[39m'\u001b[39m)\n\u001b[0;32m-> 1273\u001b[0m rref_ddm, pivots \u001b[39m=\u001b[39m \u001b[39mself\u001b[39;49m\u001b[39m.\u001b[39;49mrep\u001b[39m.\u001b[39;49mrref()\n\u001b[1;32m   1274\u001b[0m \u001b[39mreturn\u001b[39;00m \u001b[39mself\u001b[39m\u001b[39m.\u001b[39mfrom_rep(rref_ddm), \u001b[39mtuple\u001b[39m(pivots)\n",
      "File \u001b[0;32m/Library/Frameworks/Python.framework/Versions/3.10/lib/python3.10/site-packages/sympy/polys/matrices/ddm.py:387\u001b[0m, in \u001b[0;36mDDM.rref\u001b[0;34m(a)\u001b[0m\n\u001b[1;32m    385\u001b[0m K \u001b[39m=\u001b[39m a\u001b[39m.\u001b[39mdomain\n\u001b[1;32m    386\u001b[0m partial_pivot \u001b[39m=\u001b[39m K\u001b[39m.\u001b[39mis_RealField \u001b[39mor\u001b[39;00m K\u001b[39m.\u001b[39mis_ComplexField\n\u001b[0;32m--> 387\u001b[0m pivots \u001b[39m=\u001b[39m ddm_irref(b, _partial_pivot\u001b[39m=\u001b[39;49mpartial_pivot)\n\u001b[1;32m    388\u001b[0m \u001b[39mreturn\u001b[39;00m b, pivots\n",
      "File \u001b[0;32m/Library/Frameworks/Python.framework/Versions/3.10/lib/python3.10/site-packages/sympy/polys/matrices/dense.py:143\u001b[0m, in \u001b[0;36mddm_irref\u001b[0;34m(a, _partial_pivot)\u001b[0m\n\u001b[1;32m    141\u001b[0m     ak[j] \u001b[39m-\u001b[39m\u001b[39m=\u001b[39m akj \u001b[39m# ak[j] = zero\u001b[39;00m\n\u001b[1;32m    142\u001b[0m     \u001b[39mfor\u001b[39;00m l \u001b[39min\u001b[39;00m \u001b[39mrange\u001b[39m(j\u001b[39m+\u001b[39m\u001b[39m1\u001b[39m, n):\n\u001b[0;32m--> 143\u001b[0m         ak[l] \u001b[39m-\u001b[39m\u001b[39m=\u001b[39m akj \u001b[39m*\u001b[39;49m ai[l]\n\u001b[1;32m    145\u001b[0m \u001b[39m# next row\u001b[39;00m\n\u001b[1;32m    146\u001b[0m pivots\u001b[39m.\u001b[39mappend(j)\n",
      "File \u001b[0;32m/Library/Frameworks/Python.framework/Versions/3.10/lib/python3.10/site-packages/sympy/external/pythonmpq.py:286\u001b[0m, in \u001b[0;36mPythonMPQ.__mul__\u001b[0;34m(self, other)\u001b[0m\n\u001b[1;32m    283\u001b[0m \u001b[39melse\u001b[39;00m:\n\u001b[1;32m    284\u001b[0m     \u001b[39mreturn\u001b[39;00m \u001b[39mNotImplemented\u001b[39m\n\u001b[0;32m--> 286\u001b[0m \u001b[39mreturn\u001b[39;00m \u001b[39mself\u001b[39;49m\u001b[39m.\u001b[39;49m_new(p, q)\n",
      "File \u001b[0;32m/Library/Frameworks/Python.framework/Versions/3.10/lib/python3.10/site-packages/sympy/external/pythonmpq.py:103\u001b[0m, in \u001b[0;36mPythonMPQ._new\u001b[0;34m(cls, numerator, denominator)\u001b[0m\n\u001b[1;32m    100\u001b[0m         denominator \u001b[39m=\u001b[39m \u001b[39m-\u001b[39mdenominator\n\u001b[1;32m    101\u001b[0m     \u001b[39mreturn\u001b[39;00m \u001b[39mcls\u001b[39m\u001b[39m.\u001b[39m_new(numerator, denominator)\n\u001b[0;32m--> 103\u001b[0m \u001b[39m@classmethod\u001b[39m\n\u001b[1;32m    104\u001b[0m \u001b[39mdef\u001b[39;00m \u001b[39m_new\u001b[39m(\u001b[39mcls\u001b[39m, numerator, denominator):\n\u001b[1;32m    105\u001b[0m     \u001b[39m\"\"\"Construct PythonMPQ efficiently (no checks)\"\"\"\u001b[39;00m\n\u001b[1;32m    106\u001b[0m     obj \u001b[39m=\u001b[39m \u001b[39msuper\u001b[39m()\u001b[39m.\u001b[39m\u001b[39m__new__\u001b[39m(\u001b[39mcls\u001b[39m)\n",
      "\u001b[0;31mKeyboardInterrupt\u001b[0m: "
     ]
    }
   ],
   "source": [
    "# integrate(WeightedDistance, (y,0,1), (x,0,1)).expand().rewrite(log).doit()"
   ]
  }
 ],
 "metadata": {
  "kernelspec": {
   "display_name": "Python 3",
   "language": "python",
   "name": "python3"
  },
  "language_info": {
   "codemirror_mode": {
    "name": "ipython",
    "version": 3
   },
   "file_extension": ".py",
   "mimetype": "text/x-python",
   "name": "python",
   "nbconvert_exporter": "python",
   "pygments_lexer": "ipython3",
   "version": "3.10.4"
  }
 },
 "nbformat": 4,
 "nbformat_minor": 4
}
