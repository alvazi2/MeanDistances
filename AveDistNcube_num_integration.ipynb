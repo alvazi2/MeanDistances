{
 "cells": [
  {
   "attachments": {},
   "cell_type": "markdown",
   "metadata": {},
   "source": [
    "## Calculate average distance in an n-dimensional unit cube using numerical integration"
   ]
  },
  {
   "cell_type": "code",
   "execution_count": 1,
   "metadata": {},
   "outputs": [],
   "source": [
    "import scipy.integrate as integrate\n",
    "import numpy"
   ]
  },
  {
   "cell_type": "code",
   "execution_count": 2,
   "metadata": {},
   "outputs": [],
   "source": [
    "# Probability density for a length x in a unit interval 0 .. 1\n",
    "ProbLen = lambda x: 2*(1-x)"
   ]
  },
  {
   "cell_type": "code",
   "execution_count": 3,
   "metadata": {},
   "outputs": [
    {
     "data": {
      "text/plain": [
       "(0.33333333333333337, 3.700743415417189e-15)"
      ]
     },
     "execution_count": 3,
     "metadata": {},
     "output_type": "execute_result"
    }
   ],
   "source": [
    "# Average length in unit interval (1-dimension case) using integrate.quad function of scipy\n",
    "Integrand1 = lambda x: ProbLen(x)*x\n",
    "AveDist1 = integrate.quad(Integrand1, 0, 1)\n",
    "AveDist1"
   ]
  },
  {
   "attachments": {},
   "cell_type": "markdown",
   "metadata": {},
   "source": [
    "Now use n-dimensional integration (integrate.nquad) for dimensions > 1.\n",
    "\n",
    "First define some functions that are required by integrate.nquad: integrand and integration bounds for each dimension."
   ]
  },
  {
   "cell_type": "code",
   "execution_count": 4,
   "metadata": {},
   "outputs": [],
   "source": [
    "# define integral bounds functions for different numbers of arguments\n",
    "UnitInterval = [0, 1]\n",
    "def UnitInterval0(): return UnitInterval\n",
    "def UnitInterval1(x1): return UnitInterval\n",
    "def UnitInterval2(x1, x2): return UnitInterval\n",
    "def UnitInterval3(x1, x2, x3): return UnitInterval\n",
    "def UnitInterval4(x1, x2, x3, x4): return UnitInterval\n",
    "def UnitInterval5(x1, x2, x3, x4, x5): return UnitInterval\n",
    "def UnitInterval6(x1, x2, x3, x4, x5, x6): return UnitInterval\n",
    "def UnitInterval7(x1, x2, x3, x4, x5, x6, x7): return UnitInterval\n",
    "\n",
    "# define integral bounds for the n-dim unit cubes\n",
    "UnitSquare = [UnitInterval1, UnitInterval0]\n",
    "Unit3Cube = [UnitInterval2, UnitInterval1, UnitInterval0]\n",
    "Unit4Cube = [UnitInterval3, UnitInterval2, UnitInterval1, UnitInterval0]\n",
    "Unit5Cube = [UnitInterval4, UnitInterval3, UnitInterval2, UnitInterval1, UnitInterval0]\n",
    "Unit6Cube = [UnitInterval5, UnitInterval4, UnitInterval3, UnitInterval2, UnitInterval1, UnitInterval0]\n",
    "Unit7Cube = [UnitInterval6, UnitInterval5, UnitInterval4, UnitInterval3, UnitInterval2, UnitInterval1, UnitInterval0]\n",
    "Unit8Cube = [UnitInterval7, UnitInterval6, UnitInterval5, UnitInterval4, UnitInterval3, UnitInterval2, UnitInterval1, UnitInterval0]\n",
    "\n",
    "# define joint probability density functions for lengths \n",
    "def JpdfLen2(x1, x2): return ProbLen(x1)*ProbLen(x2)\n",
    "def JpdfLen3(x1, x2, x3): return JpdfLen2(x1, x2)*ProbLen(x3)\n",
    "def JpdfLen4(x1, x2, x3, x4): return JpdfLen3(x1, x2, x3) * ProbLen(x4)\n",
    "def JpdfLen5(x1, x2, x3, x4, x5): return JpdfLen4(x1, x2, x3, x4) * ProbLen(x5)\n",
    "def JpdfLen6(x1, x2, x3, x4, x5, x6): return JpdfLen5(x1, x2, x3, x4, x5) * ProbLen(x6)\n",
    "def JpdfLen7(x1, x2, x3, x4, x5, x6, x7): return JpdfLen6(x1, x2, x3, x4, x5, x6) * ProbLen(x7)\n",
    "def JpdfLen8(x1, x2, x3, x4, x5, x6, x7, x8): return JpdfLen7(x1, x2, x3, x4, x5, x6, x7) * ProbLen(x8)\n",
    "\n",
    "# define length functions for different numbers of arguments\n",
    "def Len2(x1, x2): return (x1**2 + x2**2)**(1/2)\n",
    "def Len3(x1, x2, x3): return (x1**2 + x2**2 + x3**2)**(1/2)\n",
    "def Len4(x1, x2, x3, x4): return (x1**2 + x2**2 + x3**2 + x4**2)**(1/2)\n",
    "def Len5(x1, x2, x3, x4, x5): return (x1**2 + x2**2 + x3**2 + x4**2 + x5**2)**(1/2)\n",
    "def Len6(x1, x2, x3, x4, x5, x6): return (x1**2 + x2**2 + x3**2 + x4**2 + x5**2 + x6**2)**(1/2)\n",
    "def Len7(x1, x2, x3, x4, x5, x6, x7): return (x1**2 + x2**2 + x3**2 + x4**2 + x5**2 + x6**2 + x7**2)**(1/2)\n",
    "def Len8(x1, x2, x3, x4, x5, x6, x7, x8): return (x1**2 + x2**2 + x3**2 + x4**2 + x5**2 + x6**2 + x7**2 + x8**2)**(1/2)"
   ]
  },
  {
   "cell_type": "code",
   "execution_count": 5,
   "metadata": {},
   "outputs": [
    {
     "data": {
      "text/plain": [
       "(0.521405433164648, 1.4318456148201169e-08)"
      ]
     },
     "execution_count": 5,
     "metadata": {},
     "output_type": "execute_result"
    }
   ],
   "source": [
    "def Integrand2(x1, x2): return JpdfLen2(x1, x2) * Len2(x1, x2)\n",
    "AveDist2 = integrate.nquad(Integrand2, UnitSquare)\n",
    "AveDist2"
   ]
  },
  {
   "cell_type": "code",
   "execution_count": 6,
   "metadata": {},
   "outputs": [
    {
     "data": {
      "text/plain": [
       "(0.6617071822676974, 1.76521232964193e-08)"
      ]
     },
     "execution_count": 6,
     "metadata": {},
     "output_type": "execute_result"
    }
   ],
   "source": [
    "def Integrand3(x1, x2, x3): return JpdfLen3(x1, x2, x3) * Len3(x1, x2, x3)\n",
    "AveDist3 = integrate.nquad(Integrand3, Unit3Cube)\n",
    "AveDist3"
   ]
  },
  {
   "cell_type": "code",
   "execution_count": 7,
   "metadata": {},
   "outputs": [
    {
     "data": {
      "text/plain": [
       "(0.7776656535840841, 3.662406173104839e-08)"
      ]
     },
     "execution_count": 7,
     "metadata": {},
     "output_type": "execute_result"
    }
   ],
   "source": [
    "def Integrand4(x1, x2, x3, x4): return JpdfLen4(x1, x2, x3, x4) * Len4(x1, x2, x3, x4)\n",
    "AveDist4 = integrate.nquad(Integrand4, Unit4Cube)\n",
    "AveDist4"
   ]
  },
  {
   "cell_type": "code",
   "execution_count": 8,
   "metadata": {},
   "outputs": [
    {
     "data": {
      "text/plain": [
       "(0.878530915267399, 7.304767804244546e-08)"
      ]
     },
     "execution_count": 8,
     "metadata": {},
     "output_type": "execute_result"
    }
   ],
   "source": [
    "def Integrand5(x1, x2, x3, x4, x5): return JpdfLen5(x1, x2, x3, x4, x5) * Len5(x1, x2, x3, x4, x5)\n",
    "AveDist5 = integrate.nquad(Integrand5, Unit5Cube)\n",
    "AveDist5"
   ]
  },
  {
   "cell_type": "code",
   "execution_count": 9,
   "metadata": {},
   "outputs": [
    {
     "data": {
      "text/plain": [
       "(0.9689420830367445, 1.5055757046935866e-07)"
      ]
     },
     "execution_count": 9,
     "metadata": {},
     "output_type": "execute_result"
    }
   ],
   "source": [
    "def Integrand6(x1, x2, x3, x4, x5, x6): return JpdfLen6(x1, x2, x3, x4, x5, x6) * Len6(x1, x2, x3, x4, x5, x6)\n",
    "AveDist6 = integrate.nquad(Integrand6, Unit6Cube)\n",
    "AveDist6"
   ]
  },
  {
   "cell_type": "code",
   "execution_count": 10,
   "metadata": {},
   "outputs": [
    {
     "data": {
      "text/plain": [
       "(1.0515838734368514, 3.063633326399822e-07)"
      ]
     },
     "execution_count": 10,
     "metadata": {},
     "output_type": "execute_result"
    }
   ],
   "source": [
    "def Integrand7(x1, x2, x3, x4, x5, x6, x7): return JpdfLen7(x1, x2, x3, x4, x5, x6, x7) * Len7(x1, x2, x3, x4, x5, x6, x7)\n",
    "AveDist7 = integrate.nquad(Integrand7, Unit7Cube)\n",
    "AveDist7"
   ]
  },
  {
   "cell_type": "code",
   "execution_count": 11,
   "metadata": {},
   "outputs": [
    {
     "data": {
      "text/plain": [
       "(1.12816534024126, 6.122054390857602e-07)"
      ]
     },
     "execution_count": 11,
     "metadata": {},
     "output_type": "execute_result"
    }
   ],
   "source": [
    "def Integrand8(x1, x2, x3, x4, x5, x6, x7, x8): return JpdfLen8(x1, x2, x3, x4, x5, x6, x7, x8) * Len8(x1, x2, x3, x4, x5, x6, x7, x8)\n",
    "AveDist8 = integrate.nquad(Integrand8, Unit8Cube)\n",
    "AveDist8"
   ]
  },
  {
   "cell_type": "code",
   "execution_count": 12,
   "metadata": {},
   "outputs": [
    {
     "name": "stdout",
     "output_type": "stream",
     "text": [
      "0.11111111111111113\n",
      "0.13593181286680714\n",
      "0.14595213168821858\n",
      "0.15119096719109018\n",
      "0.15436331381611476\n",
      "0.1564747933799309\n",
      "0.1579755204103503\n",
      "0.1590946293652097\n"
     ]
    }
   ],
   "source": [
    "print(AveDist1[0]**2 / 1)\n",
    "print(AveDist2[0]**2 / 2)\n",
    "print(AveDist3[0]**2 / 3)\n",
    "print(AveDist4[0]**2 / 4)\n",
    "print(AveDist5[0]**2 / 5)\n",
    "print(AveDist6[0]**2 / 6)\n",
    "print(AveDist7[0]**2 / 7)\n",
    "print(AveDist8[0]**2 / 8)"
   ]
  },
  {
   "cell_type": "code",
   "execution_count": 13,
   "metadata": {},
   "outputs": [],
   "source": [
    "AverageDistances = [AveDist1[0], AveDist2[0], AveDist3[0], AveDist4[0], AveDist5[0], AveDist6[0], AveDist7[0], AveDist8[0]]"
   ]
  },
  {
   "cell_type": "code",
   "execution_count": 14,
   "metadata": {},
   "outputs": [
    {
     "data": {
      "text/plain": [
       "Text(0.5, 0.98, 'Average distance in n-dim unit cube')"
      ]
     },
     "execution_count": 14,
     "metadata": {},
     "output_type": "execute_result"
    },
    {
     "data": {
      "image/png": "[encoded data removed]",
      "text/plain": [
       "<Figure size 648x216 with 3 Axes>"
      ]
     },
     "metadata": {
      "needs_background": "light"
     },
     "output_type": "display_data"
    }
   ],
   "source": [
    "import matplotlib.pyplot as plt\n",
    "\n",
    "data = {'1': AveDist1[0], '2': AveDist2[0], '3': AveDist3[0], '4': AveDist4[0], '5': AveDist5[0], '6': AveDist6[0], '7': AveDist7[0], '8': AveDist8[0] }\n",
    "names = list(data.keys())\n",
    "values = list(data.values())\n",
    "\n",
    "fig, axs = plt.subplots(1, 3, figsize=(9, 3), sharey=True)\n",
    "axs[0].bar(names, values)\n",
    "axs[1].scatter(names, values)\n",
    "axs[2].plot(names, values)\n",
    "fig.suptitle('Average distance in n-dim unit cube')"
   ]
  },
  {
   "cell_type": "code",
   "execution_count": null,
   "metadata": {},
   "outputs": [],
   "source": []
  }
 ],
 "metadata": {
  "kernelspec": {
   "display_name": "Python 3",
   "language": "python",
   "name": "python3"
  },
  "language_info": {
   "codemirror_mode": {
    "name": "ipython",
    "version": 3
   },
   "file_extension": ".py",
   "mimetype": "text/x-python",
   "name": "python",
   "nbconvert_exporter": "python",
   "pygments_lexer": "ipython3",
   "version": "3.8.2"
  }
 },
 "nbformat": 4,
 "nbformat_minor": 4
}
