{
 "cells": [
  {
   "cell_type": "code",
   "execution_count": 39,
   "metadata": {},
   "outputs": [],
   "source": [
    "import sympy\n",
    "from sympy import *\n",
    "x, y = symbols('x y')\n",
    "r, phi = symbols('r phi')\n",
    "x1, x2, y1, y2 = symbols('x1 x2 y1 y2')\n",
    "r1, r2, phi1, phi2 = symbols('r1 r2 phi1 phi2')\n",
    "sx, sy = symbols('sx sy')"
   ]
  },
  {
   "cell_type": "code",
   "execution_count": 40,
   "metadata": {},
   "outputs": [
    {
     "data": {
      "text/latex": [
       "$\\displaystyle \\int\\limits_{0}^{1}\\int\\limits_{0}^{1} 1\\, dx\\, dy$"
      ],
      "text/plain": [
       "Integral(1, (x, 0, 1), (y, 0, 1))"
      ]
     },
     "execution_count": 40,
     "metadata": {},
     "output_type": "execute_result"
    }
   ],
   "source": [
    "SquareAreaIntegral = Integral(1, (x,0,1), (y,0,1))\n",
    "SquareAreaIntegral"
   ]
  },
  {
   "cell_type": "code",
   "execution_count": 41,
   "metadata": {},
   "outputs": [
    {
     "data": {
      "text/latex": [
       "$\\displaystyle 1$"
      ],
      "text/plain": [
       "1"
      ]
     },
     "execution_count": 41,
     "metadata": {},
     "output_type": "execute_result"
    }
   ],
   "source": [
    "SquareAreaIntegral.doit()"
   ]
  },
  {
   "cell_type": "code",
   "execution_count": 42,
   "metadata": {},
   "outputs": [
    {
     "data": {
      "text/latex": [
       "$\\displaystyle \\int\\limits_{0}^{2 \\pi}\\int\\limits_{0}^{1} r\\, dr\\, d\\phi$"
      ],
      "text/plain": [
       "Integral(r, (r, 0, 1), (phi, 0, 2*pi))"
      ]
     },
     "execution_count": 42,
     "metadata": {},
     "output_type": "execute_result"
    }
   ],
   "source": [
    "CircleAreaIntegral = Integral(r, (r,0,1), (phi,0,2*pi))\n",
    "CircleAreaIntegral"
   ]
  },
  {
   "cell_type": "code",
   "execution_count": 43,
   "metadata": {},
   "outputs": [
    {
     "data": {
      "text/latex": [
       "$\\displaystyle \\pi$"
      ],
      "text/plain": [
       "pi"
      ]
     },
     "execution_count": 43,
     "metadata": {},
     "output_type": "execute_result"
    }
   ],
   "source": [
    "CircleAreaIntegral.doit()"
   ]
  },
  {
   "cell_type": "code",
   "execution_count": 44,
   "metadata": {},
   "outputs": [
    {
     "data": {
      "text/latex": [
       "$\\displaystyle \\int\\limits_{0}^{2 \\pi}\\int\\limits_{0}^{1} r_{1} r_{2} \\sqrt{\\left(- r_{1} \\sin{\\left(\\phi_{1} \\right)} + r_{2} \\sin{\\left(\\phi_{2} \\right)}\\right)^{2} + \\left(- r_{1} \\cos{\\left(\\phi_{1} \\right)} + r_{2} \\cos{\\left(\\phi_{2} \\right)}\\right)^{2}}\\, dr_{1}\\, d\\phi_{1}$"
      ],
      "text/plain": [
       "Integral(r1*r2*sqrt((-r1*sin(phi1) + r2*sin(phi2))**2 + (-r1*cos(phi1) + r2*cos(phi2))**2), (r1, 0, 1), (phi1, 0, 2*pi))"
      ]
     },
     "execution_count": 44,
     "metadata": {},
     "output_type": "execute_result"
    }
   ],
   "source": [
    "# Average distance in circle\n",
    "x1 = r1*cos(phi1)\n",
    "x2 = r2*cos(phi2)\n",
    "y1 = r1*sin(phi1)\n",
    "y2 = r2*sin(phi2)\n",
    "Distance = sqrt( (x2-x1)**2 + (y2-y1)**2  )\n",
    "# AveDistCircle = Integral(r1*r2*Distance, (r1,0,1), (phi1,0,2*pi), (r2,0,1), (phi2,0,2*pi))\n",
    "AveDistCircle = Integral(r1*r2*Distance, (r1,0,1), (phi1,0,2*pi))\n",
    "AveDistCircle"
   ]
  },
  {
   "cell_type": "code",
   "execution_count": 45,
   "metadata": {},
   "outputs": [],
   "source": [
    "AveDistCircle.doit()"
   ]
  }
 ],
 "metadata": {
  "kernelspec": {
   "display_name": "Python 3",
   "language": "python",
   "name": "python3"
  },
  "language_info": {
   "codemirror_mode": {
    "name": "ipython",
    "version": 3
   },
   "file_extension": ".py",
   "mimetype": "text/x-python",
   "name": "python",
   "nbconvert_exporter": "python",
   "pygments_lexer": "ipython3",
   "version": "3.10.4"
  }
 },
 "nbformat": 4,
 "nbformat_minor": 4
}
