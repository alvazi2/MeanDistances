{
 "cells": [
  {
   "cell_type": "code",
   "execution_count": 1,
   "metadata": {},
   "outputs": [],
   "source": [
    "import sympy\n",
    "from sympy import *\n",
    "x, y = symbols('x y')\n",
    "r, phi = symbols('r phi')\n",
    "x1, x2, y1, y2 = symbols('x1 x2 y1 y2')\n",
    "r1, r2, phi1, phi2 = symbols('r1 r2 phi1 phi2')\n",
    "sx, sy = symbols('sx sy')"
   ]
  },
  {
   "cell_type": "code",
   "execution_count": 2,
   "metadata": {},
   "outputs": [
    {
     "data": {
      "text/latex": [
       "$\\displaystyle \\int\\limits_{0}^{1}\\int\\limits_{0}^{1} 1\\, dx\\, dy$"
      ],
      "text/plain": [
       "Integral(1, (x, 0, 1), (y, 0, 1))"
      ]
     },
     "execution_count": 2,
     "metadata": {},
     "output_type": "execute_result"
    }
   ],
   "source": [
    "SquareAreaIntegral = Integral(1, (x,0,1), (y,0,1))\n",
    "SquareAreaIntegral"
   ]
  },
  {
   "cell_type": "code",
   "execution_count": 3,
   "metadata": {},
   "outputs": [
    {
     "data": {
      "text/latex": [
       "$\\displaystyle 1$"
      ],
      "text/plain": [
       "1"
      ]
     },
     "execution_count": 3,
     "metadata": {},
     "output_type": "execute_result"
    }
   ],
   "source": [
    "SquareAreaIntegral.doit()"
   ]
  },
  {
   "cell_type": "code",
   "execution_count": 4,
   "metadata": {},
   "outputs": [
    {
     "data": {
      "text/latex": [
       "$\\displaystyle \\int\\limits_{0}^{2 \\pi}\\int\\limits_{0}^{1} r\\, dr\\, d\\phi$"
      ],
      "text/plain": [
       "Integral(r, (r, 0, 1), (phi, 0, 2*pi))"
      ]
     },
     "execution_count": 4,
     "metadata": {},
     "output_type": "execute_result"
    }
   ],
   "source": [
    "CircleAreaIntegral = Integral(r, (r,0,1), (phi,0,2*pi))\n",
    "CircleAreaIntegral"
   ]
  },
  {
   "cell_type": "code",
   "execution_count": 5,
   "metadata": {},
   "outputs": [
    {
     "data": {
      "text/latex": [
       "$\\displaystyle \\pi$"
      ],
      "text/plain": [
       "pi"
      ]
     },
     "execution_count": 5,
     "metadata": {},
     "output_type": "execute_result"
    }
   ],
   "source": [
    "CircleAreaIntegral.doit()"
   ]
  },
  {
   "cell_type": "code",
   "execution_count": 6,
   "metadata": {},
   "outputs": [
    {
     "data": {
      "text/latex": [
       "$\\displaystyle \\int\\limits_{0}^{2 \\pi}\\int\\limits_{0}^{1}\\int\\limits_{0}^{2 \\pi}\\int\\limits_{0}^{1} r_{1} r_{2} \\sqrt{\\left(- r_{1} \\sin{\\left(\\phi_{1} \\right)} + r_{2} \\sin{\\left(\\phi_{2} \\right)}\\right)^{2} + \\left(- r_{1} \\cos{\\left(\\phi_{1} \\right)} + r_{2} \\cos{\\left(\\phi_{2} \\right)}\\right)^{2}}\\, dr_{1}\\, d\\phi_{1}\\, dr_{2}\\, d\\phi_{2}$"
      ],
      "text/plain": [
       "Integral(r1*r2*sqrt((-r1*sin(phi1) + r2*sin(phi2))**2 + (-r1*cos(phi1) + r2*cos(phi2))**2), (r1, 0, 1), (phi1, 0, 2*pi), (r2, 0, 1), (phi2, 0, 2*pi))"
      ]
     },
     "execution_count": 6,
     "metadata": {},
     "output_type": "execute_result"
    }
   ],
   "source": [
    "# Average distance in circle\n",
    "x1 = r1*cos(phi1)\n",
    "x2 = r2*cos(phi2)\n",
    "y1 = r1*sin(phi1)\n",
    "y2 = r2*sin(phi2)\n",
    "Distance = sqrt( (x2-x1)**2 + (y2-y1)**2  )\n",
    "# Full calculation - sympy cannot solve this\n",
    "AveDistCircle = Integral(r1*r2*Distance, (r1,0,1), (phi1,0,2*pi), (r2,0,1), (phi2,0,2*pi))\n",
    "# trying this reduced integral - also not solved by sympy\n",
    "# AveDistCircle = Integral(r1*r2*Distance, (r1,0,1), (phi1,0,2*pi))\n",
    "AveDistCircle"
   ]
  },
  {
   "cell_type": "code",
   "execution_count": 7,
   "metadata": {},
   "outputs": [],
   "source": [
    "# execute integration (full or reduced form not solvable by Sympy)\n",
    "# AveDistCircle.doit()"
   ]
  },
  {
   "cell_type": "code",
   "execution_count": 8,
   "metadata": {},
   "outputs": [
    {
     "data": {
      "text/latex": [
       "$\\displaystyle \\int\\limits_{0}^{1} r_{2} \\sqrt{r_{1}^{2} \\sin^{2}{\\left(\\phi_{1} \\right)} + \\left(- r_{1} \\cos{\\left(\\phi_{1} \\right)} + r_{2}\\right)^{2}}\\, dr_{2}$"
      ],
      "text/plain": [
       "Integral(r2*sqrt(r1**2*sin(phi1)**2 + (-r1*cos(phi1) + r2)**2), (r2, 0, 1))"
      ]
     },
     "execution_count": 8,
     "metadata": {},
     "output_type": "execute_result"
    }
   ],
   "source": [
    "# Need to reduce the integral to a solvable form\n",
    "# 1) take advantage of rotational symmetry - keep phi2 constant = 0\n",
    "x1 = r1*cos(phi1)\n",
    "x2 = r2\n",
    "y1 = r1*sin(phi1)\n",
    "y2 = 0\n",
    "Distance = sqrt( (x2-x1)**2 + (y2-y1)**2  )\n",
    "#AveDistCircle = Integral(r1*r2*Distance, (r1,0,1), (phi1,0,2*pi), (r2,0,1))\n",
    "AveDistCircle_r2 = Integral(r2*Distance, (r2,0,1))\n",
    "AveDistCircle_r2"
   ]
  },
  {
   "cell_type": "code",
   "execution_count": null,
   "metadata": {},
   "outputs": [],
   "source": []
  },
  {
   "cell_type": "code",
   "execution_count": 9,
   "metadata": {},
   "outputs": [
    {
     "data": {
      "text/latex": [
       "$\\displaystyle - \\left(\\frac{r_{1}^{2} \\sin^{2}{\\left(\\phi_{1} \\right)}}{3} - \\frac{r_{1}^{2} \\cos^{2}{\\left(\\phi_{1} \\right)}}{6}\\right) \\sqrt{r_{1}^{2} \\sin^{2}{\\left(\\phi_{1} \\right)} + r_{1}^{2} \\cos^{2}{\\left(\\phi_{1} \\right)}} + \\left(\\frac{r_{1}^{2} \\sin^{2}{\\left(\\phi_{1} \\right)}}{3} - \\frac{r_{1}^{2} \\cos^{2}{\\left(\\phi_{1} \\right)}}{6} - \\frac{r_{1} \\cos{\\left(\\phi_{1} \\right)}}{6} + \\frac{1}{3}\\right) \\sqrt{r_{1}^{2} \\sin^{2}{\\left(\\phi_{1} \\right)} + r_{1}^{2} \\cos^{2}{\\left(\\phi_{1} \\right)} - 2 r_{1} \\cos{\\left(\\phi_{1} \\right)} + 1} + \\begin{cases} - \\left(r_{1} \\left(\\frac{r_{1}^{2} \\sin^{2}{\\left(\\phi_{1} \\right)}}{3} - \\frac{r_{1}^{2} \\cos^{2}{\\left(\\phi_{1} \\right)}}{6}\\right) \\cos{\\left(\\phi_{1} \\right)} + \\frac{r_{1} \\left(r_{1}^{2} \\sin^{2}{\\left(\\phi_{1} \\right)} + r_{1}^{2} \\cos^{2}{\\left(\\phi_{1} \\right)}\\right) \\cos{\\left(\\phi_{1} \\right)}}{6}\\right) \\log{\\left(- 2 r_{1} \\cos{\\left(\\phi_{1} \\right)} + 2 \\sqrt{r_{1}^{2} \\sin^{2}{\\left(\\phi_{1} \\right)} + r_{1}^{2} \\cos^{2}{\\left(\\phi_{1} \\right)}} \\right)} + \\left(r_{1} \\left(\\frac{r_{1}^{2} \\sin^{2}{\\left(\\phi_{1} \\right)}}{3} - \\frac{r_{1}^{2} \\cos^{2}{\\left(\\phi_{1} \\right)}}{6}\\right) \\cos{\\left(\\phi_{1} \\right)} + \\frac{r_{1} \\left(r_{1}^{2} \\sin^{2}{\\left(\\phi_{1} \\right)} + r_{1}^{2} \\cos^{2}{\\left(\\phi_{1} \\right)}\\right) \\cos{\\left(\\phi_{1} \\right)}}{6}\\right) \\log{\\left(- 2 r_{1} \\cos{\\left(\\phi_{1} \\right)} + 2 \\sqrt{r_{1}^{2} \\sin^{2}{\\left(\\phi_{1} \\right)} + r_{1}^{2} \\cos^{2}{\\left(\\phi_{1} \\right)} - 2 r_{1} \\cos{\\left(\\phi_{1} \\right)} + 1} + 2 \\right)} & \\text{for}\\: r_{1}^{2} \\sin^{2}{\\left(\\phi_{1} \\right)} \\neq 0 \\\\\\frac{r_{1} \\left(r_{1} \\left(\\frac{r_{1}^{2} \\sin^{2}{\\left(\\phi_{1} \\right)}}{3} - \\frac{r_{1}^{2} \\cos^{2}{\\left(\\phi_{1} \\right)}}{6}\\right) \\cos{\\left(\\phi_{1} \\right)} + \\frac{r_{1} \\left(r_{1}^{2} \\sin^{2}{\\left(\\phi_{1} \\right)} + r_{1}^{2} \\cos^{2}{\\left(\\phi_{1} \\right)}\\right) \\cos{\\left(\\phi_{1} \\right)}}{6}\\right) \\log{\\left(- r_{1} \\cos{\\left(\\phi_{1} \\right)} \\right)} \\cos{\\left(\\phi_{1} \\right)}}{\\sqrt{r_{1}^{2} \\cos^{2}{\\left(\\phi_{1} \\right)}}} + \\frac{\\left(- r_{1} \\cos{\\left(\\phi_{1} \\right)} + 1\\right) \\left(r_{1} \\left(\\frac{r_{1}^{2} \\sin^{2}{\\left(\\phi_{1} \\right)}}{3} - \\frac{r_{1}^{2} \\cos^{2}{\\left(\\phi_{1} \\right)}}{6}\\right) \\cos{\\left(\\phi_{1} \\right)} + \\frac{r_{1} \\left(r_{1}^{2} \\sin^{2}{\\left(\\phi_{1} \\right)} + r_{1}^{2} \\cos^{2}{\\left(\\phi_{1} \\right)}\\right) \\cos{\\left(\\phi_{1} \\right)}}{6}\\right) \\log{\\left(- r_{1} \\cos{\\left(\\phi_{1} \\right)} + 1 \\right)}}{\\sqrt{\\left(- r_{1} \\cos{\\left(\\phi_{1} \\right)} + 1\\right)^{2}}} & \\text{otherwise} \\end{cases}$"
      ],
      "text/plain": [
       "-(r1**2*sin(phi1)**2/3 - r1**2*cos(phi1)**2/6)*sqrt(r1**2*sin(phi1)**2 + r1**2*cos(phi1)**2) + (r1**2*sin(phi1)**2/3 - r1**2*cos(phi1)**2/6 - r1*cos(phi1)/6 + 1/3)*sqrt(r1**2*sin(phi1)**2 + r1**2*cos(phi1)**2 - 2*r1*cos(phi1) + 1) + Piecewise((-(r1*(r1**2*sin(phi1)**2/3 - r1**2*cos(phi1)**2/6)*cos(phi1) + r1*(r1**2*sin(phi1)**2 + r1**2*cos(phi1)**2)*cos(phi1)/6)*log(-2*r1*cos(phi1) + 2*sqrt(r1**2*sin(phi1)**2 + r1**2*cos(phi1)**2)) + (r1*(r1**2*sin(phi1)**2/3 - r1**2*cos(phi1)**2/6)*cos(phi1) + r1*(r1**2*sin(phi1)**2 + r1**2*cos(phi1)**2)*cos(phi1)/6)*log(-2*r1*cos(phi1) + 2*sqrt(r1**2*sin(phi1)**2 + r1**2*cos(phi1)**2 - 2*r1*cos(phi1) + 1) + 2), Ne(r1**2*sin(phi1)**2, 0)), (r1*(r1*(r1**2*sin(phi1)**2/3 - r1**2*cos(phi1)**2/6)*cos(phi1) + r1*(r1**2*sin(phi1)**2 + r1**2*cos(phi1)**2)*cos(phi1)/6)*log(-r1*cos(phi1))*cos(phi1)/sqrt(r1**2*cos(phi1)**2) + (-r1*cos(phi1) + 1)*(r1*(r1**2*sin(phi1)**2/3 - r1**2*cos(phi1)**2/6)*cos(phi1) + r1*(r1**2*sin(phi1)**2 + r1**2*cos(phi1)**2)*cos(phi1)/6)*log(-r1*cos(phi1) + 1)/sqrt((-r1*cos(phi1) + 1)**2), True))"
      ]
     },
     "execution_count": 9,
     "metadata": {},
     "output_type": "execute_result"
    }
   ],
   "source": [
    "AveDistCircle_r2.doit()"
   ]
  },
  {
   "cell_type": "code",
   "execution_count": 10,
   "metadata": {},
   "outputs": [
    {
     "data": {
      "text/latex": [
       "$\\displaystyle \\int\\limits_{0}^{1} \\begin{cases} r_{1} \\left(- \\left(\\frac{r_{1}^{2} \\sin^{2}{\\left(\\phi_{1} \\right)}}{3} - \\frac{r_{1}^{2} \\cos^{2}{\\left(\\phi_{1} \\right)}}{6}\\right) \\sqrt{r_{1}^{2} \\sin^{2}{\\left(\\phi_{1} \\right)} + r_{1}^{2} \\cos^{2}{\\left(\\phi_{1} \\right)}} - \\left(r_{1} \\left(\\frac{r_{1}^{2} \\sin^{2}{\\left(\\phi_{1} \\right)}}{3} - \\frac{r_{1}^{2} \\cos^{2}{\\left(\\phi_{1} \\right)}}{6}\\right) \\cos{\\left(\\phi_{1} \\right)} + \\frac{r_{1} \\left(r_{1}^{2} \\sin^{2}{\\left(\\phi_{1} \\right)} + r_{1}^{2} \\cos^{2}{\\left(\\phi_{1} \\right)}\\right) \\cos{\\left(\\phi_{1} \\right)}}{6}\\right) \\log{\\left(- 2 r_{1} \\cos{\\left(\\phi_{1} \\right)} + 2 \\sqrt{r_{1}^{2} \\sin^{2}{\\left(\\phi_{1} \\right)} + r_{1}^{2} \\cos^{2}{\\left(\\phi_{1} \\right)}} \\right)} + \\left(r_{1} \\left(\\frac{r_{1}^{2} \\sin^{2}{\\left(\\phi_{1} \\right)}}{3} - \\frac{r_{1}^{2} \\cos^{2}{\\left(\\phi_{1} \\right)}}{6}\\right) \\cos{\\left(\\phi_{1} \\right)} + \\frac{r_{1} \\left(r_{1}^{2} \\sin^{2}{\\left(\\phi_{1} \\right)} + r_{1}^{2} \\cos^{2}{\\left(\\phi_{1} \\right)}\\right) \\cos{\\left(\\phi_{1} \\right)}}{6}\\right) \\log{\\left(- 2 r_{1} \\cos{\\left(\\phi_{1} \\right)} + 2 \\sqrt{r_{1}^{2} \\sin^{2}{\\left(\\phi_{1} \\right)} + r_{1}^{2} \\cos^{2}{\\left(\\phi_{1} \\right)} - 2 r_{1} \\cos{\\left(\\phi_{1} \\right)} + 1} + 2 \\right)} + \\left(\\frac{r_{1}^{2} \\sin^{2}{\\left(\\phi_{1} \\right)}}{3} - \\frac{r_{1}^{2} \\cos^{2}{\\left(\\phi_{1} \\right)}}{6} - \\frac{r_{1} \\cos{\\left(\\phi_{1} \\right)}}{6} + \\frac{1}{3}\\right) \\sqrt{r_{1}^{2} \\sin^{2}{\\left(\\phi_{1} \\right)} + r_{1}^{2} \\cos^{2}{\\left(\\phi_{1} \\right)} - 2 r_{1} \\cos{\\left(\\phi_{1} \\right)} + 1}\\right) & \\text{for}\\: r_{1}^{2} \\sin^{2}{\\left(\\phi_{1} \\right)} \\neq 0 \\\\r_{1} \\left(\\frac{r_{1} \\left(r_{1} \\left(\\frac{r_{1}^{2} \\sin^{2}{\\left(\\phi_{1} \\right)}}{3} - \\frac{r_{1}^{2} \\cos^{2}{\\left(\\phi_{1} \\right)}}{6}\\right) \\cos{\\left(\\phi_{1} \\right)} + \\frac{r_{1} \\left(r_{1}^{2} \\sin^{2}{\\left(\\phi_{1} \\right)} + r_{1}^{2} \\cos^{2}{\\left(\\phi_{1} \\right)}\\right) \\cos{\\left(\\phi_{1} \\right)}}{6}\\right) \\log{\\left(- r_{1} \\cos{\\left(\\phi_{1} \\right)} \\right)} \\cos{\\left(\\phi_{1} \\right)}}{\\sqrt{r_{1}^{2} \\cos^{2}{\\left(\\phi_{1} \\right)}}} + \\frac{\\left(- r_{1} \\cos{\\left(\\phi_{1} \\right)} + 1\\right) \\left(r_{1} \\left(\\frac{r_{1}^{2} \\sin^{2}{\\left(\\phi_{1} \\right)}}{3} - \\frac{r_{1}^{2} \\cos^{2}{\\left(\\phi_{1} \\right)}}{6}\\right) \\cos{\\left(\\phi_{1} \\right)} + \\frac{r_{1} \\left(r_{1}^{2} \\sin^{2}{\\left(\\phi_{1} \\right)} + r_{1}^{2} \\cos^{2}{\\left(\\phi_{1} \\right)}\\right) \\cos{\\left(\\phi_{1} \\right)}}{6}\\right) \\log{\\left(- r_{1} \\cos{\\left(\\phi_{1} \\right)} + 1 \\right)}}{\\sqrt{\\left(- r_{1} \\cos{\\left(\\phi_{1} \\right)} + 1\\right)^{2}}} - \\left(\\frac{r_{1}^{2} \\sin^{2}{\\left(\\phi_{1} \\right)}}{3} - \\frac{r_{1}^{2} \\cos^{2}{\\left(\\phi_{1} \\right)}}{6}\\right) \\sqrt{r_{1}^{2} \\sin^{2}{\\left(\\phi_{1} \\right)} + r_{1}^{2} \\cos^{2}{\\left(\\phi_{1} \\right)}} + \\left(\\frac{r_{1}^{2} \\sin^{2}{\\left(\\phi_{1} \\right)}}{3} - \\frac{r_{1}^{2} \\cos^{2}{\\left(\\phi_{1} \\right)}}{6} - \\frac{r_{1} \\cos{\\left(\\phi_{1} \\right)}}{6} + \\frac{1}{3}\\right) \\sqrt{r_{1}^{2} \\sin^{2}{\\left(\\phi_{1} \\right)} + r_{1}^{2} \\cos^{2}{\\left(\\phi_{1} \\right)} - 2 r_{1} \\cos{\\left(\\phi_{1} \\right)} + 1}\\right) & \\text{otherwise} \\end{cases}\\, dr_{1}$"
      ],
      "text/plain": [
       "Integral(Piecewise((r1*(-(r1**2*sin(phi1)**2/3 - r1**2*cos(phi1)**2/6)*sqrt(r1**2*sin(phi1)**2 + r1**2*cos(phi1)**2) - (r1*(r1**2*sin(phi1)**2/3 - r1**2*cos(phi1)**2/6)*cos(phi1) + r1*(r1**2*sin(phi1)**2 + r1**2*cos(phi1)**2)*cos(phi1)/6)*log(-2*r1*cos(phi1) + 2*sqrt(r1**2*sin(phi1)**2 + r1**2*cos(phi1)**2)) + (r1*(r1**2*sin(phi1)**2/3 - r1**2*cos(phi1)**2/6)*cos(phi1) + r1*(r1**2*sin(phi1)**2 + r1**2*cos(phi1)**2)*cos(phi1)/6)*log(-2*r1*cos(phi1) + 2*sqrt(r1**2*sin(phi1)**2 + r1**2*cos(phi1)**2 - 2*r1*cos(phi1) + 1) + 2) + (r1**2*sin(phi1)**2/3 - r1**2*cos(phi1)**2/6 - r1*cos(phi1)/6 + 1/3)*sqrt(r1**2*sin(phi1)**2 + r1**2*cos(phi1)**2 - 2*r1*cos(phi1) + 1)), Ne(r1**2*sin(phi1)**2, 0)), (r1*(r1*(r1*(r1**2*sin(phi1)**2/3 - r1**2*cos(phi1)**2/6)*cos(phi1) + r1*(r1**2*sin(phi1)**2 + r1**2*cos(phi1)**2)*cos(phi1)/6)*log(-r1*cos(phi1))*cos(phi1)/sqrt(r1**2*cos(phi1)**2) + (-r1*cos(phi1) + 1)*(r1*(r1**2*sin(phi1)**2/3 - r1**2*cos(phi1)**2/6)*cos(phi1) + r1*(r1**2*sin(phi1)**2 + r1**2*cos(phi1)**2)*cos(phi1)/6)*log(-r1*cos(phi1) + 1)/sqrt((-r1*cos(phi1) + 1)**2) - (r1**2*sin(phi1)**2/3 - r1**2*cos(phi1)**2/6)*sqrt(r1**2*sin(phi1)**2 + r1**2*cos(phi1)**2) + (r1**2*sin(phi1)**2/3 - r1**2*cos(phi1)**2/6 - r1*cos(phi1)/6 + 1/3)*sqrt(r1**2*sin(phi1)**2 + r1**2*cos(phi1)**2 - 2*r1*cos(phi1) + 1)), True)), (r1, 0, 1))"
      ]
     },
     "execution_count": 10,
     "metadata": {},
     "output_type": "execute_result"
    }
   ],
   "source": [
    "AveDistCircle_r1 = Integral(r1*AveDistCircle_r2.doit(), (r1,0,1))\n",
    "AveDistCircle_r1"
   ]
  },
  {
   "cell_type": "code",
   "execution_count": 11,
   "metadata": {},
   "outputs": [],
   "source": [
    "AveDistCircle_r1.doit()"
   ]
  }
 ],
 "metadata": {
  "kernelspec": {
   "display_name": "Python 3",
   "language": "python",
   "name": "python3"
  },
  "language_info": {
   "codemirror_mode": {
    "name": "ipython",
    "version": 3
   },
   "file_extension": ".py",
   "mimetype": "text/x-python",
   "name": "python",
   "nbconvert_exporter": "python",
   "pygments_lexer": "ipython3",
   "version": "3.12.0"
  }
 },
 "nbformat": 4,
 "nbformat_minor": 4
}
