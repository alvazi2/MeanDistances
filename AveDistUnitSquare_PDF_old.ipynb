{
 "cells": [
  {
   "attachments": {},
   "cell_type": "markdown",
   "metadata": {},
   "source": [
    "## Average distance in unit square - via probability density function for the distance"
   ]
  },
  {
   "cell_type": "code",
   "execution_count": 1,
   "metadata": {},
   "outputs": [],
   "source": [
    "import sympy\n",
    "from sympy import *\n",
    "x, y, s, sq = symbols('x y s sq', positive=True)"
   ]
  },
  {
   "cell_type": "code",
   "execution_count": 2,
   "metadata": {},
   "outputs": [
    {
     "data": {
      "text/latex": [
       "$\\displaystyle \\left( x \\mapsto \\theta\\left(1 - x\\right) \\right)$"
      ],
      "text/plain": [
       "Lambda(x, Heaviside(1 - x))"
      ]
     },
     "execution_count": 2,
     "metadata": {},
     "output_type": "execute_result"
    }
   ],
   "source": [
    "# probability density function for point x on a unit line (0..1)\n",
    "# Note: declaring s as always positive above changes step function calculations below\n",
    "jpd = Lambda(x, Heaviside(x) * Heaviside(1-x))\n",
    "jpd"
   ]
  },
  {
   "cell_type": "code",
   "execution_count": 3,
   "metadata": {},
   "outputs": [
    {
     "data": {
      "text/latex": [
       "$\\displaystyle \\theta\\left(1 - x\\right) \\theta\\left(1 - y\\right)$"
      ],
      "text/plain": [
       "Heaviside(1 - x)*Heaviside(1 - y)"
      ]
     },
     "execution_count": 3,
     "metadata": {},
     "output_type": "execute_result"
    }
   ],
   "source": [
    "# joint probability density function for 2 points x, y on a unit line (0..1)\n",
    "jpd2 = jpd(x) * jpd(y)\n",
    "jpd2"
   ]
  },
  {
   "cell_type": "code",
   "execution_count": 4,
   "metadata": {},
   "outputs": [
    {
     "data": {
      "text/latex": [
       "$\\displaystyle \\left(1 - s\\right) \\theta\\left(1 - s\\right)$"
      ],
      "text/plain": [
       "(1 - s)*Heaviside(1 - s)"
      ]
     },
     "execution_count": 4,
     "metadata": {},
     "output_type": "execute_result"
    }
   ],
   "source": [
    "# probability of distance s = x-y (signed)\n",
    "prob = Integral(jpd(x)*jpd(s+x),(x,0,1))\n",
    "prob.doit().simplify()"
   ]
  },
  {
   "cell_type": "code",
   "execution_count": 5,
   "metadata": {},
   "outputs": [
    {
     "data": {
      "image/png": "[encoded data removed]",
      "text/plain": [
       "<Figure size 432x288 with 1 Axes>"
      ]
     },
     "metadata": {
      "needs_background": "light"
     },
     "output_type": "display_data"
    },
    {
     "data": {
      "text/plain": [
       "<sympy.plotting.plot.Plot at 0x7fd3e1a51d30>"
      ]
     },
     "execution_count": 5,
     "metadata": {},
     "output_type": "execute_result"
    }
   ],
   "source": [
    "plot(jpd(x), (x,-1,2))"
   ]
  },
  {
   "cell_type": "code",
   "execution_count": 6,
   "metadata": {},
   "outputs": [
    {
     "data": {
      "image/png": "[encoded data removed]",
      "text/plain": [
       "<Figure size 432x288 with 1 Axes>"
      ]
     },
     "metadata": {
      "needs_background": "light"
     },
     "output_type": "display_data"
    },
    {
     "data": {
      "text/plain": [
       "<sympy.plotting.plot.Plot at 0x7fd3e2a7a6a0>"
      ]
     },
     "execution_count": 6,
     "metadata": {},
     "output_type": "execute_result"
    }
   ],
   "source": [
    "plot(prob.doit(), (s, -1, 1.5))"
   ]
  },
  {
   "cell_type": "code",
   "execution_count": 7,
   "metadata": {},
   "outputs": [
    {
     "data": {
      "text/latex": [
       "$\\displaystyle - s \\theta\\left(1 - s\\right) + \\theta\\left(1 - s\\right)$"
      ],
      "text/plain": [
       "-s*Heaviside(1 - s) + Heaviside(1 - s)"
      ]
     },
     "execution_count": 7,
     "metadata": {},
     "output_type": "execute_result"
    }
   ],
   "source": [
    "expand(prob.doit())"
   ]
  },
  {
   "cell_type": "code",
   "execution_count": 8,
   "metadata": {},
   "outputs": [
    {
     "data": {
      "text/latex": [
       "$\\displaystyle \\int\\limits_{0}^{1} \\theta\\left(1 - x\\right) \\theta\\left(- s - x + 1\\right)\\, dx$"
      ],
      "text/plain": [
       "Integral(Heaviside(1 - x)*Heaviside(-s - x + 1), (x, 0, 1))"
      ]
     },
     "execution_count": 8,
     "metadata": {},
     "output_type": "execute_result"
    }
   ],
   "source": [
    "prob"
   ]
  },
  {
   "cell_type": "code",
   "execution_count": 9,
   "metadata": {},
   "outputs": [
    {
     "data": {
      "text/latex": [
       "$\\displaystyle \\frac{1}{3}$"
      ],
      "text/plain": [
       "1/3"
      ]
     },
     "execution_count": 9,
     "metadata": {},
     "output_type": "execute_result"
    }
   ],
   "source": [
    "integrate(abs(x-y), (x,0,1), (y,0,1))"
   ]
  },
  {
   "cell_type": "code",
   "execution_count": 10,
   "metadata": {},
   "outputs": [
    {
     "data": {
      "text/latex": [
       "$\\displaystyle \\frac{1}{6}$"
      ],
      "text/plain": [
       "1/6"
      ]
     },
     "execution_count": 10,
     "metadata": {},
     "output_type": "execute_result"
    }
   ],
   "source": [
    "integrate((x-y)**2, (x,0,1), (y,0,1))"
   ]
  },
  {
   "cell_type": "code",
   "execution_count": 11,
   "metadata": {},
   "outputs": [
    {
     "data": {
      "text/latex": [
       "$\\displaystyle \\frac{1}{3}$"
      ],
      "text/plain": [
       "1/3"
      ]
     },
     "execution_count": 11,
     "metadata": {},
     "output_type": "execute_result"
    }
   ],
   "source": [
    "integrate(2*(1-s)*s, (s,0,1))"
   ]
  },
  {
   "cell_type": "code",
   "execution_count": 12,
   "metadata": {},
   "outputs": [
    {
     "data": {
      "text/latex": [
       "$\\displaystyle \\frac{1}{6}$"
      ],
      "text/plain": [
       "1/6"
      ]
     },
     "execution_count": 12,
     "metadata": {},
     "output_type": "execute_result"
    }
   ],
   "source": [
    "integrate(2*(1-s)*s**2, (s,0,1))"
   ]
  },
  {
   "cell_type": "code",
   "execution_count": 13,
   "metadata": {},
   "outputs": [
    {
     "data": {
      "text/latex": [
       "$\\displaystyle - s \\theta\\left(1 - s\\right) + \\theta\\left(1 - s\\right)$"
      ],
      "text/plain": [
       "-s*Heaviside(1 - s) + Heaviside(1 - s)"
      ]
     },
     "execution_count": 13,
     "metadata": {},
     "output_type": "execute_result"
    }
   ],
   "source": [
    "expand(prob.doit())"
   ]
  },
  {
   "cell_type": "code",
   "execution_count": 14,
   "metadata": {},
   "outputs": [],
   "source": [
    "prob_expanded = expand(prob.doit())"
   ]
  },
  {
   "cell_type": "code",
   "execution_count": 15,
   "metadata": {},
   "outputs": [
    {
     "data": {
      "text/latex": [
       "$\\displaystyle - s \\theta\\left(1 - s\\right) + \\theta\\left(1 - s\\right)$"
      ],
      "text/plain": [
       "-s*Heaviside(1 - s) + Heaviside(1 - s)"
      ]
     },
     "execution_count": 15,
     "metadata": {},
     "output_type": "execute_result"
    }
   ],
   "source": [
    "prob_expanded.subs(Heaviside(s)*Heaviside(-s),0)"
   ]
  },
  {
   "attachments": {},
   "cell_type": "markdown",
   "metadata": {},
   "source": [
    "sympy cannot handle the step function very well. The end result here is that the probability density function of distance s on a unit interval is given by 2*(1-s). This is for un-signed s, hence the factor 2, because s can always be realized in two ways x-y or y-x."
   ]
  },
  {
   "cell_type": "code",
   "execution_count": 16,
   "metadata": {},
   "outputs": [
    {
     "data": {
      "text/latex": [
       "$\\displaystyle \\left( s \\mapsto 2 - 2 s \\right)$"
      ],
      "text/plain": [
       "Lambda(s, 2 - 2*s)"
      ]
     },
     "execution_count": 16,
     "metadata": {},
     "output_type": "execute_result"
    }
   ],
   "source": [
    "# probability density of distance s on unit interval is given by:\n",
    "PD = Lambda(s, 2*(1-s))\n",
    "PD"
   ]
  },
  {
   "cell_type": "code",
   "execution_count": 17,
   "metadata": {},
   "outputs": [
    {
     "data": {
      "image/png": "[encoded data removed]",
      "text/plain": [
       "<Figure size 432x288 with 1 Axes>"
      ]
     },
     "metadata": {
      "needs_background": "light"
     },
     "output_type": "display_data"
    },
    {
     "data": {
      "text/plain": [
       "<sympy.plotting.plot.Plot at 0x7fd3e2e75e80>"
      ]
     },
     "execution_count": 17,
     "metadata": {},
     "output_type": "execute_result"
    }
   ],
   "source": [
    "plot(PD(s), (s,0,1))"
   ]
  },
  {
   "cell_type": "code",
   "execution_count": 18,
   "metadata": {},
   "outputs": [
    {
     "data": {
      "text/latex": [
       "$\\displaystyle \\frac{1}{3}$"
      ],
      "text/plain": [
       "1/3"
      ]
     },
     "execution_count": 18,
     "metadata": {},
     "output_type": "execute_result"
    }
   ],
   "source": [
    "# calculate mean distance\n",
    "MeanDistance = integrate(PD(s)*s, (s,0,1))\n",
    "MeanDistance"
   ]
  },
  {
   "cell_type": "code",
   "execution_count": 19,
   "metadata": {},
   "outputs": [
    {
     "data": {
      "text/latex": [
       "$\\displaystyle \\frac{1}{18}$"
      ],
      "text/plain": [
       "1/18"
      ]
     },
     "execution_count": 19,
     "metadata": {},
     "output_type": "execute_result"
    }
   ],
   "source": [
    "# calculate variance\n",
    "Variance = integrate(PD(s)*(s-MeanDistance)**2, (s,0,1))\n",
    "Variance"
   ]
  },
  {
   "cell_type": "code",
   "execution_count": 20,
   "metadata": {},
   "outputs": [],
   "source": [
    "# calculate standard deviation"
   ]
  },
  {
   "cell_type": "code",
   "execution_count": 21,
   "metadata": {},
   "outputs": [
    {
     "data": {
      "text/latex": [
       "$\\displaystyle \\frac{\\sqrt{2}}{6}$"
      ],
      "text/plain": [
       "sqrt(2)/6"
      ]
     },
     "execution_count": 21,
     "metadata": {},
     "output_type": "execute_result"
    }
   ],
   "source": [
    "StDev = sqrt(Variance)\n",
    "StDev"
   ]
  },
  {
   "cell_type": "code",
   "execution_count": 22,
   "metadata": {},
   "outputs": [
    {
     "data": {
      "text/latex": [
       "$\\displaystyle 0.235702260395516$"
      ],
      "text/plain": [
       "0.235702260395516"
      ]
     },
     "execution_count": 22,
     "metadata": {},
     "output_type": "execute_result"
    }
   ],
   "source": [
    "StDev.evalf()"
   ]
  },
  {
   "cell_type": "code",
   "execution_count": 23,
   "metadata": {},
   "outputs": [
    {
     "data": {
      "text/latex": [
       "$\\displaystyle \\frac{1}{6}$"
      ],
      "text/plain": [
       "1/6"
      ]
     },
     "execution_count": 23,
     "metadata": {},
     "output_type": "execute_result"
    }
   ],
   "source": [
    "# calculate mean Square distance\n",
    "MeanSquareDistance = integrate(PD(s)*s**2, (s,0,1))\n",
    "MeanSquareDistance"
   ]
  },
  {
   "attachments": {},
   "cell_type": "markdown",
   "metadata": {},
   "source": [
    "Now determine the probability density of s^2. Follow theorem 14 (transformation of a random variable) in https://imai.fas.harvard.edu/teaching/files/Expectation.pdf"
   ]
  },
  {
   "cell_type": "code",
   "execution_count": 24,
   "metadata": {},
   "outputs": [
    {
     "data": {
      "text/latex": [
       "$\\displaystyle \\left( s \\mapsto \\sqrt{s} \\right)$"
      ],
      "text/plain": [
       "Lambda(s, sqrt(s))"
      ]
     },
     "execution_count": 24,
     "metadata": {},
     "output_type": "execute_result"
    }
   ],
   "source": [
    "# Inverse of Square (inverse of mapping function)\n",
    "SqMapInverse = Lambda(s, sqrt(s))\n",
    "SqMapInverse"
   ]
  },
  {
   "cell_type": "code",
   "execution_count": 25,
   "metadata": {},
   "outputs": [
    {
     "data": {
      "text/latex": [
       "$\\displaystyle \\left( y \\mapsto \\frac{2 - 2 \\sqrt{y}}{2 \\sqrt{y}} \\right)$"
      ],
      "text/plain": [
       "Lambda(y, (2 - 2*sqrt(y))/(2*sqrt(y)))"
      ]
     },
     "execution_count": 25,
     "metadata": {},
     "output_type": "execute_result"
    }
   ],
   "source": [
    "# Probability density function of y = s^2\n",
    "PD_Sq = Lambda(y, PD(SqMapInverse(y)) * (diff(SqMapInverse(y))))\n",
    "PD_Sq"
   ]
  },
  {
   "cell_type": "code",
   "execution_count": 26,
   "metadata": {},
   "outputs": [
    {
     "data": {
      "text/latex": [
       "$\\displaystyle \\left( y \\mapsto -1 + \\frac{1}{\\sqrt{y}} \\right)$"
      ],
      "text/plain": [
       "Lambda(y, -1 + 1/sqrt(y))"
      ]
     },
     "execution_count": 26,
     "metadata": {},
     "output_type": "execute_result"
    }
   ],
   "source": [
    "PD_Sq = PD_Sq.factor()\n",
    "PD_Sq"
   ]
  },
  {
   "cell_type": "code",
   "execution_count": 27,
   "metadata": {},
   "outputs": [
    {
     "data": {
      "text/latex": [
       "$\\displaystyle 1$"
      ],
      "text/plain": [
       "1"
      ]
     },
     "execution_count": 27,
     "metadata": {},
     "output_type": "execute_result"
    }
   ],
   "source": [
    "# verify that total cumulative probability is 1\n",
    "integrate(PD_Sq(y), (y,0,1))"
   ]
  },
  {
   "cell_type": "code",
   "execution_count": 28,
   "metadata": {},
   "outputs": [
    {
     "data": {
      "text/latex": [
       "$\\displaystyle \\frac{1}{6}$"
      ],
      "text/plain": [
       "1/6"
      ]
     },
     "execution_count": 28,
     "metadata": {},
     "output_type": "execute_result"
    }
   ],
   "source": [
    "# verify that mean value of y = s^2 is 1/6\n",
    "integrate(PD_Sq(y)*y, (y,0,1))"
   ]
  },
  {
   "cell_type": "code",
   "execution_count": 29,
   "metadata": {},
   "outputs": [
    {
     "data": {
      "text/latex": [
       "$\\displaystyle \\frac{7}{180}$"
      ],
      "text/plain": [
       "7/180"
      ]
     },
     "execution_count": 29,
     "metadata": {},
     "output_type": "execute_result"
    }
   ],
   "source": [
    "# Variance of y = s^2\n",
    "Variance_Sq = integrate(PD_Sq(y)*(y-MeanSquareDistance)**2, (y,0,1))\n",
    "Variance_Sq"
   ]
  },
  {
   "cell_type": "code",
   "execution_count": 30,
   "metadata": {},
   "outputs": [
    {
     "data": {
      "text/latex": [
       "$\\displaystyle \\frac{\\sqrt{35}}{30}$"
      ],
      "text/plain": [
       "sqrt(35)/30"
      ]
     },
     "execution_count": 30,
     "metadata": {},
     "output_type": "execute_result"
    }
   ],
   "source": [
    "# standard deviation\n",
    "StdDev_Sq = sqrt(Variance_Sq)\n",
    "StdDev_Sq"
   ]
  },
  {
   "cell_type": "code",
   "execution_count": 31,
   "metadata": {},
   "outputs": [
    {
     "data": {
      "text/latex": [
       "$\\displaystyle 0.197202659436654$"
      ],
      "text/plain": [
       "0.197202659436654"
      ]
     },
     "execution_count": 31,
     "metadata": {},
     "output_type": "execute_result"
    }
   ],
   "source": [
    "StdDev_Sq.evalf()"
   ]
  },
  {
   "cell_type": "code",
   "execution_count": 32,
   "metadata": {},
   "outputs": [
    {
     "data": {
      "image/png": "[encoded data removed]",
      "text/plain": [
       "<Figure size 432x288 with 1 Axes>"
      ]
     },
     "metadata": {
      "needs_background": "light"
     },
     "output_type": "display_data"
    },
    {
     "data": {
      "text/plain": [
       "<sympy.plotting.plot.Plot at 0x7fd3e3136a00>"
      ]
     },
     "execution_count": 32,
     "metadata": {},
     "output_type": "execute_result"
    }
   ],
   "source": [
    "plot(PD_Sq(s), (s,0,1))"
   ]
  },
  {
   "cell_type": "code",
   "execution_count": 33,
   "metadata": {},
   "outputs": [
    {
     "data": {
      "text/latex": [
       "$\\displaystyle - \\frac{13 \\sqrt{2}}{30} - \\int\\limits_{0}^{1} y \\operatorname{acosh}{\\left(\\frac{\\sqrt{y + 1}}{\\sqrt{y}} \\right)}\\, dy + \\frac{\\operatorname{acosh}{\\left(\\sqrt{2} \\right)}}{2} + \\frac{7}{15} + \\int\\limits_{0}^{1} \\sqrt{y} \\operatorname{acosh}{\\left(\\frac{\\sqrt{y + 1}}{\\sqrt{y}} \\right)}\\, dy$"
      ],
      "text/plain": [
       "-13*sqrt(2)/30 - Integral(y*acosh(sqrt(y + 1)/sqrt(y)), (y, 0, 1)) + acosh(sqrt(2))/2 + 7/15 + Integral(sqrt(y)*acosh(sqrt(y + 1)/sqrt(y)), (y, 0, 1))"
      ]
     },
     "execution_count": 33,
     "metadata": {},
     "output_type": "execute_result"
    }
   ],
   "source": [
    "# Mean distance in unit square\n",
    "MeanDist2 = integrate(sqrt(x + y)*PD_Sq(x)*PD_Sq(y), (x,0,1), (y,0,1)).doit()\n",
    "MeanDist2"
   ]
  },
  {
   "cell_type": "code",
   "execution_count": 34,
   "metadata": {},
   "outputs": [
    {
     "data": {
      "text/latex": [
       "$\\displaystyle 0.521405433164721$"
      ],
      "text/plain": [
       "0.521405433164721"
      ]
     },
     "execution_count": 34,
     "metadata": {},
     "output_type": "execute_result"
    }
   ],
   "source": [
    "MeanDist2.evalf()"
   ]
  },
  {
   "cell_type": "code",
   "execution_count": 35,
   "metadata": {},
   "outputs": [],
   "source": [
    "#MeanDist2.rewrite(log)"
   ]
  },
  {
   "cell_type": "code",
   "execution_count": 36,
   "metadata": {},
   "outputs": [
    {
     "data": {
      "text/latex": [
       "$\\displaystyle \\left( sq \\mapsto \\left(- 2 \\sqrt{sq} + sq - 2 \\sqrt{sq - 1} + 2 \\operatorname{asin}{\\left(\\frac{\\sqrt{sq - 1}}{\\sqrt{sq}} \\right)} + 1\\right) \\theta\\left(1 - sq\\right) - \\left(sq - 4 \\sqrt{sq - 1} - 2 \\operatorname{asin}{\\left(\\frac{1}{\\sqrt{sq}} \\right)} + 2 \\operatorname{asin}{\\left(\\frac{\\sqrt{sq - 1}}{\\sqrt{sq}} \\right)} + 2\\right) \\theta\\left(2 - sq\\right) - \\left(2 \\sqrt{sq} - 2 \\sqrt{sq - 1} - \\left(sq - 4 \\sqrt{sq - 1} - 2 \\operatorname{asin}{\\left(\\frac{1}{\\sqrt{sq}} \\right)} + 2 \\operatorname{asin}{\\left(\\frac{\\sqrt{sq - 1}}{\\sqrt{sq}} \\right)} + 2\\right) \\theta\\left(2 - sq\\right) + 2 \\operatorname{asin}{\\left(\\frac{\\sqrt{sq - 1}}{\\sqrt{sq}} \\right)} - \\pi + 1\\right) \\theta\\left(1 - sq\\right) \\right)$"
      ],
      "text/plain": [
       "Lambda(sq, (-2*sqrt(sq) + sq - 2*sqrt(sq - 1) + 2*asin(sqrt(sq - 1)/sqrt(sq)) + 1)*Heaviside(1 - sq) - (sq - 4*sqrt(sq - 1) - 2*asin(1/sqrt(sq)) + 2*asin(sqrt(sq - 1)/sqrt(sq)) + 2)*Heaviside(2 - sq) - (2*sqrt(sq) - 2*sqrt(sq - 1) - (sq - 4*sqrt(sq - 1) - 2*asin(1/sqrt(sq)) + 2*asin(sqrt(sq - 1)/sqrt(sq)) + 2)*Heaviside(2 - sq) + 2*asin(sqrt(sq - 1)/sqrt(sq)) - pi + 1)*Heaviside(1 - sq))"
      ]
     },
     "execution_count": 36,
     "metadata": {},
     "output_type": "execute_result"
    }
   ],
   "source": [
    "# Calculate probability density function of s^2 = x+y, where s is the two-dim distance\n",
    "# Note that upper integration limit must be sq as square can never be negative, and\n",
    "# more precisely, must be min(1,sq) as sq can be > 1 (< sqrt(2)), but argument of PD_Sq must be in 0..1\n",
    "PD2_Sq = Lambda(sq, Integral(PD_Sq(x)*Heaviside(1-x)*PD_Sq(sq-x)*Heaviside(1-sq+x),(x,0,sq)).doit())\n",
    "PD2_Sq"
   ]
  },
  {
   "cell_type": "code",
   "execution_count": 37,
   "metadata": {},
   "outputs": [
    {
     "data": {
      "image/png": "[encoded data removed]",
      "text/plain": [
       "<Figure size 432x288 with 1 Axes>"
      ]
     },
     "metadata": {
      "needs_background": "light"
     },
     "output_type": "display_data"
    },
    {
     "data": {
      "text/plain": [
       "<sympy.plotting.plot.Plot at 0x7fd3e9cb5d90>"
      ]
     },
     "execution_count": 37,
     "metadata": {},
     "output_type": "execute_result"
    }
   ],
   "source": [
    "plot(PD2_Sq(sq), (sq,0,sqrt(2)))"
   ]
  },
  {
   "cell_type": "code",
   "execution_count": 38,
   "metadata": {},
   "outputs": [
    {
     "name": "stdout",
     "output_type": "stream",
     "text": [
      "0.0156442162819812\n",
      "-2 - sqrt(2) - 2*asin(2**(3/4)*sqrt(-1 + sqrt(2))/2) + 2*asin(2**(3/4)/2) + 4*sqrt(-1 + sqrt(2))\n",
      "0.0143206220341877\n"
     ]
    }
   ],
   "source": [
    "print(PD2_Sq(1.4))\n",
    "print(PD2_Sq(sqrt(2)))\n",
    "print(PD2_Sq(sqrt(2)).evalf())"
   ]
  },
  {
   "cell_type": "code",
   "execution_count": 39,
   "metadata": {},
   "outputs": [],
   "source": [
    "# verify that total probability is 1\n",
    "#integrate(PD2_Sq(sq), (sq,0,sqrt(2))).evalf()"
   ]
  },
  {
   "cell_type": "code",
   "execution_count": 40,
   "metadata": {},
   "outputs": [
    {
     "data": {
      "text/latex": [
       "$\\displaystyle \\left( s \\mapsto s^{2} \\right)$"
      ],
      "text/plain": [
       "Lambda(s, s**2)"
      ]
     },
     "execution_count": 40,
     "metadata": {},
     "output_type": "execute_result"
    }
   ],
   "source": [
    "# Transform PD2_Sq to PD2_S, with sqrt as mapping function\n",
    "# Inverse of sqrt (inverse of mapping function)\n",
    "SqrtMapInverse = Lambda(s, s**2)\n",
    "SqrtMapInverse"
   ]
  },
  {
   "cell_type": "code",
   "execution_count": 41,
   "metadata": {},
   "outputs": [
    {
     "data": {
      "text/latex": [
       "$\\displaystyle \\left( s \\mapsto 2 s \\left(\\left(s^{2} - 2 s - 2 \\sqrt{s^{2} - 1} + 2 \\operatorname{asin}{\\left(\\frac{\\sqrt{s^{2} - 1}}{s} \\right)} + 1\\right) \\theta\\left(1 - s^{2}\\right) - \\left(s^{2} - 4 \\sqrt{s^{2} - 1} - 2 \\operatorname{asin}{\\left(\\frac{1}{s} \\right)} + 2 \\operatorname{asin}{\\left(\\frac{\\sqrt{s^{2} - 1}}{s} \\right)} + 2\\right) \\theta\\left(2 - s^{2}\\right) - \\left(2 s - 2 \\sqrt{s^{2} - 1} - \\left(s^{2} - 4 \\sqrt{s^{2} - 1} - 2 \\operatorname{asin}{\\left(\\frac{1}{s} \\right)} + 2 \\operatorname{asin}{\\left(\\frac{\\sqrt{s^{2} - 1}}{s} \\right)} + 2\\right) \\theta\\left(2 - s^{2}\\right) + 2 \\operatorname{asin}{\\left(\\frac{\\sqrt{s^{2} - 1}}{s} \\right)} - \\pi + 1\\right) \\theta\\left(1 - s^{2}\\right)\\right) \\right)$"
      ],
      "text/plain": [
       "Lambda(s, 2*s*((s**2 - 2*s - 2*sqrt(s**2 - 1) + 2*asin(sqrt(s**2 - 1)/s) + 1)*Heaviside(1 - s**2) - (s**2 - 4*sqrt(s**2 - 1) - 2*asin(1/s) + 2*asin(sqrt(s**2 - 1)/s) + 2)*Heaviside(2 - s**2) - (2*s - 2*sqrt(s**2 - 1) - (s**2 - 4*sqrt(s**2 - 1) - 2*asin(1/s) + 2*asin(sqrt(s**2 - 1)/s) + 2)*Heaviside(2 - s**2) + 2*asin(sqrt(s**2 - 1)/s) - pi + 1)*Heaviside(1 - s**2)))"
      ]
     },
     "execution_count": 41,
     "metadata": {},
     "output_type": "execute_result"
    }
   ],
   "source": [
    "# Probability density function of s = sqrt(sq)\n",
    "PD2_S = Lambda(s, PD2_Sq(SqrtMapInverse(s)) * (diff(SqrtMapInverse(s))))\n",
    "PD2_S"
   ]
  },
  {
   "cell_type": "code",
   "execution_count": 42,
   "metadata": {},
   "outputs": [
    {
     "data": {
      "text/latex": [
       "$\\displaystyle 0$"
      ],
      "text/plain": [
       "0"
      ]
     },
     "execution_count": 42,
     "metadata": {},
     "output_type": "execute_result"
    }
   ],
   "source": [
    "PD2_S(sqrt(2))"
   ]
  },
  {
   "cell_type": "code",
   "execution_count": 43,
   "metadata": {},
   "outputs": [
    {
     "data": {
      "text/latex": [
       "$\\displaystyle -6 + 2 \\pi$"
      ],
      "text/plain": [
       "-6 + 2*pi"
      ]
     },
     "execution_count": 43,
     "metadata": {},
     "output_type": "execute_result"
    }
   ],
   "source": [
    "PD2_S(1)"
   ]
  },
  {
   "cell_type": "code",
   "execution_count": 44,
   "metadata": {},
   "outputs": [
    {
     "data": {
      "image/png": "[encoded data removed]",
      "text/plain": [
       "<Figure size 432x288 with 1 Axes>"
      ]
     },
     "metadata": {
      "needs_background": "light"
     },
     "output_type": "display_data"
    },
    {
     "data": {
      "text/plain": [
       "<sympy.plotting.plot.Plot at 0x7fd3ea3fc7c0>"
      ]
     },
     "execution_count": 44,
     "metadata": {},
     "output_type": "execute_result"
    }
   ],
   "source": [
    "plot(PD2_S(s), (s,0,sqrt(2)))"
   ]
  },
  {
   "cell_type": "code",
   "execution_count": 45,
   "metadata": {},
   "outputs": [
    {
     "data": {
      "text/latex": [
       "$\\displaystyle \\left( s \\mapsto 2 s^{3} \\theta\\left(1 - s^{2}\\right) \\theta\\left(2 - s^{2}\\right) + 2 s^{3} \\theta\\left(1 - s^{2}\\right) - 2 s^{3} \\theta\\left(2 - s^{2}\\right) - 8 s^{2} \\theta\\left(1 - s^{2}\\right) - 8 s \\sqrt{s^{2} - 1} \\theta\\left(1 - s^{2}\\right) \\theta\\left(2 - s^{2}\\right) + 8 s \\sqrt{s^{2} - 1} \\theta\\left(2 - s^{2}\\right) - 4 s \\theta\\left(1 - s^{2}\\right) \\theta\\left(2 - s^{2}\\right) \\operatorname{asin}{\\left(\\frac{1}{s} \\right)} + 4 s \\theta\\left(1 - s^{2}\\right) \\theta\\left(2 - s^{2}\\right) \\operatorname{asin}{\\left(\\frac{\\sqrt{s^{2} - 1}}{s} \\right)} + 4 s \\theta\\left(1 - s^{2}\\right) \\theta\\left(2 - s^{2}\\right) + 2 \\pi s \\theta\\left(1 - s^{2}\\right) + 4 s \\theta\\left(2 - s^{2}\\right) \\operatorname{asin}{\\left(\\frac{1}{s} \\right)} - 4 s \\theta\\left(2 - s^{2}\\right) \\operatorname{asin}{\\left(\\frac{\\sqrt{s^{2} - 1}}{s} \\right)} - 4 s \\theta\\left(2 - s^{2}\\right) \\right)$"
      ],
      "text/plain": [
       "Lambda(s, 2*s**3*Heaviside(1 - s**2)*Heaviside(2 - s**2) + 2*s**3*Heaviside(1 - s**2) - 2*s**3*Heaviside(2 - s**2) - 8*s**2*Heaviside(1 - s**2) - 8*s*sqrt(s**2 - 1)*Heaviside(1 - s**2)*Heaviside(2 - s**2) + 8*s*sqrt(s**2 - 1)*Heaviside(2 - s**2) - 4*s*Heaviside(1 - s**2)*Heaviside(2 - s**2)*asin(1/s) + 4*s*Heaviside(1 - s**2)*Heaviside(2 - s**2)*asin(sqrt(s**2 - 1)/s) + 4*s*Heaviside(1 - s**2)*Heaviside(2 - s**2) + 2*pi*s*Heaviside(1 - s**2) + 4*s*Heaviside(2 - s**2)*asin(1/s) - 4*s*Heaviside(2 - s**2)*asin(sqrt(s**2 - 1)/s) - 4*s*Heaviside(2 - s**2))"
      ]
     },
     "execution_count": 45,
     "metadata": {},
     "output_type": "execute_result"
    }
   ],
   "source": [
    "PD2_S.expand(s)"
   ]
  },
  {
   "cell_type": "code",
   "execution_count": 46,
   "metadata": {},
   "outputs": [
    {
     "data": {
      "text/latex": [
       "$\\displaystyle \\left( s \\mapsto - 2 s \\left(- \\left(s^{2} - 2 s - 2 \\sqrt{s^{2} - 1} + 2 \\operatorname{asin}{\\left(\\frac{\\sqrt{s^{2} - 1}}{s} \\right)} + 1\\right) \\theta\\left(1 - s^{2}\\right) + \\left(s^{2} - 4 \\sqrt{s^{2} - 1} - 2 \\operatorname{asin}{\\left(\\frac{1}{s} \\right)} + 2 \\operatorname{asin}{\\left(\\frac{\\sqrt{s^{2} - 1}}{s} \\right)} + 2\\right) \\theta\\left(2 - s^{2}\\right) + \\left(2 s - 2 \\sqrt{s^{2} - 1} - \\left(s^{2} - 4 \\sqrt{s^{2} - 1} - 2 \\operatorname{asin}{\\left(\\frac{1}{s} \\right)} + 2 \\operatorname{asin}{\\left(\\frac{\\sqrt{s^{2} - 1}}{s} \\right)} + 2\\right) \\theta\\left(2 - s^{2}\\right) + 2 \\operatorname{asin}{\\left(\\frac{\\sqrt{s^{2} - 1}}{s} \\right)} - \\pi + 1\\right) \\theta\\left(1 - s^{2}\\right)\\right) \\right)$"
      ],
      "text/plain": [
       "Lambda(s, -2*s*(-(s**2 - 2*s - 2*sqrt(s**2 - 1) + 2*asin(sqrt(s**2 - 1)/s) + 1)*Heaviside(1 - s**2) + (s**2 - 4*sqrt(s**2 - 1) - 2*asin(1/s) + 2*asin(sqrt(s**2 - 1)/s) + 2)*Heaviside(2 - s**2) + (2*s - 2*sqrt(s**2 - 1) - (s**2 - 4*sqrt(s**2 - 1) - 2*asin(1/s) + 2*asin(sqrt(s**2 - 1)/s) + 2)*Heaviside(2 - s**2) + 2*asin(sqrt(s**2 - 1)/s) - pi + 1)*Heaviside(1 - s**2)))"
      ]
     },
     "execution_count": 46,
     "metadata": {},
     "output_type": "execute_result"
    }
   ],
   "source": [
    "PD2_S.simplify()"
   ]
  },
  {
   "cell_type": "code",
   "execution_count": 49,
   "metadata": {},
   "outputs": [
    {
     "data": {
      "text/latex": [
       "$\\displaystyle \\left( s \\mapsto 2 s^{3} - 8 s^{2} + 2 \\pi s \\right)$"
      ],
      "text/plain": [
       "Lambda(s, 2*s**3 - 8*s**2 + 2*pi*s)"
      ]
     },
     "execution_count": 49,
     "metadata": {},
     "output_type": "execute_result"
    }
   ],
   "source": [
    "# Probability density for s < 1 (step function is 1 everywhere)\n",
    "PD2_Sa = Lambda(s, PD2_S(s).subs(Heaviside(1-s**2),1).expand())\n",
    "PD2_Sa"
   ]
  },
  {
   "cell_type": "code",
   "execution_count": 50,
   "metadata": {},
   "outputs": [
    {
     "data": {
      "text/latex": [
       "$\\displaystyle \\left( s \\mapsto - 2 s^{3} + 8 s \\sqrt{s^{2} - 1} + 4 s \\operatorname{asin}{\\left(\\frac{1}{s} \\right)} - 4 s \\operatorname{asin}{\\left(\\frac{\\sqrt{s^{2} - 1}}{s} \\right)} - 4 s \\right)$"
      ],
      "text/plain": [
       "Lambda(s, -2*s**3 + 8*s*sqrt(s**2 - 1) + 4*s*asin(1/s) - 4*s*asin(sqrt(s**2 - 1)/s) - 4*s)"
      ]
     },
     "execution_count": 50,
     "metadata": {},
     "output_type": "execute_result"
    }
   ],
   "source": [
    "# Probability density for s > 1 (step function is 0 for s < 1, and 1 for s > 1)\n",
    "PD2_Sb = Lambda(s, PD2_S(s).subs(Heaviside(1-s**2),0).subs(Heaviside(2-s**2),1).expand())\n",
    "PD2_Sb"
   ]
  },
  {
   "cell_type": "code",
   "execution_count": 51,
   "metadata": {},
   "outputs": [
    {
     "data": {
      "text/latex": [
       "$\\displaystyle - \\frac{13}{6} + \\pi$"
      ],
      "text/plain": [
       "-13/6 + pi"
      ]
     },
     "execution_count": 51,
     "metadata": {},
     "output_type": "execute_result"
    }
   ],
   "source": [
    "# probability of length s < 1:\n",
    "ProbSa = integrate(PD2_Sa(s), (s,0,1))\n",
    "ProbSa"
   ]
  },
  {
   "cell_type": "code",
   "execution_count": 52,
   "metadata": {},
   "outputs": [
    {
     "data": {
      "text/latex": [
       "$\\displaystyle \\frac{19}{6} - \\pi$"
      ],
      "text/plain": [
       "19/6 - pi"
      ]
     },
     "execution_count": 52,
     "metadata": {},
     "output_type": "execute_result"
    }
   ],
   "source": [
    "# probability of length s > 1:\n",
    "ProbSb = integrate(PD2_Sb(s), (s,1,sqrt(2)))\n",
    "ProbSb"
   ]
  },
  {
   "cell_type": "code",
   "execution_count": 53,
   "metadata": {},
   "outputs": [
    {
     "data": {
      "text/latex": [
       "$\\displaystyle 1$"
      ],
      "text/plain": [
       "1"
      ]
     },
     "execution_count": 53,
     "metadata": {},
     "output_type": "execute_result"
    }
   ],
   "source": [
    "# total probability should be 1\n",
    "ProbSa + ProbSb"
   ]
  },
  {
   "cell_type": "code",
   "execution_count": 54,
   "metadata": {},
   "outputs": [
    {
     "data": {
      "text/latex": [
       "$\\displaystyle -6 + 2 \\pi$"
      ],
      "text/plain": [
       "-6 + 2*pi"
      ]
     },
     "execution_count": 54,
     "metadata": {},
     "output_type": "execute_result"
    }
   ],
   "source": [
    "PD2_Sa(1)"
   ]
  },
  {
   "cell_type": "code",
   "execution_count": 55,
   "metadata": {},
   "outputs": [
    {
     "data": {
      "text/latex": [
       "$\\displaystyle -6 + 2 \\pi$"
      ],
      "text/plain": [
       "-6 + 2*pi"
      ]
     },
     "execution_count": 55,
     "metadata": {},
     "output_type": "execute_result"
    }
   ],
   "source": [
    "PD2_Sb(1)"
   ]
  },
  {
   "cell_type": "code",
   "execution_count": 56,
   "metadata": {},
   "outputs": [
    {
     "data": {
      "text/latex": [
       "$\\displaystyle 0$"
      ],
      "text/plain": [
       "0"
      ]
     },
     "execution_count": 56,
     "metadata": {},
     "output_type": "execute_result"
    }
   ],
   "source": [
    "PD2_Sb(sqrt(2))"
   ]
  },
  {
   "cell_type": "code",
   "execution_count": 57,
   "metadata": {},
   "outputs": [
    {
     "data": {
      "text/latex": [
       "$\\displaystyle - \\frac{8}{5} + \\frac{2 \\pi}{3}$"
      ],
      "text/plain": [
       "-8/5 + 2*pi/3"
      ]
     },
     "execution_count": 57,
     "metadata": {},
     "output_type": "execute_result"
    }
   ],
   "source": [
    "MeanLength_Sa = integrate(PD2_Sa(s)*s, (s,0,1))\n",
    "MeanLength_Sa "
   ]
  },
  {
   "cell_type": "code",
   "execution_count": 58,
   "metadata": {},
   "outputs": [
    {
     "data": {
      "text/latex": [
       "$\\displaystyle - \\frac{2 \\pi}{3} + \\frac{\\sqrt{2}}{15} + \\frac{\\operatorname{acosh}{\\left(\\sqrt{2} \\right)}}{3} + \\frac{26}{15}$"
      ],
      "text/plain": [
       "-2*pi/3 + sqrt(2)/15 + acosh(sqrt(2))/3 + 26/15"
      ]
     },
     "execution_count": 58,
     "metadata": {},
     "output_type": "execute_result"
    }
   ],
   "source": [
    "MeanLength_Sb = integrate(PD2_Sb(s)*s, (s,1,sqrt(2)))\n",
    "MeanLength_Sb "
   ]
  },
  {
   "cell_type": "code",
   "execution_count": 59,
   "metadata": {},
   "outputs": [
    {
     "data": {
      "text/latex": [
       "$\\displaystyle \\frac{\\sqrt{2}}{15} + \\frac{2}{15} + \\frac{\\operatorname{acosh}{\\left(\\sqrt{2} \\right)}}{3}$"
      ],
      "text/plain": [
       "sqrt(2)/15 + 2/15 + acosh(sqrt(2))/3"
      ]
     },
     "execution_count": 59,
     "metadata": {},
     "output_type": "execute_result"
    }
   ],
   "source": [
    "MeanLength_S = MeanLength_Sa + MeanLength_Sb\n",
    "MeanLength_S "
   ]
  },
  {
   "cell_type": "code",
   "execution_count": 60,
   "metadata": {},
   "outputs": [
    {
     "data": {
      "text/latex": [
       "$\\displaystyle 0.521405433164721$"
      ],
      "text/plain": [
       "0.521405433164721"
      ]
     },
     "execution_count": 60,
     "metadata": {},
     "output_type": "execute_result"
    }
   ],
   "source": [
    "MeanLength_S.evalf()"
   ]
  },
  {
   "cell_type": "code",
   "execution_count": 61,
   "metadata": {},
   "outputs": [
    {
     "data": {
      "text/latex": [
       "$\\displaystyle \\frac{\\sqrt{2}}{15} + \\frac{2}{15} + \\frac{\\log{\\left(1 + \\sqrt{2} \\right)}}{3}$"
      ],
      "text/plain": [
       "sqrt(2)/15 + 2/15 + log(1 + sqrt(2))/3"
      ]
     },
     "execution_count": 61,
     "metadata": {},
     "output_type": "execute_result"
    }
   ],
   "source": [
    "MeanLength_S.rewrite(log).simplify()"
   ]
  },
  {
   "cell_type": "code",
   "execution_count": 67,
   "metadata": {},
   "outputs": [
    {
     "data": {
      "text/latex": [
       "$\\displaystyle - \\frac{19}{15} + \\frac{\\pi}{2}$"
      ],
      "text/plain": [
       "-19/15 + pi/2"
      ]
     },
     "execution_count": 67,
     "metadata": {},
     "output_type": "execute_result"
    }
   ],
   "source": [
    "MeanSquare_Sa = integrate(PD2_Sa(s)*s**2, (s,0,1))\n",
    "MeanSquare_Sa "
   ]
  },
  {
   "cell_type": "code",
   "execution_count": 68,
   "metadata": {},
   "outputs": [
    {
     "data": {
      "text/latex": [
       "$\\displaystyle \\frac{8}{5} - \\frac{\\pi}{2}$"
      ],
      "text/plain": [
       "8/5 - pi/2"
      ]
     },
     "execution_count": 68,
     "metadata": {},
     "output_type": "execute_result"
    }
   ],
   "source": [
    "MeanSquare_Sb = integrate(PD2_Sb(s)*s**2, (s,1,sqrt(2)))\n",
    "MeanSquare_Sb "
   ]
  },
  {
   "cell_type": "code",
   "execution_count": 71,
   "metadata": {},
   "outputs": [
    {
     "data": {
      "text/latex": [
       "$\\displaystyle \\frac{1}{3}$"
      ],
      "text/plain": [
       "1/3"
      ]
     },
     "execution_count": 71,
     "metadata": {},
     "output_type": "execute_result"
    }
   ],
   "source": [
    "MeanSquare_S = MeanSquare_Sa + MeanSquare_Sb\n",
    "MeanSquare_S"
   ]
  },
  {
   "cell_type": "code",
   "execution_count": 73,
   "metadata": {},
   "outputs": [
    {
     "data": {
      "text/latex": [
       "$\\displaystyle 0.333333333333333$"
      ],
      "text/plain": [
       "0.333333333333333"
      ]
     },
     "execution_count": 73,
     "metadata": {},
     "output_type": "execute_result"
    }
   ],
   "source": [
    "MeanSquare_S.evalf()"
   ]
  },
  {
   "cell_type": "code",
   "execution_count": 84,
   "metadata": {},
   "outputs": [
    {
     "data": {
      "text/latex": [
       "$\\displaystyle \\frac{1}{3} - \\left(\\frac{\\sqrt{2}}{15} + \\frac{2}{15} + \\frac{\\operatorname{acosh}{\\left(\\sqrt{2} \\right)}}{3}\\right)^{2}$"
      ],
      "text/plain": [
       "1/3 - (sqrt(2)/15 + 2/15 + acosh(sqrt(2))/3)**2"
      ]
     },
     "execution_count": 84,
     "metadata": {},
     "output_type": "execute_result"
    }
   ],
   "source": [
    "Variance_S = (MeanSquare_S - MeanLength_S**2)\n",
    "Variance_S"
   ]
  },
  {
   "cell_type": "code",
   "execution_count": 85,
   "metadata": {},
   "outputs": [
    {
     "data": {
      "text/latex": [
       "$\\displaystyle 0.0614697075996433$"
      ],
      "text/plain": [
       "0.0614697075996433"
      ]
     },
     "execution_count": 85,
     "metadata": {},
     "output_type": "execute_result"
    }
   ],
   "source": [
    "Variance_S.evalf()"
   ]
  },
  {
   "cell_type": "code",
   "execution_count": 100,
   "metadata": {},
   "outputs": [
    {
     "data": {
      "text/latex": [
       "$\\displaystyle \\left(- \\frac{4}{45} - \\frac{2 \\sqrt{2}}{45}\\right) \\log{\\left(1 + \\sqrt{2} \\right)} - \\frac{\\log{\\left(1 + \\sqrt{2} \\right)}^{2}}{9} - \\frac{4 \\sqrt{2}}{225} + \\frac{23}{75}$"
      ],
      "text/plain": [
       "(-4/45 - 2*sqrt(2)/45)*log(1 + sqrt(2)) - log(1 + sqrt(2))**2/9 - 4*sqrt(2)/225 + 23/75"
      ]
     },
     "execution_count": 100,
     "metadata": {},
     "output_type": "execute_result"
    }
   ],
   "source": [
    "expr = Variance_S.rewrite(log).expand().simplify().collect(log(1+sqrt(2)))\n",
    "expr"
   ]
  },
  {
   "cell_type": "code",
   "execution_count": 99,
   "metadata": {},
   "outputs": [
    {
     "data": {
      "text/latex": [
       "$\\displaystyle 2 \\log{\\left(1 + \\sqrt{2} \\right)}$"
      ],
      "text/plain": [
       "2*log(1 + sqrt(2))"
      ]
     },
     "execution_count": 99,
     "metadata": {},
     "output_type": "execute_result"
    }
   ],
   "source": [
    "expand_log(log((1+sqrt(2))**2))"
   ]
  },
  {
   "cell_type": "code",
   "execution_count": 105,
   "metadata": {},
   "outputs": [
    {
     "data": {
      "text/latex": [
       "$\\displaystyle - \\frac{\\log{\\left(1 + \\sqrt{2} \\right)}^{2}}{9} - \\frac{4 \\log{\\left(1 + \\sqrt{2} \\right)}}{45} - \\frac{2 \\sqrt{2} \\log{\\left(1 + \\sqrt{2} \\right)}}{45} - \\frac{4 \\sqrt{2}}{225} + \\frac{23}{75}$"
      ],
      "text/plain": [
       "-log(1 + sqrt(2))**2/9 - 4*log(1 + sqrt(2))/45 - 2*sqrt(2)*log(1 + sqrt(2))/45 - 4*sqrt(2)/225 + 23/75"
      ]
     },
     "execution_count": 105,
     "metadata": {},
     "output_type": "execute_result"
    }
   ],
   "source": [
    "expand_log(Variance_S.rewrite(log)).simplify().expand()"
   ]
  },
  {
   "cell_type": "code",
   "execution_count": null,
   "metadata": {},
   "outputs": [],
   "source": []
  }
 ],
 "metadata": {
  "kernelspec": {
   "display_name": "Python 3",
   "language": "python",
   "name": "python3"
  },
  "language_info": {
   "codemirror_mode": {
    "name": "ipython",
    "version": 3
   },
   "file_extension": ".py",
   "mimetype": "text/x-python",
   "name": "python",
   "nbconvert_exporter": "python",
   "pygments_lexer": "ipython3",
   "version": "3.8.2"
  }
 },
 "nbformat": 4,
 "nbformat_minor": 4
}
