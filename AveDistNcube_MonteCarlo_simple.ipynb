{
 "cells": [
  {
   "attachments": {},
   "cell_type": "markdown",
   "metadata": {},
   "source": [
    "# Numerical experiments for n-dim unit cubes\n",
    "Simple Monte Carlo simulation"
   ]
  },
  {
   "cell_type": "code",
   "execution_count": 1,
   "metadata": {},
   "outputs": [],
   "source": [
    "import numpy as np"
   ]
  },
  {
   "cell_type": "code",
   "execution_count": 2,
   "metadata": {},
   "outputs": [],
   "source": [
    "NumberOfDistances = 100000000"
   ]
  },
  {
   "cell_type": "code",
   "execution_count": 3,
   "metadata": {},
   "outputs": [
    {
     "data": {
      "text/plain": [
       "0.33330519526930513"
      ]
     },
     "execution_count": 3,
     "metadata": {},
     "output_type": "execute_result"
    }
   ],
   "source": [
    "# 1-dim\n",
    "x1 = np.random.rand(NumberOfDistances)\n",
    "x2 = np.random.rand(NumberOfDistances)\n",
    "AveDist1 = np.sum(np.sqrt((x2-x1)**2)) / NumberOfDistances\n",
    "AveDist1"
   ]
  },
  {
   "cell_type": "code",
   "execution_count": 4,
   "metadata": {},
   "outputs": [
    {
     "data": {
      "text/plain": [
       "0.521377587559779"
      ]
     },
     "execution_count": 4,
     "metadata": {},
     "output_type": "execute_result"
    }
   ],
   "source": [
    "# 2-dim\n",
    "y1 = np.random.rand(NumberOfDistances)\n",
    "y2 = np.random.rand(NumberOfDistances)\n",
    "AveDist2 = np.sum(np.sqrt((x2-x1)**2 + (y2-y1)**2)) / NumberOfDistances\n",
    "AveDist2"
   ]
  },
  {
   "cell_type": "code",
   "execution_count": 5,
   "metadata": {},
   "outputs": [
    {
     "data": {
      "text/plain": [
       "0.6617032563811973"
      ]
     },
     "execution_count": 5,
     "metadata": {},
     "output_type": "execute_result"
    }
   ],
   "source": [
    "# 3-dim\n",
    "z1 = np.random.rand(NumberOfDistances)\n",
    "z2 = np.random.rand(NumberOfDistances)\n",
    "AveDist3 = np.sum(np.sqrt((x2-x1)**2 + (y2-y1)**2 + (z2-z1)**2)) / NumberOfDistances\n",
    "AveDist3"
   ]
  },
  {
   "cell_type": "code",
   "execution_count": 6,
   "metadata": {},
   "outputs": [
    {
     "data": {
      "text/plain": [
       "0.7776406651140292"
      ]
     },
     "execution_count": 6,
     "metadata": {},
     "output_type": "execute_result"
    }
   ],
   "source": [
    "# 4-dim\n",
    "t1 = np.random.rand(NumberOfDistances)\n",
    "t2 = np.random.rand(NumberOfDistances)\n",
    "AveDist4 = np.sum(np.sqrt((x2-x1)**2 + (y2-y1)**2 + (z2-z1)**2 + (t2-t1)**2)) / NumberOfDistances\n",
    "AveDist4"
   ]
  },
  {
   "cell_type": "code",
   "execution_count": 7,
   "metadata": {},
   "outputs": [
    {
     "data": {
      "text/plain": [
       "0.8785213862429646"
      ]
     },
     "execution_count": 7,
     "metadata": {},
     "output_type": "execute_result"
    }
   ],
   "source": [
    "# 5-dim\n",
    "u1 = np.random.rand(NumberOfDistances)\n",
    "u2 = np.random.rand(NumberOfDistances)\n",
    "AveDist5 = np.sum(np.sqrt((x2-x1)**2 + (y2-y1)**2 + (z2-z1)**2 + \n",
    "                          (t2-t1)**2 + (u2-u1)**2)) / NumberOfDistances\n",
    "AveDist5"
   ]
  },
  {
   "cell_type": "code",
   "execution_count": 8,
   "metadata": {},
   "outputs": [
    {
     "data": {
      "text/plain": [
       "0.9689377067111364"
      ]
     },
     "execution_count": 8,
     "metadata": {},
     "output_type": "execute_result"
    }
   ],
   "source": [
    "# 6-dim\n",
    "v1 = np.random.rand(NumberOfDistances)\n",
    "v2 = np.random.rand(NumberOfDistances)\n",
    "AveDist6 = np.sum(np.sqrt((x2-x1)**2 + (y2-y1)**2 + (z2-z1)**2 + \n",
    "                          (t2-t1)**2 + (u2-u1)**2 + (v2-v1)**2)) / NumberOfDistances\n",
    "AveDist6"
   ]
  },
  {
   "cell_type": "code",
   "execution_count": 9,
   "metadata": {},
   "outputs": [
    {
     "data": {
      "text/plain": [
       "1.051588586118509"
      ]
     },
     "execution_count": 9,
     "metadata": {},
     "output_type": "execute_result"
    }
   ],
   "source": [
    "# 7-dim\n",
    "w1 = np.random.rand(NumberOfDistances)\n",
    "w2 = np.random.rand(NumberOfDistances)\n",
    "AveDist7 = np.sum(np.sqrt((x2-x1)**2 + (y2-y1)**2 + (z2-z1)**2 + \n",
    "                          (t2-t1)**2 + (u2-u1)**2 + (v2-v1)**2 + \n",
    "                          (w2-w1)**2)) / NumberOfDistances\n",
    "AveDist7"
   ]
  },
  {
   "cell_type": "code",
   "execution_count": 10,
   "metadata": {},
   "outputs": [
    {
     "data": {
      "text/plain": [
       "1.1281651699342103"
      ]
     },
     "execution_count": 10,
     "metadata": {},
     "output_type": "execute_result"
    }
   ],
   "source": [
    "# 8-dim\n",
    "s1 = np.random.rand(NumberOfDistances)\n",
    "s2 = np.random.rand(NumberOfDistances)\n",
    "AveDist8 = np.sum(np.sqrt((x2-x1)**2 + (y2-y1)**2 + (z2-z1)**2 + \n",
    "                          (t2-t1)**2 + (u2-u1)**2 + (v2-v1)**2 + \n",
    "                          (w2-w1)**2 + (s2-s1)**2)) / NumberOfDistances\n",
    "AveDist8"
   ]
  },
  {
   "cell_type": "code",
   "execution_count": 11,
   "metadata": {},
   "outputs": [
    {
     "data": {
      "text/plain": [
       "1.1998758575673134"
      ]
     },
     "execution_count": 11,
     "metadata": {},
     "output_type": "execute_result"
    }
   ],
   "source": [
    "# 9-dim\n",
    "r1 = np.random.rand(NumberOfDistances)\n",
    "r2 = np.random.rand(NumberOfDistances)\n",
    "AveDist9 = np.sum(np.sqrt((x2-x1)**2 + (y2-y1)**2 + (z2-z1)**2 + \n",
    "                          (t2-t1)**2 + (u2-u1)**2 + (v2-v1)**2 + \n",
    "                          (w2-w1)**2 + (s2-s1)**2 + (r2-r1)**2)) / NumberOfDistances\n",
    "AveDist9"
   ]
  },
  {
   "cell_type": "code",
   "execution_count": 12,
   "metadata": {},
   "outputs": [
    {
     "name": "stdout",
     "output_type": "stream",
     "text": [
      "0.11109235319350963\n",
      "0.13591729440482753\n",
      "0.1459503998351602\n",
      "0.1511812510097474\n",
      "0.15435996521725204\n",
      "0.15647337991443938\n",
      "0.15797693635067497\n",
      "0.15909458133158572\n",
      "0.15996689706365508\n"
     ]
    }
   ],
   "source": [
    "# collect results for all dimensions into a list\n",
    "AverageDistances = [AveDist1, AveDist2, AveDist3, AveDist4, \n",
    "                    AveDist5, AveDist6, AveDist7, AveDist8, AveDist9]\n",
    "for index in range(9):\n",
    "    print(AverageDistances[index]**2 / (index+1))"
   ]
  },
  {
   "cell_type": "code",
   "execution_count": 13,
   "metadata": {},
   "outputs": [
    {
     "data": {
      "text/plain": [
       "Text(0.5, 0.98, 'Average distance in n-dim unit cube')"
      ]
     },
     "execution_count": 13,
     "metadata": {},
     "output_type": "execute_result"
    },
    {
     "data": {
      "image/png": "[encoded data removed]",
      "text/plain": [
       "<Figure size 900x300 with 3 Axes>"
      ]
     },
     "metadata": {},
     "output_type": "display_data"
    }
   ],
   "source": [
    "import matplotlib.pyplot as plt\n",
    "\n",
    "data = {'1': AveDist1, '2': AveDist2, '3': AveDist3, '4': AveDist4, \n",
    "        '5': AveDist5, '6': AveDist6, '7': AveDist7, '8': AveDist8,\n",
    "       '9': AveDist9}\n",
    "names = list(data.keys())\n",
    "values = list(data.values())\n",
    "\n",
    "fig, axs = plt.subplots(1, 3, figsize=(9, 3), sharey=True)\n",
    "axs[0].bar(names, values)\n",
    "axs[1].scatter(names, values)\n",
    "axs[2].plot(names, values)\n",
    "fig.suptitle('Average distance in n-dim unit cube')"
   ]
  },
  {
   "cell_type": "code",
   "execution_count": null,
   "metadata": {},
   "outputs": [],
   "source": []
  }
 ],
 "metadata": {
  "kernelspec": {
   "display_name": "Python 3",
   "language": "python",
   "name": "python3"
  },
  "language_info": {
   "codemirror_mode": {
    "name": "ipython",
    "version": 3
   },
   "file_extension": ".py",
   "mimetype": "text/x-python",
   "name": "python",
   "nbconvert_exporter": "python",
   "pygments_lexer": "ipython3",
   "version": "3.12.0"
  }
 },
 "nbformat": 4,
 "nbformat_minor": 4
}
