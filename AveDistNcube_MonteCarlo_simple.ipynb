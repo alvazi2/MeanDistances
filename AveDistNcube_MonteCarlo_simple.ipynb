{
 "cells": [
  {
   "attachments": {},
   "cell_type": "markdown",
   "metadata": {},
   "source": [
    "# Numerical experiments for n-dim unit cubes\n",
    "Simple Monte Carlo simulation"
   ]
  },
  {
   "cell_type": "code",
   "execution_count": 1,
   "metadata": {},
   "outputs": [],
   "source": [
    "import numpy as np"
   ]
  },
  {
   "cell_type": "code",
   "execution_count": 2,
   "metadata": {},
   "outputs": [],
   "source": [
    "NumberOfDistances = 100000000"
   ]
  },
  {
   "cell_type": "code",
   "execution_count": 3,
   "metadata": {},
   "outputs": [
    {
     "data": {
      "text/plain": [
       "0.33335890794560236"
      ]
     },
     "execution_count": 3,
     "metadata": {},
     "output_type": "execute_result"
    }
   ],
   "source": [
    "# 1-dim\n",
    "x1 = np.random.rand(NumberOfDistances)\n",
    "x2 = np.random.rand(NumberOfDistances)\n",
    "AveDist1 = np.sum(np.sqrt((x2-x1)**2)) / NumberOfDistances\n",
    "AveDist1"
   ]
  },
  {
   "cell_type": "code",
   "execution_count": 4,
   "metadata": {},
   "outputs": [
    {
     "data": {
      "text/plain": [
       "0.5214339788265024"
      ]
     },
     "execution_count": 4,
     "metadata": {},
     "output_type": "execute_result"
    }
   ],
   "source": [
    "# 2-dim\n",
    "y1 = np.random.rand(NumberOfDistances)\n",
    "y2 = np.random.rand(NumberOfDistances)\n",
    "AveDist2 = np.sum(np.sqrt((x2-x1)**2 + (y2-y1)**2)) / NumberOfDistances\n",
    "AveDist2"
   ]
  },
  {
   "cell_type": "code",
   "execution_count": 5,
   "metadata": {},
   "outputs": [
    {
     "data": {
      "text/plain": [
       "0.6617196592092761"
      ]
     },
     "execution_count": 5,
     "metadata": {},
     "output_type": "execute_result"
    }
   ],
   "source": [
    "# 3-dim\n",
    "z1 = np.random.rand(NumberOfDistances)\n",
    "z2 = np.random.rand(NumberOfDistances)\n",
    "AveDist3 = np.sum(np.sqrt((x2-x1)**2 + (y2-y1)**2 + (z2-z1)**2)) / NumberOfDistances\n",
    "AveDist3"
   ]
  },
  {
   "cell_type": "code",
   "execution_count": 6,
   "metadata": {},
   "outputs": [
    {
     "data": {
      "text/plain": [
       "0.7776532340368365"
      ]
     },
     "execution_count": 6,
     "metadata": {},
     "output_type": "execute_result"
    }
   ],
   "source": [
    "# 4-dim\n",
    "t1 = np.random.rand(NumberOfDistances)\n",
    "t2 = np.random.rand(NumberOfDistances)\n",
    "AveDist4 = np.sum(np.sqrt((x2-x1)**2 + (y2-y1)**2 + (z2-z1)**2 + (t2-t1)**2)) / NumberOfDistances\n",
    "AveDist4"
   ]
  },
  {
   "cell_type": "code",
   "execution_count": 7,
   "metadata": {},
   "outputs": [
    {
     "data": {
      "text/plain": [
       "0.878519157286962"
      ]
     },
     "execution_count": 7,
     "metadata": {},
     "output_type": "execute_result"
    }
   ],
   "source": [
    "# 5-dim\n",
    "u1 = np.random.rand(NumberOfDistances)\n",
    "u2 = np.random.rand(NumberOfDistances)\n",
    "AveDist5 = np.sum(np.sqrt((x2-x1)**2 + (y2-y1)**2 + (z2-z1)**2 + \n",
    "                          (t2-t1)**2 + (u2-u1)**2)) / NumberOfDistances\n",
    "AveDist5"
   ]
  },
  {
   "cell_type": "code",
   "execution_count": 8,
   "metadata": {},
   "outputs": [
    {
     "data": {
      "text/plain": [
       "0.9689308142453411"
      ]
     },
     "execution_count": 8,
     "metadata": {},
     "output_type": "execute_result"
    }
   ],
   "source": [
    "# 6-dim\n",
    "v1 = np.random.rand(NumberOfDistances)\n",
    "v2 = np.random.rand(NumberOfDistances)\n",
    "AveDist6 = np.sum(np.sqrt((x2-x1)**2 + (y2-y1)**2 + (z2-z1)**2 + \n",
    "                          (t2-t1)**2 + (u2-u1)**2 + (v2-v1)**2)) / NumberOfDistances\n",
    "AveDist6"
   ]
  },
  {
   "cell_type": "code",
   "execution_count": 9,
   "metadata": {},
   "outputs": [
    {
     "data": {
      "text/plain": [
       "1.0515656203580228"
      ]
     },
     "execution_count": 9,
     "metadata": {},
     "output_type": "execute_result"
    }
   ],
   "source": [
    "# 7-dim\n",
    "w1 = np.random.rand(NumberOfDistances)\n",
    "w2 = np.random.rand(NumberOfDistances)\n",
    "AveDist7 = np.sum(np.sqrt((x2-x1)**2 + (y2-y1)**2 + (z2-z1)**2 + \n",
    "                          (t2-t1)**2 + (u2-u1)**2 + (v2-v1)**2 + \n",
    "                          (w2-w1)**2)) / NumberOfDistances\n",
    "AveDist7"
   ]
  },
  {
   "cell_type": "code",
   "execution_count": 10,
   "metadata": {},
   "outputs": [
    {
     "data": {
      "text/plain": [
       "1.1281420661389752"
      ]
     },
     "execution_count": 10,
     "metadata": {},
     "output_type": "execute_result"
    }
   ],
   "source": [
    "# 8-dim\n",
    "s1 = np.random.rand(NumberOfDistances)\n",
    "s2 = np.random.rand(NumberOfDistances)\n",
    "AveDist8 = np.sum(np.sqrt((x2-x1)**2 + (y2-y1)**2 + (z2-z1)**2 + \n",
    "                          (t2-t1)**2 + (u2-u1)**2 + (v2-v1)**2 + \n",
    "                          (w2-w1)**2 + (s2-s1)**2)) / NumberOfDistances\n",
    "AveDist8"
   ]
  },
  {
   "cell_type": "code",
   "execution_count": 11,
   "metadata": {},
   "outputs": [
    {
     "data": {
      "text/plain": [
       "1.199820502915362"
      ]
     },
     "execution_count": 11,
     "metadata": {},
     "output_type": "execute_result"
    }
   ],
   "source": [
    "# 9-dim\n",
    "r1 = np.random.rand(NumberOfDistances)\n",
    "r2 = np.random.rand(NumberOfDistances)\n",
    "AveDist9 = np.sum(np.sqrt((x2-x1)**2 + (y2-y1)**2 + (z2-z1)**2 + \n",
    "                          (t2-t1)**2 + (u2-u1)**2 + (v2-v1)**2 + \n",
    "                          (w2-w1)**2 + (s2-s1)**2 + (r2-r1)**2)) / NumberOfDistances\n",
    "AveDist9"
   ]
  },
  {
   "cell_type": "code",
   "execution_count": 12,
   "metadata": {},
   "outputs": [
    {
     "name": "stdout",
     "output_type": "stream",
     "text": [
      "0.11112816150668459\n",
      "0.1359466971374187\n",
      "0.14595763579468016\n",
      "0.1511861381019877\n",
      "0.15435918194403875\n",
      "0.1564711537990233\n",
      "0.15797003627413622\n",
      "0.15908806517403948\n",
      "0.15995213769067465\n"
     ]
    }
   ],
   "source": [
    "# collect results for all dimensions into a list\n",
    "AverageDistances = [AveDist1, AveDist2, AveDist3, AveDist4, \n",
    "                    AveDist5, AveDist6, AveDist7, AveDist8, AveDist9]\n",
    "for index in range(9):\n",
    "    print(AverageDistances[index]**2 / (index+1))"
   ]
  },
  {
   "cell_type": "code",
   "execution_count": 13,
   "metadata": {},
   "outputs": [
    {
     "data": {
      "text/plain": [
       "Text(0.5, 0.98, 'Average distance in n-dim unit cube')"
      ]
     },
     "execution_count": 13,
     "metadata": {},
     "output_type": "execute_result"
    },
    {
     "data": {
      "image/png": "[encoded data removed]",
      "text/plain": [
       "<Figure size 648x216 with 3 Axes>"
      ]
     },
     "metadata": {
      "needs_background": "light"
     },
     "output_type": "display_data"
    }
   ],
   "source": [
    "import matplotlib.pyplot as plt\n",
    "\n",
    "data = {'1': AveDist1, '2': AveDist2, '3': AveDist3, '4': AveDist4, \n",
    "        '5': AveDist5, '6': AveDist6, '7': AveDist7, '8': AveDist8,\n",
    "       '9': AveDist9}\n",
    "names = list(data.keys())\n",
    "values = list(data.values())\n",
    "\n",
    "fig, axs = plt.subplots(1, 3, figsize=(9, 3), sharey=True)\n",
    "axs[0].bar(names, values)\n",
    "axs[1].scatter(names, values)\n",
    "axs[2].plot(names, values)\n",
    "fig.suptitle('Average distance in n-dim unit cube')"
   ]
  },
  {
   "cell_type": "code",
   "execution_count": null,
   "metadata": {},
   "outputs": [],
   "source": []
  }
 ],
 "metadata": {
  "kernelspec": {
   "display_name": "Python 3",
   "language": "python",
   "name": "python3"
  },
  "language_info": {
   "codemirror_mode": {
    "name": "ipython",
    "version": 3
   },
   "file_extension": ".py",
   "mimetype": "text/x-python",
   "name": "python",
   "nbconvert_exporter": "python",
   "pygments_lexer": "ipython3",
   "version": "3.8.2"
  }
 },
 "nbformat": 4,
 "nbformat_minor": 4
}
