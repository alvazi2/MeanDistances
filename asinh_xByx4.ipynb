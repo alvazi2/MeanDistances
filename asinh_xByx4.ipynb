{
 "cells": [
  {
   "cell_type": "code",
   "execution_count": 1,
   "metadata": {},
   "outputs": [],
   "source": [
    "import sympy\n",
    "from sympy import *\n",
    "x, y, u = symbols('x y u')\n",
    "f = Function( 'f')\n",
    "g = Function( 'g')"
   ]
  },
  {
   "cell_type": "markdown",
   "metadata": {},
   "source": [
    "Integral asinh(u)/u^4 using integration by parts. Sympy cannot handle the integral directly"
   ]
  },
  {
   "cell_type": "code",
   "execution_count": 2,
   "metadata": {},
   "outputs": [],
   "source": [
    "f = asinh(u)\n",
    "g = 1/u**4"
   ]
  },
  {
   "cell_type": "code",
   "execution_count": 3,
   "metadata": {},
   "outputs": [],
   "source": [
    "Integral_fg = Integral(f) * g - Integral(diff(f)*Integral(g))"
   ]
  },
  {
   "cell_type": "code",
   "execution_count": 4,
   "metadata": {},
   "outputs": [
    {
     "data": {
      "text/latex": [
       "$\\displaystyle - \\int \\frac{\\int \\frac{1}{u^{4}}\\, du}{\\sqrt{u^{2} + 1}}\\, du + \\frac{\\int \\operatorname{asinh}{\\left(u \\right)}\\, du}{u^{4}}$"
      ],
      "text/plain": [
       "-Integral(Integral(u**(-4), u)/sqrt(u**2 + 1), u) + Integral(asinh(u), u)/u**4"
      ]
     },
     "execution_count": 4,
     "metadata": {},
     "output_type": "execute_result"
    }
   ],
   "source": [
    "Integral_fg"
   ]
  },
  {
   "cell_type": "code",
   "execution_count": 14,
   "metadata": {},
   "outputs": [],
   "source": [
    "IntFG = Integral_fg.doit()"
   ]
  },
  {
   "cell_type": "code",
   "execution_count": 16,
   "metadata": {},
   "outputs": [
    {
     "data": {
      "text/latex": [
       "$\\displaystyle \\frac{\\operatorname{asinh}{\\left(\\frac{1}{u} \\right)}}{6} - \\frac{\\sqrt{1 + \\frac{1}{u^{2}}}}{6 u} + \\frac{u \\operatorname{asinh}{\\left(u \\right)} - \\sqrt{u^{2} + 1}}{u^{4}}$"
      ],
      "text/plain": [
       "asinh(1/u)/6 - sqrt(1 + u**(-2))/(6*u) + (u*asinh(u) - sqrt(u**2 + 1))/u**4"
      ]
     },
     "execution_count": 16,
     "metadata": {},
     "output_type": "execute_result"
    }
   ],
   "source": [
    "IntFG"
   ]
  },
  {
   "cell_type": "code",
   "execution_count": 17,
   "metadata": {},
   "outputs": [
    {
     "data": {
      "text/latex": [
       "$\\displaystyle - \\frac{7 \\sqrt{2}}{6} + \\frac{7 \\log{\\left(1 + \\sqrt{2} \\right)}}{6}$"
      ],
      "text/plain": [
       "-7*sqrt(2)/6 + 7*log(1 + sqrt(2))/6"
      ]
     },
     "execution_count": 17,
     "metadata": {},
     "output_type": "execute_result"
    }
   ],
   "source": [
    "IntFG.subs(u,1)"
   ]
  },
  {
   "cell_type": "code",
   "execution_count": 18,
   "metadata": {},
   "outputs": [
    {
     "data": {
      "text/latex": [
       "$\\displaystyle \\frac{\\log{\\left(\\sqrt{1 + \\frac{1}{u^{2}}} + \\frac{1}{u} \\right)}}{6} - \\frac{\\sqrt{1 + \\frac{1}{u^{2}}}}{6 u} + \\frac{u \\log{\\left(u + \\sqrt{u^{2} + 1} \\right)} - \\sqrt{u^{2} + 1}}{u^{4}}$"
      ],
      "text/plain": [
       "log(sqrt(1 + u**(-2)) + 1/u)/6 - sqrt(1 + u**(-2))/(6*u) + (u*log(u + sqrt(u**2 + 1)) - sqrt(u**2 + 1))/u**4"
      ]
     },
     "execution_count": 18,
     "metadata": {},
     "output_type": "execute_result"
    }
   ],
   "source": [
    "IntFG.rewrite(log)"
   ]
  },
  {
   "cell_type": "code",
   "execution_count": 19,
   "metadata": {},
   "outputs": [
    {
     "data": {
      "text/latex": [
       "$\\displaystyle 0$"
      ],
      "text/plain": [
       "0"
      ]
     },
     "execution_count": 19,
     "metadata": {},
     "output_type": "execute_result"
    }
   ],
   "source": [
    "limit(IntFG.rewrite(log),u,oo)"
   ]
  },
  {
   "cell_type": "code",
   "execution_count": 20,
   "metadata": {},
   "outputs": [],
   "source": [
    "IntFG_value = limit(IntFG.rewrite(log),u,oo) - IntFG.subs(u,1)"
   ]
  },
  {
   "cell_type": "code",
   "execution_count": 21,
   "metadata": {},
   "outputs": [
    {
     "data": {
      "text/latex": [
       "$\\displaystyle - \\frac{7 \\log{\\left(1 + \\sqrt{2} \\right)}}{6} + \\frac{7 \\sqrt{2}}{6}$"
      ],
      "text/plain": [
       "-7*log(1 + sqrt(2))/6 + 7*sqrt(2)/6"
      ]
     },
     "execution_count": 21,
     "metadata": {},
     "output_type": "execute_result"
    }
   ],
   "source": [
    "IntFG_value"
   ]
  },
  {
   "cell_type": "code",
   "execution_count": null,
   "metadata": {},
   "outputs": [],
   "source": []
  }
 ],
 "metadata": {
  "kernelspec": {
   "display_name": "Python 3",
   "language": "python",
   "name": "python3"
  },
  "language_info": {
   "codemirror_mode": {
    "name": "ipython",
    "version": 3
   },
   "file_extension": ".py",
   "mimetype": "text/x-python",
   "name": "python",
   "nbconvert_exporter": "python",
   "pygments_lexer": "ipython3",
   "version": "3.8.2"
  }
 },
 "nbformat": 4,
 "nbformat_minor": 4
}
