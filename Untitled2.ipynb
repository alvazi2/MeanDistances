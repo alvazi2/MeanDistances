{
 "cells": [
  {
   "attachments": {},
   "cell_type": "markdown",
   "metadata": {},
   "source": [
    "Attempt at analytical calculation of random distance for 1-dim, 2-dim, 3-dim unit cube\n",
    "(Not much success)"
   ]
  },
  {
   "cell_type": "code",
   "execution_count": 18,
   "metadata": {},
   "outputs": [],
   "source": [
    "import sympy\n",
    "from sympy import *\n",
    "x, y, z = symbols('x y z')"
   ]
  },
  {
   "cell_type": "code",
   "execution_count": 19,
   "metadata": {},
   "outputs": [],
   "source": [
    "WeightedDistance1 = 2*(1-x)*x"
   ]
  },
  {
   "cell_type": "code",
   "execution_count": 20,
   "metadata": {},
   "outputs": [
    {
     "data": {
      "text/latex": [
       "$\\displaystyle x \\left(2 - 2 x\\right)$"
      ],
      "text/plain": [
       "x*(2 - 2*x)"
      ]
     },
     "execution_count": 20,
     "metadata": {},
     "output_type": "execute_result"
    }
   ],
   "source": [
    "WeightedDistance1"
   ]
  },
  {
   "cell_type": "code",
   "execution_count": 21,
   "metadata": {},
   "outputs": [],
   "source": [
    "AveDist1 = integrate(WeightedDistance1,(x,0,1))"
   ]
  },
  {
   "cell_type": "code",
   "execution_count": 22,
   "metadata": {},
   "outputs": [
    {
     "data": {
      "text/latex": [
       "$\\displaystyle \\frac{1}{3}$"
      ],
      "text/plain": [
       "1/3"
      ]
     },
     "execution_count": 22,
     "metadata": {},
     "output_type": "execute_result"
    }
   ],
   "source": [
    "AveDist1"
   ]
  },
  {
   "cell_type": "code",
   "execution_count": 23,
   "metadata": {},
   "outputs": [
    {
     "data": {
      "text/latex": [
       "$\\displaystyle 0.333333333333333$"
      ],
      "text/plain": [
       "0.333333333333333"
      ]
     },
     "execution_count": 23,
     "metadata": {},
     "output_type": "execute_result"
    }
   ],
   "source": [
    "AveDist1.evalf()"
   ]
  },
  {
   "cell_type": "code",
   "execution_count": 24,
   "metadata": {},
   "outputs": [],
   "source": [
    "WeightedDistance2 = 4*(1-x)*(1-y)*sqrt(x**2 + y**2)"
   ]
  },
  {
   "cell_type": "code",
   "execution_count": 25,
   "metadata": {},
   "outputs": [
    {
     "data": {
      "text/latex": [
       "$\\displaystyle \\left(1 - y\\right) \\left(4 - 4 x\\right) \\sqrt{x^{2} + y^{2}}$"
      ],
      "text/plain": [
       "(1 - y)*(4 - 4*x)*sqrt(x**2 + y**2)"
      ]
     },
     "execution_count": 25,
     "metadata": {},
     "output_type": "execute_result"
    }
   ],
   "source": [
    "WeightedDistance2"
   ]
  },
  {
   "cell_type": "code",
   "execution_count": 31,
   "metadata": {},
   "outputs": [
    {
     "data": {
      "text/latex": [
       "$\\displaystyle - \\frac{4 \\sqrt{2}}{15} + \\frac{2}{15} + 2 \\int\\limits_{0}^{1} y^{2} \\log{\\left(\\sqrt{1 + \\frac{1}{y^{2}}} + \\frac{1}{y} \\right)}\\, dy$"
      ],
      "text/plain": [
       "-4*sqrt(2)/15 + 2/15 + 2*Integral(y**2*log(sqrt(1 + y**(-2)) + 1/y), (y, 0, 1))"
      ]
     },
     "execution_count": 31,
     "metadata": {},
     "output_type": "execute_result"
    }
   ],
   "source": [
    "AveDist2 = integrate(WeightedDistance2,(x,0,1),(y,0,1))\n",
    "AveDist2.expand().rewrite(log).simplify().doit()"
   ]
  },
  {
   "cell_type": "code",
   "execution_count": 27,
   "metadata": {},
   "outputs": [
    {
     "data": {
      "text/latex": [
       "$\\displaystyle 0.521405433164721$"
      ],
      "text/plain": [
       "0.521405433164721"
      ]
     },
     "execution_count": 27,
     "metadata": {},
     "output_type": "execute_result"
    }
   ],
   "source": [
    "AveDist2.evalf()"
   ]
  },
  {
   "cell_type": "code",
   "execution_count": 28,
   "metadata": {},
   "outputs": [],
   "source": [
    "WeightedDistance3 = 8*(1-x)*(1-y)*(1-z)*sqrt(x**2 + y**2 + z**2)"
   ]
  },
  {
   "cell_type": "code",
   "execution_count": 29,
   "metadata": {},
   "outputs": [
    {
     "data": {
      "text/latex": [
       "$\\displaystyle \\left(1 - y\\right) \\left(1 - z\\right) \\left(8 - 8 x\\right) \\sqrt{x^{2} + y^{2} + z^{2}}$"
      ],
      "text/plain": [
       "(1 - y)*(1 - z)*(8 - 8*x)*sqrt(x**2 + y**2 + z**2)"
      ]
     },
     "execution_count": 29,
     "metadata": {},
     "output_type": "execute_result"
    }
   ],
   "source": [
    "WeightedDistance3"
   ]
  },
  {
   "cell_type": "code",
   "execution_count": 30,
   "metadata": {},
   "outputs": [
    {
     "ename": "KeyboardInterrupt",
     "evalue": "",
     "output_type": "error",
     "traceback": [
      "\u001b[0;31m---------------------------------------------------------------------------\u001b[0m",
      "\u001b[0;31mKeyboardInterrupt\u001b[0m                         Traceback (most recent call last)",
      "\u001b[1;32m/Users/alvazi2/Documents/JupyterLab/MeanDistances/Untitled2.ipynb Cell 13\u001b[0m in \u001b[0;36m<cell line: 1>\u001b[0;34m()\u001b[0m\n\u001b[0;32m----> <a href='vscode-notebook-cell:/Users/alvazi2/Documents/JupyterLab/MeanDistances/Untitled2.ipynb#X15sZmlsZQ%3D%3D?line=0'>1</a>\u001b[0m AveDist3 \u001b[39m=\u001b[39m integrate(WeightedDistance3,(x,\u001b[39m0\u001b[39;49m,\u001b[39m1\u001b[39;49m),(y,\u001b[39m0\u001b[39;49m,\u001b[39m1\u001b[39;49m),(z,\u001b[39m0\u001b[39;49m,\u001b[39m1\u001b[39;49m))\n",
      "File \u001b[0;32m/Library/Frameworks/Python.framework/Versions/3.10/lib/python3.10/site-packages/sympy/integrals/integrals.py:1567\u001b[0m, in \u001b[0;36mintegrate\u001b[0;34m(meijerg, conds, risch, heurisch, manual, *args, **kwargs)\u001b[0m\n\u001b[1;32m   1564\u001b[0m integral \u001b[39m=\u001b[39m Integral(\u001b[39m*\u001b[39margs, \u001b[39m*\u001b[39m\u001b[39m*\u001b[39mkwargs)\n\u001b[1;32m   1566\u001b[0m \u001b[39mif\u001b[39;00m \u001b[39misinstance\u001b[39m(integral, Integral):\n\u001b[0;32m-> 1567\u001b[0m     \u001b[39mreturn\u001b[39;00m integral\u001b[39m.\u001b[39;49mdoit(\u001b[39m*\u001b[39;49m\u001b[39m*\u001b[39;49mdoit_flags)\n\u001b[1;32m   1568\u001b[0m \u001b[39melse\u001b[39;00m:\n\u001b[1;32m   1569\u001b[0m     new_args \u001b[39m=\u001b[39m [a\u001b[39m.\u001b[39mdoit(\u001b[39m*\u001b[39m\u001b[39m*\u001b[39mdoit_flags) \u001b[39mif\u001b[39;00m \u001b[39misinstance\u001b[39m(a, Integral) \u001b[39melse\u001b[39;00m a\n\u001b[1;32m   1570\u001b[0m         \u001b[39mfor\u001b[39;00m a \u001b[39min\u001b[39;00m integral\u001b[39m.\u001b[39margs]\n",
      "File \u001b[0;32m/Library/Frameworks/Python.framework/Versions/3.10/lib/python3.10/site-packages/sympy/integrals/integrals.py:499\u001b[0m, in \u001b[0;36mIntegral.doit\u001b[0;34m(self, **hints)\u001b[0m\n\u001b[1;32m    497\u001b[0m \u001b[39mif\u001b[39;00m reps:\n\u001b[1;32m    498\u001b[0m     undo \u001b[39m=\u001b[39m {v: k \u001b[39mfor\u001b[39;00m k, v \u001b[39min\u001b[39;00m reps\u001b[39m.\u001b[39mitems()}\n\u001b[0;32m--> 499\u001b[0m     did \u001b[39m=\u001b[39m \u001b[39mself\u001b[39;49m\u001b[39m.\u001b[39;49mxreplace(reps)\u001b[39m.\u001b[39;49mdoit(\u001b[39m*\u001b[39;49m\u001b[39m*\u001b[39;49mhints)\n\u001b[1;32m    500\u001b[0m     \u001b[39mif\u001b[39;00m \u001b[39misinstance\u001b[39m(did, \u001b[39mtuple\u001b[39m):  \u001b[39m# when separate=True\u001b[39;00m\n\u001b[1;32m    501\u001b[0m         did \u001b[39m=\u001b[39m \u001b[39mtuple\u001b[39m([i\u001b[39m.\u001b[39mxreplace(undo) \u001b[39mfor\u001b[39;00m i \u001b[39min\u001b[39;00m did])\n",
      "File \u001b[0;32m/Library/Frameworks/Python.framework/Versions/3.10/lib/python3.10/site-packages/sympy/integrals/integrals.py:612\u001b[0m, in \u001b[0;36mIntegral.doit\u001b[0;34m(self, **hints)\u001b[0m\n\u001b[1;32m    610\u001b[0m     antideriv \u001b[39m=\u001b[39m \u001b[39mNone\u001b[39;00m\n\u001b[1;32m    611\u001b[0m \u001b[39melse\u001b[39;00m:\n\u001b[0;32m--> 612\u001b[0m     antideriv \u001b[39m=\u001b[39m \u001b[39mself\u001b[39;49m\u001b[39m.\u001b[39;49m_eval_integral(\n\u001b[1;32m    613\u001b[0m         function, xab[\u001b[39m0\u001b[39;49m], \u001b[39m*\u001b[39;49m\u001b[39m*\u001b[39;49meval_kwargs)\n\u001b[1;32m    614\u001b[0m     \u001b[39mif\u001b[39;00m antideriv \u001b[39mis\u001b[39;00m \u001b[39mNone\u001b[39;00m \u001b[39mand\u001b[39;00m meijerg \u001b[39mis\u001b[39;00m \u001b[39mTrue\u001b[39;00m:\n\u001b[1;32m    615\u001b[0m         ret \u001b[39m=\u001b[39m try_meijerg(function, xab)\n",
      "File \u001b[0;32m/Library/Frameworks/Python.framework/Versions/3.10/lib/python3.10/site-packages/sympy/integrals/integrals.py:1084\u001b[0m, in \u001b[0;36mIntegral._eval_integral\u001b[0;34m(self, f, x, meijerg, risch, manual, heurisch, conds, final)\u001b[0m\n\u001b[1;32m   1082\u001b[0m \u001b[39mtry\u001b[39;00m:\n\u001b[1;32m   1083\u001b[0m     \u001b[39mif\u001b[39;00m conds \u001b[39m==\u001b[39m \u001b[39m'\u001b[39m\u001b[39mpiecewise\u001b[39m\u001b[39m'\u001b[39m:\n\u001b[0;32m-> 1084\u001b[0m         h \u001b[39m=\u001b[39m heurisch_wrapper(g, x, hints\u001b[39m=\u001b[39;49m[])\n\u001b[1;32m   1085\u001b[0m     \u001b[39melse\u001b[39;00m:\n\u001b[1;32m   1086\u001b[0m         h \u001b[39m=\u001b[39m heurisch_(g, x, hints\u001b[39m=\u001b[39m[])\n",
      "File \u001b[0;32m/Library/Frameworks/Python.framework/Versions/3.10/lib/python3.10/site-packages/sympy/integrals/heurisch.py:143\u001b[0m, in \u001b[0;36mheurisch_wrapper\u001b[0;34m(f, x, rewrite, hints, mappings, retries, degree_offset, unnecessary_permutations, _try_heurisch)\u001b[0m\n\u001b[1;32m    140\u001b[0m \u001b[39mif\u001b[39;00m \u001b[39mnot\u001b[39;00m f\u001b[39m.\u001b[39mhas_free(x):\n\u001b[1;32m    141\u001b[0m     \u001b[39mreturn\u001b[39;00m f\u001b[39m*\u001b[39mx\n\u001b[0;32m--> 143\u001b[0m res \u001b[39m=\u001b[39m heurisch(f, x, rewrite, hints, mappings, retries, degree_offset,\n\u001b[1;32m    144\u001b[0m                unnecessary_permutations, _try_heurisch)\n\u001b[1;32m    145\u001b[0m \u001b[39mif\u001b[39;00m \u001b[39mnot\u001b[39;00m \u001b[39misinstance\u001b[39m(res, Basic):\n\u001b[1;32m    146\u001b[0m     \u001b[39mreturn\u001b[39;00m res\n",
      "File \u001b[0;32m/Library/Frameworks/Python.framework/Versions/3.10/lib/python3.10/site-packages/sympy/integrals/heurisch.py:766\u001b[0m, in \u001b[0;36mheurisch\u001b[0;34m(f, x, rewrite, hints, mappings, retries, degree_offset, unnecessary_permutations, _try_heurisch)\u001b[0m\n\u001b[1;32m    764\u001b[0m \u001b[39melse\u001b[39;00m:\n\u001b[1;32m    765\u001b[0m     \u001b[39mif\u001b[39;00m retries \u001b[39m>\u001b[39m\u001b[39m=\u001b[39m \u001b[39m0\u001b[39m:\n\u001b[0;32m--> 766\u001b[0m         result \u001b[39m=\u001b[39m heurisch(f, x, mappings\u001b[39m=\u001b[39;49mmappings, rewrite\u001b[39m=\u001b[39;49mrewrite, hints\u001b[39m=\u001b[39;49mhints, retries\u001b[39m=\u001b[39;49mretries \u001b[39m-\u001b[39;49m \u001b[39m1\u001b[39;49m, unnecessary_permutations\u001b[39m=\u001b[39;49munnecessary_permutations)\n\u001b[1;32m    768\u001b[0m         \u001b[39mif\u001b[39;00m result \u001b[39mis\u001b[39;00m \u001b[39mnot\u001b[39;00m \u001b[39mNone\u001b[39;00m:\n\u001b[1;32m    769\u001b[0m             \u001b[39mreturn\u001b[39;00m indep\u001b[39m*\u001b[39mresult\n",
      "File \u001b[0;32m/Library/Frameworks/Python.framework/Versions/3.10/lib/python3.10/site-packages/sympy/integrals/heurisch.py:754\u001b[0m, in \u001b[0;36mheurisch\u001b[0;34m(f, x, rewrite, hints, mappings, retries, degree_offset, unnecessary_permutations, _try_heurisch)\u001b[0m\n\u001b[1;32m    752\u001b[0m         solution \u001b[39m=\u001b[39m _integrate()\n\u001b[1;32m    753\u001b[0m \u001b[39melse\u001b[39;00m:\n\u001b[0;32m--> 754\u001b[0m     solution \u001b[39m=\u001b[39m _integrate()\n\u001b[1;32m    756\u001b[0m \u001b[39mif\u001b[39;00m solution \u001b[39mis\u001b[39;00m \u001b[39mnot\u001b[39;00m \u001b[39mNone\u001b[39;00m:\n\u001b[1;32m    757\u001b[0m     antideriv \u001b[39m=\u001b[39m solution\u001b[39m.\u001b[39msubs(rev_mapping)\n",
      "File \u001b[0;32m/Library/Frameworks/Python.framework/Versions/3.10/lib/python3.10/site-packages/sympy/integrals/heurisch.py:733\u001b[0m, in \u001b[0;36mheurisch.<locals>._integrate\u001b[0;34m(field)\u001b[0m\n\u001b[1;32m    731\u001b[0m \u001b[39mexcept\u001b[39;00m \u001b[39mValueError\u001b[39;00m:\n\u001b[1;32m    732\u001b[0m     \u001b[39mraise\u001b[39;00m PolynomialError\n\u001b[0;32m--> 733\u001b[0m solution \u001b[39m=\u001b[39m solve_lin_sys(numer\u001b[39m.\u001b[39;49mcoeffs(), coeff_ring, _raw\u001b[39m=\u001b[39;49m\u001b[39mFalse\u001b[39;49;00m)\n\u001b[1;32m    735\u001b[0m \u001b[39mif\u001b[39;00m solution \u001b[39mis\u001b[39;00m \u001b[39mNone\u001b[39;00m:\n\u001b[1;32m    736\u001b[0m     \u001b[39mreturn\u001b[39;00m \u001b[39mNone\u001b[39;00m\n",
      "File \u001b[0;32m/Library/Frameworks/Python.framework/Versions/3.10/lib/python3.10/site-packages/sympy/polys/solvers.py:279\u001b[0m, in \u001b[0;36msolve_lin_sys\u001b[0;34m(eqs, ring, _raw)\u001b[0m\n\u001b[1;32m    276\u001b[0m     eqs_rhs\u001b[39m.\u001b[39mappend(eq_rhs)\n\u001b[1;32m    277\u001b[0m     eqs_coeffs\u001b[39m.\u001b[39mappend(eq_coeffs)\n\u001b[0;32m--> 279\u001b[0m result \u001b[39m=\u001b[39m _solve_lin_sys(eqs_coeffs, eqs_rhs, ring)\n\u001b[1;32m    281\u001b[0m \u001b[39mif\u001b[39;00m result \u001b[39mis\u001b[39;00m \u001b[39mnot\u001b[39;00m \u001b[39mNone\u001b[39;00m \u001b[39mand\u001b[39;00m as_expr:\n\u001b[1;32m    283\u001b[0m     \u001b[39mdef\u001b[39;00m \u001b[39mto_sympy\u001b[39m(x):\n",
      "File \u001b[0;32m/Library/Frameworks/Python.framework/Versions/3.10/lib/python3.10/site-packages/sympy/polys/solvers.py:357\u001b[0m, in \u001b[0;36m_solve_lin_sys\u001b[0;34m(eqs_coeffs, eqs_rhs, ring)\u001b[0m\n\u001b[1;32m    355\u001b[0m sol \u001b[39m=\u001b[39m {}\n\u001b[1;32m    356\u001b[0m \u001b[39mfor\u001b[39;00m subsystem \u001b[39min\u001b[39;00m subsystems:\n\u001b[0;32m--> 357\u001b[0m     subsol \u001b[39m=\u001b[39m _solve_lin_sys_component(subsystem[\u001b[39m0\u001b[39;49m], subsystem[\u001b[39m1\u001b[39;49m], ring)\n\u001b[1;32m    358\u001b[0m     \u001b[39mif\u001b[39;00m subsol \u001b[39mis\u001b[39;00m \u001b[39mNone\u001b[39;00m:\n\u001b[1;32m    359\u001b[0m         \u001b[39mreturn\u001b[39;00m \u001b[39mNone\u001b[39;00m\n",
      "File \u001b[0;32m/Library/Frameworks/Python.framework/Versions/3.10/lib/python3.10/site-packages/sympy/polys/solvers.py:405\u001b[0m, in \u001b[0;36m_solve_lin_sys_component\u001b[0;34m(eqs_coeffs, eqs_rhs, ring)\u001b[0m\n\u001b[1;32m    402\u001b[0m     matrix \u001b[39m=\u001b[39m matrix\u001b[39m.\u001b[39mto_field()\n\u001b[1;32m    404\u001b[0m \u001b[39m# solve by row-reduction\u001b[39;00m\n\u001b[0;32m--> 405\u001b[0m echelon, pivots \u001b[39m=\u001b[39m matrix\u001b[39m.\u001b[39;49mrref()\n\u001b[1;32m    407\u001b[0m \u001b[39m# construct the returnable form of the solutions\u001b[39;00m\n\u001b[1;32m    408\u001b[0m keys \u001b[39m=\u001b[39m ring\u001b[39m.\u001b[39mgens\n",
      "File \u001b[0;32m/Library/Frameworks/Python.framework/Versions/3.10/lib/python3.10/site-packages/sympy/polys/matrices/domainmatrix.py:1273\u001b[0m, in \u001b[0;36mDomainMatrix.rref\u001b[0;34m(self)\u001b[0m\n\u001b[1;32m   1271\u001b[0m \u001b[39mif\u001b[39;00m \u001b[39mnot\u001b[39;00m \u001b[39mself\u001b[39m\u001b[39m.\u001b[39mdomain\u001b[39m.\u001b[39mis_Field:\n\u001b[1;32m   1272\u001b[0m     \u001b[39mraise\u001b[39;00m DMNotAField(\u001b[39m'\u001b[39m\u001b[39mNot a field\u001b[39m\u001b[39m'\u001b[39m)\n\u001b[0;32m-> 1273\u001b[0m rref_ddm, pivots \u001b[39m=\u001b[39m \u001b[39mself\u001b[39;49m\u001b[39m.\u001b[39;49mrep\u001b[39m.\u001b[39;49mrref()\n\u001b[1;32m   1274\u001b[0m \u001b[39mreturn\u001b[39;00m \u001b[39mself\u001b[39m\u001b[39m.\u001b[39mfrom_rep(rref_ddm), \u001b[39mtuple\u001b[39m(pivots)\n",
      "File \u001b[0;32m/Library/Frameworks/Python.framework/Versions/3.10/lib/python3.10/site-packages/sympy/polys/matrices/ddm.py:387\u001b[0m, in \u001b[0;36mDDM.rref\u001b[0;34m(a)\u001b[0m\n\u001b[1;32m    385\u001b[0m K \u001b[39m=\u001b[39m a\u001b[39m.\u001b[39mdomain\n\u001b[1;32m    386\u001b[0m partial_pivot \u001b[39m=\u001b[39m K\u001b[39m.\u001b[39mis_RealField \u001b[39mor\u001b[39;00m K\u001b[39m.\u001b[39mis_ComplexField\n\u001b[0;32m--> 387\u001b[0m pivots \u001b[39m=\u001b[39m ddm_irref(b, _partial_pivot\u001b[39m=\u001b[39;49mpartial_pivot)\n\u001b[1;32m    388\u001b[0m \u001b[39mreturn\u001b[39;00m b, pivots\n",
      "File \u001b[0;32m/Library/Frameworks/Python.framework/Versions/3.10/lib/python3.10/site-packages/sympy/polys/matrices/dense.py:123\u001b[0m, in \u001b[0;36mddm_irref\u001b[0;34m(a, _partial_pivot)\u001b[0m\n\u001b[1;32m    121\u001b[0m aij \u001b[39m=\u001b[39m a[ip][j]\n\u001b[1;32m    122\u001b[0m \u001b[39m# row-swap\u001b[39;00m\n\u001b[0;32m--> 123\u001b[0m \u001b[39mif\u001b[39;00m aij:\n\u001b[1;32m    124\u001b[0m     a[i], a[ip] \u001b[39m=\u001b[39m a[ip], a[i]\n\u001b[1;32m    125\u001b[0m     \u001b[39mbreak\u001b[39;00m\n",
      "File \u001b[0;32m/Library/Frameworks/Python.framework/Versions/3.10/lib/python3.10/site-packages/sympy/polys/fields.py:346\u001b[0m, in \u001b[0;36mFracElement.__bool__\u001b[0;34m(f)\u001b[0m\n\u001b[1;32m    343\u001b[0m \u001b[39mdef\u001b[39;00m \u001b[39m__ne__\u001b[39m(f, g):\n\u001b[1;32m    344\u001b[0m     \u001b[39mreturn\u001b[39;00m \u001b[39mnot\u001b[39;00m f \u001b[39m==\u001b[39m g\n\u001b[0;32m--> 346\u001b[0m \u001b[39mdef\u001b[39;00m \u001b[39m__bool__\u001b[39m(f):\n\u001b[1;32m    347\u001b[0m     \u001b[39mreturn\u001b[39;00m \u001b[39mbool\u001b[39m(f\u001b[39m.\u001b[39mnumer)\n\u001b[1;32m    349\u001b[0m \u001b[39mdef\u001b[39;00m \u001b[39msort_key\u001b[39m(\u001b[39mself\u001b[39m):\n",
      "\u001b[0;31mKeyboardInterrupt\u001b[0m: "
     ]
    }
   ],
   "source": [
    "AveDist3 = integrate(WeightedDistance3,(x,0,1),(y,0,1),(z,0,1))"
   ]
  },
  {
   "cell_type": "code",
   "execution_count": null,
   "metadata": {},
   "outputs": [],
   "source": [
    "AveDist3.evalf()"
   ]
  },
  {
   "cell_type": "code",
   "execution_count": null,
   "metadata": {},
   "outputs": [],
   "source": []
  }
 ],
 "metadata": {
  "kernelspec": {
   "display_name": "Python 3",
   "language": "python",
   "name": "python3"
  },
  "language_info": {
   "codemirror_mode": {
    "name": "ipython",
    "version": 3
   },
   "file_extension": ".py",
   "mimetype": "text/x-python",
   "name": "python",
   "nbconvert_exporter": "python",
   "pygments_lexer": "ipython3",
   "version": "3.10.4"
  }
 },
 "nbformat": 4,
 "nbformat_minor": 4
}
